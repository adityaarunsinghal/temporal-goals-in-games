{
 "cells": [
  {
   "cell_type": "code",
   "execution_count": 1,
   "metadata": {},
   "outputs": [
    {
     "name": "stdout",
     "output_type": "stream",
     "text": [
      "[0, 0, 0.369, -0.268, 'triangle', False]\n",
      "[0, 0, -0.469, -0.542, 'crate', False]\n",
      "[0, 0, 0.499, 0.728, 'crate', False]\n",
      "[0, 0, 0.251, 0.95, 'bucket', False]\n",
      "[0, 0, -0.77, 0.507, 'bucket', False]\n",
      "[0, 0, 0, 0, None, True]\n",
      "x_range =  -0.08 0.12000000000000001\n",
      "y_range =  -0.51 -0.31\n",
      "required_percent_of_shots_in_chosen_zone =  0.11\n"
     ]
    }
   ],
   "source": [
    "# !python -m pip install mlagents==0.28.0\n",
    "# !python -m pip install gym\n",
    "# !cd \"/Users/aditya/Documents/GitHub/game_creation_research/ml-agents/gym-unity\" && pip3 install -e .\n",
    "\n",
    "import random\n",
    "import joblib\n",
    "from PlaceAndShootGym import *\n",
    "from GAME_1_SOLVER import *\n",
    "from GAME_2_SOLVER import *\n",
    "from GAME_3_SOLVER import *\n",
    "from GAME_4_SOLVER import *\n",
    "from GAME_5_SOLVER import *\n",
    "from GAME_NULL_SOLVER import *"
   ]
  },
  {
   "cell_type": "code",
   "execution_count": 3,
   "metadata": {},
   "outputs": [],
   "source": [
    "# GAME_1_ENV_PATH = \"/Users/aditya/Documents/GitHub/game_creation_research/Object Physics Sandbox/Code/results/GAME_1_SOLVED.joblib\"\n",
    "# GAME_2_ENV_PATH = \"/Users/aditya/Documents/GitHub/game_creation_research/Object Physics Sandbox/Code/results/GAME_2_SOLVED.joblib\"\n",
    "# GAME_3_ENV_PATH = \"/Users/aditya/Documents/GitHub/game_creation_research/Object Physics Sandbox/Code/results/GAME_3_SOLVED.joblib\"\n",
    "# GAME_4_ENV_PATH = \"/Users/aditya/Documents/GitHub/game_creation_research/Object Physics Sandbox/Code/results/GAME_4_SOLVED.joblib\"\n",
    "GAME_5_ENV_PATH = \"/Users/aditya/Documents/GitHub/game_creation_research/Object Physics Sandbox/Code/results/GAME_5_SOLVED.joblib\"\n",
    "# GAME_NULL_ENV_PATH = \"/Users/aditya/Documents/GitHub/game_creation_research/Object Physics Sandbox/Code/results/GAME_NULL_SOLVED.joblib\"\n",
    "\n",
    "# GAME_1_ENV = joblib.load(GAME_1_ENV_PATH)\n",
    "# GAME_2_ENV = joblib.load(GAME_2_ENV_PATH)\n",
    "# GAME_3_ENV = joblib.load(GAME_3_ENV_PATH)\n",
    "# GAME_4_ENV = joblib.load(GAME_4_ENV_PATH)\n",
    "GAME_5_ENV = joblib.load(GAME_5_ENV_PATH)\n",
    "# GAME_NULL_ENV = joblib.load(GAME_NULL_ENV_PATH)"
   ]
  },
  {
   "cell_type": "code",
   "execution_count": 4,
   "metadata": {},
   "outputs": [],
   "source": [
    "# settings_from_actual_run = {\"setup\": [[0, 0, -0.249, 0.522, 'gear', False],\n",
    "#                                       [0, 0, 0.246, 0.799, 'gear', False],\n",
    "#                                       [0, 0, -0.563, -0.091, 'corner', False],\n",
    "#                                       [0, 0, 0, 0, None, True]],\n",
    "#                             \"x_range\":  (-0.5, -0.3),\n",
    "#                             \"y_range\":  (0.12, 0.32),\n",
    "#                             \"required_percent_of_shots_in_chosen_zone\":  0.23}\n"
   ]
  },
  {
   "cell_type": "code",
   "execution_count": 5,
   "metadata": {},
   "outputs": [],
   "source": [
    "# GAME_NULL_REWARD.__setattr__(\"x_limit\", settings_from_actual_run[\"x_range\"][0])\n",
    "# GAME_NULL_REWARD.__setattr__(\"y_limit\", settings_from_actual_run[\"y_range\"][0])\n",
    "# GAME_NULL_REWARD.__setattr__(\"setup_array\", settings_from_actual_run[\"setup\"])"
   ]
  },
  {
   "cell_type": "code",
   "execution_count": 6,
   "metadata": {},
   "outputs": [
    {
     "name": "stdout",
     "output_type": "stream",
     "text": [
      "Playability GAME 5:  0.0312\n"
     ]
    }
   ],
   "source": [
    "# print(\"Playability GAME 1: \", round(len(GAME_1_ENV.winning_shots)/GAME_1_ENV.num_tries, 4))\n",
    "# print(\"Playability GAME 2: \", round(len(GAME_2_ENV.winning_shots)/GAME_2_ENV.num_tries, 4))\n",
    "# print(\"Playability GAME 3: \", round(len(GAME_3_ENV.winning_shots)/GAME_3_ENV.num_tries, 4))\n",
    "# print(\"Playability GAME 4: \", round(len(GAME_4_ENV.winning_shots)/GAME_4_ENV.num_tries, 4))\n",
    "print(\"Playability GAME 5: \", round(len(GAME_5_ENV.winning_shots)/GAME_5_ENV.num_tries, 4))\n",
    "# print(\"Playability GAME NULL: \", round(len(GAME_NULL_ENV.winning_shots)/GAME_NULL_ENV.num_tries, 5))"
   ]
  },
  {
   "cell_type": "code",
   "execution_count": 16,
   "metadata": {},
   "outputs": [],
   "source": [
    "def replayWinningShots(winning_shots, quiet=False):\n",
    "    for shot in winning_shots:\n",
    "        # reset\n",
    "        env.step([0, 0, 0, 0, 0, 1], quiet=True)\n",
    "        # place\n",
    "        place = Action(shot[\"place_action\"])\n",
    "        place.transformed = True\n",
    "        env.step(place, quiet = quiet)\n",
    "        # shoot\n",
    "        shoot = Action(shot[\"shoot_action\"])\n",
    "        shoot.transformed = True\n",
    "        env.step(shoot, quiet = quiet)\n",
    "        print(f\"Reward: {shot['reward']}\")"
   ]
  },
  {
   "cell_type": "code",
   "execution_count": 21,
   "metadata": {},
   "outputs": [
    {
     "name": "stderr",
     "output_type": "stream",
     "text": [
      "E0512 01:41:55.540046000 4416601600 fork_posix.cc:76]                  Other threads are currently calling into gRPC, skipping fork() handlers\n"
     ]
    },
    {
     "name": "stdout",
     "output_type": "stream",
     "text": [
      "[INFO] Connected to Unity environment with package version 2.2.1-exp.1 and communication version 1.5.0\n",
      "[INFO] Connected new brain: PlaceAndShoot?team=0\n",
      "[WARNING] The environment contains multiple observations. You must define allow_multiple_obs=True to receive them all. Otherwise, only the first visual observation (or vector observation ifthere are no visual observations) will be provided in the observation.\n"
     ]
    }
   ],
   "source": [
    "try:\n",
    "    env.close()\n",
    "except:\n",
    "    pass\n",
    "\n",
    "SERVER_BUILD = \"../Builds/MLAgent_View_21April22_server.app\"\n",
    "GYM_BUILD = \"../Builds/Gym_View_12May22.app\"\n",
    "\n",
    "channel = EngineConfigurationChannel()\n",
    "channel.set_configuration_parameters(time_scale=1, quality_level=0)\n",
    "unity_env = UnityEnvironment(\n",
    "    file_name=GYM_BUILD, seed=1, side_channels=[channel], worker_id=2)\n",
    "\n",
    "# unity_env = UnityEnvironment()\n",
    "\n",
    "unity_env.reset()\n",
    "gym_env = UnityToGymWrapper(unity_env, allow_multiple_obs=False)\n",
    "env = GAME_5_ENV\n",
    "env.gym_env = gym_env\n"
   ]
  },
  {
   "cell_type": "code",
   "execution_count": 22,
   "metadata": {},
   "outputs": [
    {
     "data": {
      "text/plain": [
       "array([-3.825    , -4.0499997,  6.75     , -3.5      ,  6.75     ,\n",
       "        2.5      ,  6.75     , -0.65     ,  6.75     , -2.       ,\n",
       "        0.       , -3.9      ,  0.       , -0.       , -1.       ,\n",
       "        1.       ], dtype=float32)"
      ]
     },
     "execution_count": 22,
     "metadata": {},
     "output_type": "execute_result"
    }
   ],
   "source": [
    "env.setup(GAME_5_ENV.setup_array)"
   ]
  },
  {
   "cell_type": "code",
   "execution_count": 23,
   "metadata": {},
   "outputs": [
    {
     "data": {
      "text/plain": [
       "{'place_action': (0.5, 0, 0, 0, 0, 0),\n",
       " 'shoot_action': (-0.5, 0.0, 0, 0, 0, 0),\n",
       " 'reward': 1.0}"
      ]
     },
     "execution_count": 23,
     "metadata": {},
     "output_type": "execute_result"
    }
   ],
   "source": [
    "GAME_5_ENV.winning_shots[0]"
   ]
  },
  {
   "cell_type": "code",
   "execution_count": 24,
   "metadata": {},
   "outputs": [],
   "source": [
    "# shots_to_play = random.sample(GAME_5_ENV.winning_shots, 50)\n",
    "shots_to_play = GAME_5_ENV.winning_shots\n",
    "replayWinningShots(shots_to_play, quiet = False)"
   ]
  },
  {
   "cell_type": "code",
   "execution_count": 15,
   "metadata": {},
   "outputs": [],
   "source": [
    "rewards = [shot[\"reward\"] for shot in GAME_NULL_ENV.winning_shots]"
   ]
  },
  {
   "cell_type": "code",
   "execution_count": 18,
   "metadata": {},
   "outputs": [
    {
     "data": {
      "text/plain": [
       "(array([44., 18., 17., 17., 10.,  7.,  3.,  1.,  4.,  8.]),\n",
       " array([0.00497512, 0.01447761, 0.0239801 , 0.03348259, 0.04298507,\n",
       "        0.05248756, 0.06199005, 0.07149254, 0.08099502, 0.09049751,\n",
       "        0.1       ]),\n",
       " <BarContainer object of 10 artists>)"
      ]
     },
     "execution_count": 18,
     "metadata": {},
     "output_type": "execute_result"
    },
    {
     "data": {
      "image/png": "[encoded data removed]",
      "text/plain": [
       "<Figure size 432x288 with 1 Axes>"
      ]
     },
     "metadata": {
      "needs_background": "light"
     },
     "output_type": "display_data"
    }
   ],
   "source": [
    "import matplotlib.pyplot as plt\n",
    "plt.hist(rewards)"
   ]
  },
  {
   "cell_type": "code",
   "execution_count": 11,
   "metadata": {},
   "outputs": [],
   "source": [
    "env.close()"
   ]
  },
  {
   "cell_type": "code",
   "execution_count": null,
   "metadata": {},
   "outputs": [],
   "source": [
    "# env.reset()\n"
   ]
  }
 ],
 "metadata": {
  "interpreter": {
   "hash": "e9ca164c7b3bd0bb50cde96947fba4327d4d875f8b3488ae3586fafde6fb5019"
  },
  "kernelspec": {
   "display_name": "Python 3.8.2 ('introml_conda')",
   "language": "python",
   "name": "python3"
  },
  "language_info": {
   "codemirror_mode": {
    "name": "ipython",
    "version": 3
   },
   "file_extension": ".py",
   "mimetype": "text/x-python",
   "name": "python",
   "nbconvert_exporter": "python",
   "pygments_lexer": "ipython3",
   "version": "3.8.2"
  },
  "orig_nbformat": 4
 },
 "nbformat": 4,
 "nbformat_minor": 2
}
