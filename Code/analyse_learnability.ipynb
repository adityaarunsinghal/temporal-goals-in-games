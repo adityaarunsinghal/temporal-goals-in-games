{
 "cells": [
  {
   "cell_type": "code",
   "execution_count": 1,
   "metadata": {},
   "outputs": [],
   "source": [
    "import warnings\n",
    "warnings.filterwarnings(\"ignore\")"
   ]
  },
  {
   "cell_type": "code",
   "execution_count": 2,
   "metadata": {},
   "outputs": [],
   "source": [
    "# import sys\n",
    "# sys.executable = \"/scratch/as11919/.conda/envs/tf_baselines_games/bin/python\"\n",
    "# sys.path += [\"/scratch/as11919/.conda/envs/tf_baselines_games/bin\"]\n",
    "# ! '/scratch/as11919/.conda/envs/tf_baselines_games/bin/python' -m pip install -r requirements.txt\n",
    "\n",
    "import os\n",
    "from mlagents_envs.environment import UnityEnvironment\n",
    "from stable_baselines.common.env_checker import check_env\n",
    "from mlagents_envs.side_channel.engine_configuration_channel import EngineConfigurationChannel\n",
    "from stable_baselines import PPO2\n",
    "# from stable_baselines.common.evaluation import evaluate_policy\n",
    "# from stable_baselines.bench.monitor import Monitor, load_results\n",
    "# from stable_baselines.common.callbacks import CheckpointCallback\n",
    "from GAME_1_SOLVER import *\n",
    "from GAME_2_SOLVER import *\n",
    "from GAME_3_SOLVER import *"
   ]
  },
  {
   "cell_type": "code",
   "execution_count": 3,
   "metadata": {},
   "outputs": [
    {
     "name": "stderr",
     "output_type": "stream",
     "text": [
      "E0510 10:23:09.883943000 4461514240 fork_posix.cc:76]                  Other threads are currently calling into gRPC, skipping fork() handlers\n"
     ]
    },
    {
     "name": "stdout",
     "output_type": "stream",
     "text": [
      "[INFO] Connected to Unity environment with package version 2.2.1-exp.1 and communication version 1.5.0\n",
      "[INFO] Connected new brain: PlaceAndShoot?team=0\n",
      "[WARNING] The environment contains multiple observations. You must define allow_multiple_obs=True to receive them all. Otherwise, only the first visual observation (or vector observation ifthere are no visual observations) will be provided in the observation.\n"
     ]
    }
   ],
   "source": [
    "try:\n",
    "    env.close()\n",
    "except:\n",
    "    pass\n",
    "\n",
    "SERVER_BUILD = \"../Builds/MLAgent_View_21April22_server.app\"\n",
    "GYM_BUILD = \"../Builds/Gym_View_25April22.app\"\n",
    "LINUX_BUILD = '../Builds/Gym_View_26April22_Linux.x86_64'\n",
    "\n",
    "channel = EngineConfigurationChannel()\n",
    "channel.set_configuration_parameters(time_scale=2, quality_level=0)\n",
    "unity_env = UnityEnvironment(\n",
    "    file_name=GYM_BUILD, seed=1, side_channels=[channel], worker_id=0)\n",
    "\n",
    "# unity_env = UnityEnvironment()\n",
    "\n",
    "# Start interacting with the environment.\n",
    "unity_env.reset()\n",
    "gym_env = UnityToGymWrapper(unity_env, allow_multiple_obs=False)\n",
    "env = PlaceAndShootGym(gym_env, reward_fn=GAME_1_REWARD,\n",
    "                        actionTransformer=GAME_1_TRANSFORMER,\n",
    "                       announce_actions=True)"
   ]
  },
  {
   "cell_type": "code",
   "execution_count": 4,
   "metadata": {},
   "outputs": [
    {
     "data": {
      "text/plain": [
       "array([-3.825     , -4.0950003 , -2.4750001 ,  0.45000002, -2.4750001 ,\n",
       "       -1.8000001 ,  6.75      , -0.65      , -2.4750001 ,  2.7       ,\n",
       "        0.        , -3.9       ,  0.        , -0.        , -1.        ,\n",
       "        1.        ], dtype=float32)"
      ]
     },
     "execution_count": 4,
     "metadata": {},
     "output_type": "execute_result"
    }
   ],
   "source": [
    "start_obs = env.setup(GAME_1_SETUP)\n",
    "start_obs"
   ]
  },
  {
   "cell_type": "code",
   "execution_count": 5,
   "metadata": {},
   "outputs": [
    {
     "name": "stdout",
     "output_type": "stream",
     "text": [
      "WARNING:tensorflow:From /opt/anaconda3/envs/tf_baselines_games/lib/python3.7/site-packages/stable_baselines/common/policies.py:561: flatten (from tensorflow.python.layers.core) is deprecated and will be removed in a future version.\n",
      "Instructions for updating:\n",
      "Use keras.layers.flatten instead.\n",
      "WARNING:tensorflow:From /opt/anaconda3/envs/tf_baselines_games/lib/python3.7/site-packages/tensorflow/python/framework/op_def_library.py:263: colocate_with (from tensorflow.python.framework.ops) is deprecated and will be removed in a future version.\n",
      "Instructions for updating:\n",
      "Colocations handled automatically by placer.\n",
      "WARNING:tensorflow:From /opt/anaconda3/envs/tf_baselines_games/lib/python3.7/site-packages/tensorflow/python/ops/math_ops.py:3066: to_int32 (from tensorflow.python.ops.math_ops) is deprecated and will be removed in a future version.\n",
      "Instructions for updating:\n",
      "Use tf.cast instead.\n"
     ]
    }
   ],
   "source": [
    "run_name = \"results/GAME_1/PPO2_GAME_1\"\n",
    "model = PPO2(policy = 'MlpPolicy', env = env)\n",
    "model.load_parameters(run_name)"
   ]
  },
  {
   "cell_type": "code",
   "execution_count": 12,
   "metadata": {},
   "outputs": [
    {
     "name": "stdout",
     "output_type": "stream",
     "text": [
      "[1.0, 1.0, -1.0, -1.0, None, False]\n",
      "[1.0, 1.0, -1.0, 1.0, None, False]\n",
      "[1.0, 1.0, -1.0, 0.617, None, True]\n",
      "[1.0, 1.0, -1.0, -1.0, None, False]\n",
      "[1.0, 1.0, -1.0, 1.0, None, False]\n",
      "[1.0, 1.0, -1.0, 1.0, None, True]\n",
      "[1.0, 1.0, -1.0, 1.0, None, False]\n",
      "[1.0, 1.0, -1.0, 1.0, None, False]\n",
      "[1.0, 1.0, -1.0, 1.0, None, True]\n",
      "[1.0, 0.138, -1.0, 0.706, None, False]\n",
      "[1.0, 1.0, -1.0, 1.0, None, False]\n",
      "[1.0, 1.0, -1.0, 1.0, None, True]\n",
      "[1.0, 1.0, -1.0, -1.0, None, False]\n",
      "[1.0, 1.0, -1.0, -1.0, None, False]\n",
      "[1.0, 1.0, -1.0, 1.0, None, True]\n",
      "[1.0, 1.0, -1.0, -1.0, None, False]\n",
      "[0.833, 1.0, -1.0, -1.0, None, False]\n",
      "[1.0, 1.0, -1.0, 1.0, None, True]\n",
      "[1.0, 1.0, -1.0, -1.0, None, False]\n",
      "[1.0, 1.0, -1.0, -1.0, None, False]\n",
      "[1.0, 1.0, -1.0, 1.0, None, True]\n",
      "[-0.074, 1.0, -1.0, -1.0, None, False]\n",
      "[1.0, 1.0, -1.0, -1.0, None, False]\n",
      "[1.0, 1.0, -1.0, 1.0, None, True]\n",
      "[1.0, 1.0, -1.0, 1.0, None, False]\n",
      "[1.0, 1.0, -1.0, -1.0, None, False]\n",
      "[1.0, 1.0, -1.0, 1.0, None, True]\n",
      "[1.0, 1.0, -1.0, 1.0, None, False]\n",
      "[1.0, 1.0, -1.0, 1.0, None, False]\n",
      "[1.0, 1.0, -1.0, 1.0, None, True]\n",
      "[1.0, 1.0, -1.0, -1.0, None, False]\n",
      "[1.0, 1.0, -1.0, 1.0, None, False]\n",
      "[1.0, 1.0, -1.0, 1.0, None, True]\n",
      "[1.0, 1.0, -1.0, -1.0, None, False]\n",
      "[-0.351, 1.0, -1.0, 1.0, None, False]\n",
      "[1.0, 1.0, -1.0, 1.0, None, True]\n",
      "[1.0, 1.0, -1.0, -1.0, None, False]\n",
      "[-0.181, 1.0, -1.0, 1.0, None, False]\n",
      "[1.0, 1.0, -1.0, 1.0, None, True]\n",
      "[1.0, 1.0, -1.0, 1.0, None, False]\n",
      "[1.0, 1.0, -1.0, -0.838, None, False]\n",
      "[1.0, 1.0, -1.0, 0.344, None, True]\n",
      "[1.0, 1.0, -1.0, 1.0, None, False]\n",
      "[1.0, 1.0, -1.0, 1.0, None, False]\n",
      "[-0.249, 1.0, -1.0, 0.633, None, True]\n",
      "[-0.189, 1.0, -1.0, -1.0, None, False]\n",
      "[1.0, 1.0, -1.0, -0.253, None, False]\n",
      "[1.0, 1.0, -1.0, 0.216, None, True]\n",
      "[-0.48, 1.0, -1.0, 1.0, None, False]\n",
      "[1.0, 1.0, -1.0, 1.0, None, False]\n",
      "[1.0, 1.0, -1.0, 1.0, None, True]\n",
      "[-0.111, -1.0, -1.0, -1.0, None, False]\n",
      "[1.0, 1.0, -1.0, -1.0, None, False]\n",
      "[0.598, 1.0, -1.0, 1.0, None, True]\n",
      "[0.452, 1.0, -1.0, 0.587, None, False]\n",
      "[1.0, 1.0, -1.0, -1.0, None, False]\n",
      "[0.22, 1.0, -1.0, -1.0, None, True]\n",
      "[0.685, 1.0, -1.0, 1.0, None, False]\n",
      "[1.0, 1.0, -1.0, -1.0, None, False]\n",
      "[1.0, 1.0, -1.0, -0.85, None, True]\n",
      "[0.678, 1.0, -1.0, -1.0, None, False]\n",
      "[1.0, 1.0, -1.0, -1.0, None, False]\n"
     ]
    }
   ],
   "source": [
    "obs = env.reset()\n",
    "for i in range(10000):\n",
    "    action, _states = model.predict(obs)\n",
    "    if Obs(obs).reset:\n",
    "        action = Action(action)\n",
    "        action.reset = False\n",
    "    obs, rewards, dones, info = env.step(action)"
   ]
  },
  {
   "cell_type": "code",
   "execution_count": 10,
   "metadata": {},
   "outputs": [
    {
     "ename": "TypeError",
     "evalue": "'<=' not supported between instances of 'int' and 'NoneType'",
     "output_type": "error",
     "traceback": [
      "\u001b[0;31m---------------------------------------------------------------------------\u001b[0m",
      "\u001b[0;31mTypeError\u001b[0m                                 Traceback (most recent call last)",
      "\u001b[0;32m/var/folders/xh/lyccyk996l3cr3c7mc5vth500000gp/T/ipykernel_5498/2442542607.py\u001b[0m in \u001b[0;36m<module>\u001b[0;34m\u001b[0m\n\u001b[0;32m----> 1\u001b[0;31m \u001b[0menv\u001b[0m\u001b[0;34m.\u001b[0m\u001b[0mstep\u001b[0m\u001b[0;34m(\u001b[0m\u001b[0;34m[\u001b[0m\u001b[0;36m0.852\u001b[0m\u001b[0;34m,\u001b[0m \u001b[0;36m1.0\u001b[0m\u001b[0;34m,\u001b[0m \u001b[0;34m-\u001b[0m\u001b[0;36m1.0\u001b[0m\u001b[0;34m,\u001b[0m \u001b[0;36m1.0\u001b[0m\u001b[0;34m,\u001b[0m \u001b[0;32mNone\u001b[0m\u001b[0;34m,\u001b[0m \u001b[0;32mTrue\u001b[0m\u001b[0;34m]\u001b[0m\u001b[0;34m)\u001b[0m\u001b[0;34m\u001b[0m\u001b[0;34m\u001b[0m\u001b[0m\n\u001b[0m",
      "\u001b[0;32m~/Documents/GitHub/game_creation_research/Object Physics Sandbox/Code/PlaceAndShootGym.py\u001b[0m in \u001b[0;36mstep\u001b[0;34m(self, action, allow_empty, quiet)\u001b[0m\n\u001b[1;32m    183\u001b[0m         \"\"\"\n\u001b[1;32m    184\u001b[0m         \u001b[0;32mif\u001b[0m \u001b[0mtype\u001b[0m\u001b[0;34m(\u001b[0m\u001b[0maction\u001b[0m\u001b[0;34m)\u001b[0m \u001b[0;34m!=\u001b[0m \u001b[0mAction\u001b[0m\u001b[0;34m:\u001b[0m\u001b[0;34m\u001b[0m\u001b[0;34m\u001b[0m\u001b[0m\n\u001b[0;32m--> 185\u001b[0;31m             \u001b[0maction\u001b[0m \u001b[0;34m=\u001b[0m \u001b[0mAction\u001b[0m\u001b[0;34m(\u001b[0m\u001b[0maction\u001b[0m\u001b[0;34m)\u001b[0m\u001b[0;34m\u001b[0m\u001b[0;34m\u001b[0m\u001b[0m\n\u001b[0m\u001b[1;32m    186\u001b[0m \u001b[0;34m\u001b[0m\u001b[0m\n\u001b[1;32m    187\u001b[0m         \u001b[0;32mif\u001b[0m \u001b[0;32mnot\u001b[0m \u001b[0maction\u001b[0m\u001b[0;34m.\u001b[0m\u001b[0mtransformed\u001b[0m\u001b[0;34m:\u001b[0m\u001b[0;34m\u001b[0m\u001b[0;34m\u001b[0m\u001b[0m\n",
      "\u001b[0;32m~/Documents/GitHub/game_creation_research/Object Physics Sandbox/Code/PlaceAndShootGym.py\u001b[0m in \u001b[0;36m__init__\u001b[0;34m(self, raw_action, force)\u001b[0m\n\u001b[1;32m     71\u001b[0m         \u001b[0mself\u001b[0m\u001b[0;34m.\u001b[0m\u001b[0mobjY\u001b[0m \u001b[0;34m=\u001b[0m \u001b[0mraw_action\u001b[0m\u001b[0;34m[\u001b[0m\u001b[0;36m3\u001b[0m\u001b[0;34m]\u001b[0m\u001b[0;34m\u001b[0m\u001b[0;34m\u001b[0m\u001b[0m\n\u001b[1;32m     72\u001b[0m         \u001b[0mself\u001b[0m\u001b[0;34m.\u001b[0m\u001b[0mrawObjVal\u001b[0m \u001b[0;34m=\u001b[0m \u001b[0mraw_action\u001b[0m\u001b[0;34m[\u001b[0m\u001b[0;36m4\u001b[0m\u001b[0;34m]\u001b[0m\u001b[0;34m\u001b[0m\u001b[0;34m\u001b[0m\u001b[0m\n\u001b[0;32m---> 73\u001b[0;31m         \u001b[0mself\u001b[0m\u001b[0;34m.\u001b[0m\u001b[0mobjIdx\u001b[0m \u001b[0;34m=\u001b[0m \u001b[0mself\u001b[0m\u001b[0;34m.\u001b[0m\u001b[0mmapActionValToDiscreteIdx\u001b[0m\u001b[0;34m(\u001b[0m\u001b[0mself\u001b[0m\u001b[0;34m.\u001b[0m\u001b[0mrawObjVal\u001b[0m\u001b[0;34m)\u001b[0m\u001b[0;34m\u001b[0m\u001b[0;34m\u001b[0m\u001b[0m\n\u001b[0m\u001b[1;32m     74\u001b[0m         \u001b[0;32mif\u001b[0m \u001b[0mself\u001b[0m\u001b[0;34m.\u001b[0m\u001b[0mobjIdx\u001b[0m \u001b[0;34m>=\u001b[0m \u001b[0;36m0\u001b[0m\u001b[0;34m:\u001b[0m\u001b[0;34m\u001b[0m\u001b[0;34m\u001b[0m\u001b[0m\n\u001b[1;32m     75\u001b[0m             \u001b[0mself\u001b[0m\u001b[0;34m.\u001b[0m\u001b[0mobjName\u001b[0m \u001b[0;34m=\u001b[0m \u001b[0mobjectOrder\u001b[0m\u001b[0;34m[\u001b[0m\u001b[0mself\u001b[0m\u001b[0;34m.\u001b[0m\u001b[0mobjIdx\u001b[0m\u001b[0;34m]\u001b[0m\u001b[0;34m\u001b[0m\u001b[0;34m\u001b[0m\u001b[0m\n",
      "\u001b[0;32m~/Documents/GitHub/game_creation_research/Object Physics Sandbox/Code/PlaceAndShootGym.py\u001b[0m in \u001b[0;36mmapActionValToDiscreteIdx\u001b[0;34m(value)\u001b[0m\n\u001b[1;32m    102\u001b[0m     \u001b[0;34m@\u001b[0m\u001b[0mstaticmethod\u001b[0m\u001b[0;34m\u001b[0m\u001b[0;34m\u001b[0m\u001b[0m\n\u001b[1;32m    103\u001b[0m     \u001b[0;32mdef\u001b[0m \u001b[0mmapActionValToDiscreteIdx\u001b[0m\u001b[0;34m(\u001b[0m\u001b[0mvalue\u001b[0m\u001b[0;34m)\u001b[0m\u001b[0;34m:\u001b[0m\u001b[0;34m\u001b[0m\u001b[0;34m\u001b[0m\u001b[0m\n\u001b[0;32m--> 104\u001b[0;31m         \u001b[0;32massert\u001b[0m \u001b[0;34m-\u001b[0m\u001b[0;36m1\u001b[0m \u001b[0;34m<=\u001b[0m \u001b[0mvalue\u001b[0m \u001b[0;34m<=\u001b[0m \u001b[0;36m1\u001b[0m\u001b[0;34m\u001b[0m\u001b[0;34m\u001b[0m\u001b[0m\n\u001b[0m\u001b[1;32m    105\u001b[0m         \u001b[0mvalue\u001b[0m \u001b[0;34m=\u001b[0m \u001b[0mabs\u001b[0m\u001b[0;34m(\u001b[0m\u001b[0mvalue\u001b[0m\u001b[0;34m)\u001b[0m\u001b[0;34m\u001b[0m\u001b[0;34m\u001b[0m\u001b[0m\n\u001b[1;32m    106\u001b[0m         \u001b[0mvalue\u001b[0m \u001b[0;34m*=\u001b[0m \u001b[0;36m5.49\u001b[0m\u001b[0;34m\u001b[0m\u001b[0;34m\u001b[0m\u001b[0m\n",
      "\u001b[0;31mTypeError\u001b[0m: '<=' not supported between instances of 'int' and 'NoneType'"
     ]
    }
   ],
   "source": [
    "env.step([0.852, 1.0, -1.0, 1.0, 0, 1])"
   ]
  },
  {
   "cell_type": "code",
   "execution_count": 10,
   "metadata": {},
   "outputs": [],
   "source": [
    "env.close()"
   ]
  },
  {
   "cell_type": "code",
   "execution_count": null,
   "metadata": {},
   "outputs": [],
   "source": []
  }
 ],
 "metadata": {
  "interpreter": {
   "hash": "1cf7439ac7df1ba1a92d0905f745460affd9332d995995772ad64f69e78007a4"
  },
  "kernelspec": {
   "display_name": "Python 3.7.13 ('tf_baselines_games')",
   "language": "python",
   "name": "python3"
  },
  "language_info": {
   "codemirror_mode": {
    "name": "ipython",
    "version": 3
   },
   "file_extension": ".py",
   "mimetype": "text/x-python",
   "name": "python",
   "nbconvert_exporter": "python",
   "pygments_lexer": "ipython3",
   "version": "3.7.13"
  },
  "orig_nbformat": 4
 },
 "nbformat": 4,
 "nbformat_minor": 2
}
