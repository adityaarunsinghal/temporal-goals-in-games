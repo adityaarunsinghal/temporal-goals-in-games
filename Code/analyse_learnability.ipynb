{
 "cells": [
  {
   "cell_type": "code",
   "execution_count": 1,
   "metadata": {},
   "outputs": [],
   "source": [
    "import warnings\n",
    "warnings.filterwarnings(\"ignore\")"
   ]
  },
  {
   "cell_type": "code",
   "execution_count": 2,
   "metadata": {},
   "outputs": [],
   "source": [
    "# import sys\n",
    "# sys.executable = \"/scratch/as11919/.conda/envs/tf_baselines_games/bin/python\"\n",
    "# sys.path += [\"/scratch/as11919/.conda/envs/tf_baselines_games/bin\"]\n",
    "# ! '/scratch/as11919/.conda/envs/tf_baselines_games/bin/python' -m pip install -r requirements.txt\n",
    "\n",
    "import os\n",
    "from mlagents_envs.environment import UnityEnvironment\n",
    "from stable_baselines.common.env_checker import check_env\n",
    "from mlagents_envs.side_channel.engine_configuration_channel import EngineConfigurationChannel\n",
    "from stable_baselines import PPO2\n",
    "from stable_baselines.common.evaluation import evaluate_policy\n",
    "from stable_baselines.bench.monitor import Monitor, load_results\n",
    "from stable_baselines.common.callbacks import CheckpointCallback\n",
    "from GAME_1_SOLVER import *\n",
    "from GAME_2_SOLVER import *\n",
    "from GAME_3_SOLVER import *"
   ]
  },
  {
   "cell_type": "code",
   "execution_count": 4,
   "metadata": {},
   "outputs": [
    {
     "name": "stderr",
     "output_type": "stream",
     "text": [
      "E0505 16:11:48.425029000 4588420608 fork_posix.cc:76]                  Other threads are currently calling into gRPC, skipping fork() handlers\n"
     ]
    },
    {
     "name": "stdout",
     "output_type": "stream",
     "text": [
      "[INFO] Connected to Unity environment with package version 2.2.1-exp.1 and communication version 1.5.0\n",
      "[INFO] Connected new brain: PlaceAndShoot?team=0\n",
      "[WARNING] The environment contains multiple observations. You must define allow_multiple_obs=True to receive them all. Otherwise, only the first visual observation (or vector observation ifthere are no visual observations) will be provided in the observation.\n"
     ]
    }
   ],
   "source": [
    "try:\n",
    "    env.close()\n",
    "except:\n",
    "    pass\n",
    "\n",
    "SERVER_BUILD = \"../Builds/MLAgent_View_21April22_server.app\"\n",
    "GYM_BUILD = \"../Builds/Gym_View_25April22.app\"\n",
    "LINUX_BUILD = '../Builds/Gym_View_26April22_Linux.x86_64'\n",
    "\n",
    "channel = EngineConfigurationChannel()\n",
    "channel.set_configuration_parameters(time_scale=2, quality_level=0)\n",
    "unity_env = UnityEnvironment(\n",
    "    file_name=GYM_BUILD, seed=1, side_channels=[channel], worker_id=0)\n",
    "\n",
    "# unity_env = UnityEnvironment()\n",
    "\n",
    "# Start interacting with the environment.\n",
    "unity_env.reset()\n",
    "gym_env = UnityToGymWrapper(unity_env, allow_multiple_obs=False)\n",
    "env = PlaceAndShootGym(gym_env, reward_fn=GAME_1_REWARD,\n",
    "                        actionTransformer=GAME_1_TRANSFORMER,\n",
    "                       announce_actions=True)"
   ]
  },
  {
   "cell_type": "code",
   "execution_count": 5,
   "metadata": {},
   "outputs": [
    {
     "data": {
      "text/plain": [
       "array([-3.825     , -4.0950003 , -2.4750001 ,  0.45000002, -2.4750001 ,\n",
       "       -1.8000001 ,  6.75      , -0.65      , -2.4750001 ,  2.7       ,\n",
       "        0.        , -3.9       ,  0.        , -0.        , -1.        ,\n",
       "        1.        ], dtype=float32)"
      ]
     },
     "execution_count": 5,
     "metadata": {},
     "output_type": "execute_result"
    }
   ],
   "source": [
    "start_obs = env.setup(GAME_1_SETUP)\n",
    "start_obs"
   ]
  },
  {
   "cell_type": "code",
   "execution_count": 6,
   "metadata": {},
   "outputs": [
    {
     "name": "stdout",
     "output_type": "stream",
     "text": [
      "WARNING:tensorflow:From /opt/anaconda3/envs/tf_baselines_games/lib/python3.7/site-packages/stable_baselines/common/policies.py:561: flatten (from tensorflow.python.layers.core) is deprecated and will be removed in a future version.\n",
      "Instructions for updating:\n",
      "Use keras.layers.flatten instead.\n",
      "WARNING:tensorflow:From /opt/anaconda3/envs/tf_baselines_games/lib/python3.7/site-packages/tensorflow/python/framework/op_def_library.py:263: colocate_with (from tensorflow.python.framework.ops) is deprecated and will be removed in a future version.\n",
      "Instructions for updating:\n",
      "Colocations handled automatically by placer.\n",
      "WARNING:tensorflow:From /opt/anaconda3/envs/tf_baselines_games/lib/python3.7/site-packages/tensorflow/python/ops/math_ops.py:3066: to_int32 (from tensorflow.python.ops.math_ops) is deprecated and will be removed in a future version.\n",
      "Instructions for updating:\n",
      "Use tf.cast instead.\n"
     ]
    }
   ],
   "source": [
    "run_name = \"results/GAME_1/PPO2_GAME_1\"\n",
    "model = PPO2(policy = 'MlpPolicy', env = env)\n",
    "model.load_parameters(run_name)"
   ]
  },
  {
   "cell_type": "code",
   "execution_count": 9,
   "metadata": {},
   "outputs": [
    {
     "name": "stdout",
     "output_type": "stream",
     "text": [
      "[-1.0, -0.22, 0.727, -0.017, 'triangle', True]\n",
      "[-1.0, -1.0, -1.0, 1.0, 'triangle', True]\n",
      "[-0.703, -0.681, -1.0, 1.0, 'triangle', True]\n",
      "[-1.0, -1.0, -0.08, -0.696, 'triangle', True]\n",
      "[-0.332, -1.0, -1.0, 0.236, 'triangle', True]\n",
      "[-1.0, -1.0, -1.0, -0.617, 'triangle', True]\n",
      "[-1.0, -1.0, -1.0, 1.0, 'triangle', True]\n",
      "[-0.548, -1.0, -1.0, -0.701, 'triangle', True]\n",
      "[-1.0, -1.0, -1.0, -1.0, 'triangle', True]\n",
      "[-1.0, -1.0, -1.0, -0.876, 'triangle', True]\n",
      "[-1.0, -1.0, -1.0, -0.629, 'triangle', True]\n",
      "[-1.0, -1.0, -1.0, -0.081, 'triangle', True]\n",
      "[-1.0, -1.0, -0.751, 0.165, 'triangle', True]\n",
      "[-1.0, -0.44, -1.0, 0.352, 'triangle', True]\n",
      "[-0.261, -1.0, -1.0, 0.885, 'triangle', True]\n",
      "[-0.792, 0.394, -1.0, 0.377, 'triangle', True]\n",
      "[-1.0, -1.0, -1.0, 0.1, 'triangle', True]\n",
      "[-1.0, -1.0, -1.0, -0.709, 'triangle', True]\n",
      "[-1.0, -1.0, -1.0, 0.324, 'triangle', True]\n",
      "[-1.0, -1.0, -1.0, -0.271, 'triangle', True]\n",
      "[-1.0, -1.0, -1.0, 1.0, 'triangle', True]\n",
      "[-1.0, -1.0, -1.0, -0.577, 'triangle', True]\n",
      "[-1.0, -1.0, -0.599, 0.673, 'triangle', True]\n",
      "[-1.0, -1.0, -0.947, 0.364, 'triangle', True]\n",
      "[-1.0, -0.49, -1.0, 0.829, 'triangle', True]\n",
      "[-0.53, -1.0, -1.0, 0.512, 'triangle', True]\n",
      "[-1.0, -1.0, -1.0, -0.146, 'triangle', True]\n",
      "[-1.0, -1.0, -1.0, -0.658, 'triangle', True]\n",
      "[-1.0, -0.529, -1.0, -1.0, 'triangle', True]\n",
      "[-1.0, -1.0, -1.0, 0.292, 'triangle', True]\n",
      "[-1.0, -1.0, -1.0, -1.0, 'triangle', True]\n",
      "[-1.0, -1.0, 0.073, 1.0, 'triangle', True]\n",
      "[0.411, -1.0, -1.0, 1.0, 'triangle', True]\n",
      "[-1.0, -0.888, -1.0, 1.0, 'triangle', True]\n",
      "[-0.743, -1.0, -1.0, 1.0, 'triangle', True]\n",
      "[-0.633, -1.0, -1.0, 0.236, 'triangle', True]\n",
      "[-1.0, -1.0, -1.0, -0.813, 'triangle', True]\n",
      "[-0.609, -1.0, -1.0, -0.128, 'triangle', True]\n",
      "[-1.0, -1.0, -1.0, -1.0, 'triangle', True]\n",
      "[-0.023, -1.0, -1.0, 1.0, 'triangle', True]\n",
      "[-1.0, -1.0, -1.0, 1.0, 'triangle', True]\n",
      "[-1.0, -1.0, -1.0, 0.278, 'triangle', True]\n",
      "[-0.136, -1.0, -1.0, -0.115, 'triangle', True]\n",
      "[-0.782, -1.0, -1.0, 0.513, 'triangle', True]\n",
      "[-1.0, -1.0, -1.0, -0.46, 'triangle', True]\n",
      "[-1.0, -1.0, -1.0, -0.159, 'triangle', True]\n",
      "[-1.0, -1.0, -1.0, 0.699, 'triangle', True]\n",
      "[-1.0, -1.0, -1.0, -0.06, 'triangle', True]\n",
      "[-0.088, -1.0, -1.0, -0.168, 'triangle', True]\n",
      "[0.215, -1.0, -1.0, -0.216, 'triangle', True]\n",
      "[-0.49, -1.0, -0.478, 0.59, 'triangle', True]\n",
      "[-1.0, -1.0, -0.641, 1.0, 'triangle', True]\n",
      "[-1.0, -1.0, -0.582, 1.0, 'triangle', True]\n",
      "[-1.0, -1.0, -1.0, 0.29, 'triangle', True]\n",
      "[-1.0, -1.0, -1.0, 0.014, 'triangle', True]\n",
      "[-1.0, -1.0, -1.0, 1.0, 'triangle', True]\n",
      "[-1.0, -1.0, -1.0, 0.639, 'triangle', True]\n",
      "[-1.0, -1.0, -1.0, 0.06, 'triangle', True]\n",
      "[-1.0, -1.0, -0.216, 0.122, 'triangle', True]\n",
      "[-1.0, -1.0, -1.0, 1.0, 'triangle', True]\n",
      "[-1.0, -0.513, -0.973, 1.0, 'triangle', True]\n",
      "[-1.0, -1.0, -1.0, 1.0, 'triangle', True]\n",
      "[-1.0, -1.0, -1.0, -1.0, 'triangle', True]\n",
      "[-1.0, -1.0, 0.199, -0.84, 'triangle', True]\n",
      "[-1.0, -1.0, -1.0, 0.269, 'triangle', True]\n",
      "[-1.0, -1.0, -1.0, 0.456, 'triangle', True]\n",
      "[0.063, -1.0, -1.0, 0.479, 'triangle', True]\n",
      "[-0.5, -1.0, -1.0, 1.0, 'triangle', True]\n",
      "[-1.0, -0.983, -1.0, -1.0, 'triangle', True]\n",
      "[-0.607, -1.0, -1.0, -0.241, 'triangle', True]\n",
      "[-1.0, -1.0, -1.0, 0.13, 'triangle', True]\n",
      "[-1.0, -1.0, -1.0, 0.23, 'triangle', True]\n",
      "[0.519, -1.0, -1.0, 0.425, 'triangle', True]\n",
      "[-1.0, -1.0, -1.0, 1.0, 'triangle', True]\n",
      "[-1.0, -1.0, -1.0, -0.624, 'triangle', True]\n",
      "[-0.537, -1.0, -1.0, 1.0, 'triangle', True]\n",
      "[-1.0, -1.0, 0.225, 1.0, 'triangle', True]\n",
      "[-1.0, -1.0, -1.0, 1.0, 'triangle', True]\n",
      "[-1.0, -1.0, -1.0, -1.0, 'triangle', True]\n",
      "[-1.0, -0.478, -1.0, 0.2, 'triangle', True]\n",
      "[-1.0, -1.0, -1.0, 0.926, 'triangle', True]\n",
      "[-1.0, -1.0, -1.0, 1.0, 'triangle', True]\n",
      "[-1.0, -1.0, -1.0, -1.0, 'triangle', True]\n",
      "[-0.082, -1.0, -1.0, -1.0, 'triangle', True]\n",
      "[-0.798, -1.0, -1.0, 0.03, 'triangle', True]\n",
      "[-1.0, -0.667, -1.0, -1.0, 'triangle', True]\n",
      "[-1.0, -1.0, -1.0, 0.05, 'triangle', True]\n",
      "[-1.0, -1.0, -1.0, 0.328, 'triangle', True]\n",
      "[-1.0, -1.0, -1.0, -0.409, 'triangle', True]\n",
      "[-1.0, -0.883, -1.0, -1.0, 'triangle', True]\n",
      "[-0.527, -1.0, -0.095, 0.399, 'triangle', True]\n",
      "[-1.0, -1.0, -1.0, -0.151, 'triangle', True]\n",
      "[-1.0, -1.0, -1.0, 0.091, 'triangle', True]\n",
      "[0.095, -1.0, -1.0, -1.0, 'triangle', True]\n",
      "[-1.0, 0.039, -0.484, -0.575, 'triangle', True]\n",
      "[-1.0, -0.354, -1.0, -0.528, 'triangle', True]\n",
      "[-1.0, -0.651, -1.0, -0.377, 'triangle', True]\n",
      "[-1.0, -1.0, -1.0, -1.0, 'triangle', True]\n",
      "[-1.0, -1.0, -1.0, 1.0, 'triangle', True]\n",
      "[-1.0, -1.0, -1.0, 0.231, 'triangle', True]\n"
     ]
    }
   ],
   "source": [
    "obs = env.reset()\n",
    "for i in range(100):\n",
    "    action, _states = model.predict(obs)\n",
    "    print(Action(action))\n",
    "    obs, rewards, dones, info = env.step(action)"
   ]
  },
  {
   "cell_type": "code",
   "execution_count": 10,
   "metadata": {},
   "outputs": [],
   "source": [
    "env.close()"
   ]
  },
  {
   "cell_type": "code",
   "execution_count": null,
   "metadata": {},
   "outputs": [],
   "source": []
  }
 ],
 "metadata": {
  "interpreter": {
   "hash": "e9ca164c7b3bd0bb50cde96947fba4327d4d875f8b3488ae3586fafde6fb5019"
  },
  "kernelspec": {
   "display_name": "tf_baselines_games_kernel",
   "language": "python",
   "name": "python3"
  },
  "language_info": {
   "codemirror_mode": {
    "name": "ipython",
    "version": 3
   },
   "file_extension": ".py",
   "mimetype": "text/x-python",
   "name": "python",
   "nbconvert_exporter": "python",
   "pygments_lexer": "ipython3",
   "version": "3.7.13"
  },
  "orig_nbformat": 4
 },
 "nbformat": 4,
 "nbformat_minor": 2
}
