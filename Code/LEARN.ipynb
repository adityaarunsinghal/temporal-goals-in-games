{
 "cells": [
  {
   "cell_type": "markdown",
   "metadata": {},
   "source": [
    "```\n",
    "usage: mlagents-learn [-h] [--env ENV_PATH] [--resume] [--deterministic]\n",
    "                      [--force] [--run-id RUN_ID] [--initialize-from RUN_ID]\n",
    "                      [--seed SEED] [--inference] [--base-port BASE_PORT]\n",
    "                      [--num-envs NUM_ENVS] [--num-areas NUM_AREAS] [--debug]\n",
    "                      [--env-args ...]\n",
    "                      [--max-lifetime-restarts MAX_LIFETIME_RESTARTS]\n",
    "                      [--restarts-rate-limit-n RESTARTS_RATE_LIMIT_N]\n",
    "                      [--restarts-rate-limit-period-s RESTARTS_RATE_LIMIT_PERIOD_S]\n",
    "                      [--torch] [--tensorflow] [--results-dir RESULTS_DIR]\n",
    "                      [--width WIDTH] [--height HEIGHT]\n",
    "                      [--quality-level QUALITY_LEVEL]\n",
    "                      [--time-scale TIME_SCALE]\n",
    "                      [--target-frame-rate TARGET_FRAME_RATE]\n",
    "                      [--capture-frame-rate CAPTURE_FRAME_RATE]\n",
    "                      [--no-graphics] [--torch-device DEVICE]\n",
    "                      [trainer_config_path]\n",
    "```"
   ]
  },
  {
   "cell_type": "code",
   "execution_count": null,
   "metadata": {},
   "outputs": [],
   "source": [
    "SERVER_BUILD = \"../Builds/MLAgent_View_25April22_server.app\"\n",
    "GRAPHICAL_BUILD = \"../Builds/MLAgent_View_25April22.app\""
   ]
  },
  {
   "cell_type": "code",
   "execution_count": null,
   "metadata": {
    "vscode": {
     "languageId": "shellscript"
    }
   },
   "outputs": [],
   "source": [
    "! mlagents-learn \"configs/train.yaml\" \\\n",
    "    --run-id=\"testingNewEnv\" \\\n",
    "    --num-envs=1 \\\n",
    "    --seed=42 \\\n",
    "    --base-port 2 \\\n",
    "    --force\n",
    "    # --time-scale=1 \\"
   ]
  },
  {
   "cell_type": "code",
   "execution_count": null,
   "metadata": {
    "vscode": {
     "languageId": "shellscript"
    }
   },
   "outputs": [],
   "source": [
    "%%bash\n",
    "\n",
    "tensorboard --logdir \"results\" --port 6006"
   ]
  },
  {
   "cell_type": "code",
   "execution_count": 1,
   "metadata": {},
   "outputs": [
    {
     "name": "stdout",
     "output_type": "stream",
     "text": [
      "MADE ALL THE CLASSES\n",
      "MADE ALL GAME 2 FUNCTIONS\n",
      "E0425 21:48:56.934642000 4545957376 fork_posix.cc:76]                  Other threads are currently calling into gRPC, skipping fork() handlers\n",
      "[INFO] Connected to Unity environment with package version 2.2.1-exp.1 and communication version 1.5.0\n",
      "[INFO] Connected new brain: PlaceAndShoot?team=0\n",
      "[WARNING] The environment contains multiple observations. You must define allow_multiple_obs=True to receive them all. Otherwise, only the first visual observation (or vector observation ifthere are no visual observations) will be provided in the observation.\n",
      "/opt/anaconda3/envs/introml_conda/lib/python3.8/site-packages/gym/logger.py:34: UserWarning: \u001b[33mWARN: Box bound precision lowered by casting to float32\u001b[0m\n",
      "  warnings.warn(colorize(\"%s: %s\" % (\"WARN\", msg % args), \"yellow\"))\n",
      "GYM READY\n",
      "CHECKING PLAYABILITY AT step_size: 1\n",
      "Place:\n",
      "[-0.001, 0, 0, 0, None, False]\n",
      "Shoot:\n",
      "[-1.0, -1.0, 0, 0, None, False]\n",
      "Place:\n",
      "[-0.001, 0, 0, 0, None, False]\n",
      "Shoot:\n",
      "[-1.0, 0.0, 0, 0, None, False]\n",
      "Place:\n",
      "[-0.001, 0, 0, 0, None, False]\n",
      "Shoot:\n",
      "[0.0, -1.0, 0, 0, None, False]\n",
      "Place:\n",
      "[-0.001, 0, 0, 0, None, False]\n",
      "Shoot:\n",
      "[0.0, 0.0, 0, 0, None, False]\n",
      "Place:\n",
      "[0.0, 0, 0, 0, None, False]\n",
      "Shoot:\n",
      "[-1.0, -1.0, 0, 0, None, False]\n",
      "Place:\n",
      "[0.0, 0, 0, 0, None, False]\n",
      "Shoot:\n",
      "[-1.0, 0.0, 0, 0, None, False]\n",
      "Place:\n",
      "[0.0, 0, 0, 0, None, False]\n",
      "Shoot:\n",
      "[0.0, -1.0, 0, 0, None, False]\n",
      "Place:\n",
      "[0.0, 0, 0, 0, None, False]\n",
      "Shoot:\n",
      "[0.0, 0.0, 0, 0, None, False]\n",
      "Playable 0 out of 8 times\n",
      "SAVED RUN!\n"
     ]
    }
   ],
   "source": [
    "!python3 \"/Users/aditya/Documents/GitHub/game_creation_research/Object Physics Sandbox/Code/GAME_2_SOLVER.py\""
   ]
  },
  {
   "cell_type": "code",
   "execution_count": null,
   "metadata": {},
   "outputs": [],
   "source": []
  }
 ],
 "metadata": {
  "interpreter": {
   "hash": "e9ca164c7b3bd0bb50cde96947fba4327d4d875f8b3488ae3586fafde6fb5019"
  },
  "kernelspec": {
   "display_name": "Python 3.8.2 ('introml_conda')",
   "language": "python",
   "name": "python3"
  },
  "language_info": {
   "codemirror_mode": {
    "name": "ipython",
    "version": 3
   },
   "file_extension": ".py",
   "mimetype": "text/x-python",
   "name": "python",
   "nbconvert_exporter": "python",
   "pygments_lexer": "ipython3",
   "version": "3.8.2"
  },
  "orig_nbformat": 4
 },
 "nbformat": 4,
 "nbformat_minor": 2
}
