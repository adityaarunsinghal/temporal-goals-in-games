{
 "cells": [
  {
   "cell_type": "markdown",
   "metadata": {},
   "source": [
    "```\n",
    "usage: mlagents-learn [-h] [--env ENV_PATH] [--resume] [--deterministic]\n",
    "                      [--force] [--run-id RUN_ID] [--initialize-from RUN_ID]\n",
    "                      [--seed SEED] [--inference] [--base-port BASE_PORT]\n",
    "                      [--num-envs NUM_ENVS] [--num-areas NUM_AREAS] [--debug]\n",
    "                      [--env-args ...]\n",
    "                      [--max-lifetime-restarts MAX_LIFETIME_RESTARTS]\n",
    "                      [--restarts-rate-limit-n RESTARTS_RATE_LIMIT_N]\n",
    "                      [--restarts-rate-limit-period-s RESTARTS_RATE_LIMIT_PERIOD_S]\n",
    "                      [--torch] [--tensorflow] [--results-dir RESULTS_DIR]\n",
    "                      [--width WIDTH] [--height HEIGHT]\n",
    "                      [--quality-level QUALITY_LEVEL]\n",
    "                      [--time-scale TIME_SCALE]\n",
    "                      [--target-frame-rate TARGET_FRAME_RATE]\n",
    "                      [--capture-frame-rate CAPTURE_FRAME_RATE]\n",
    "                      [--no-graphics] [--torch-device DEVICE]\n",
    "                      [trainer_config_path]\n",
    "```"
   ]
  },
  {
   "cell_type": "code",
   "execution_count": null,
   "metadata": {},
   "outputs": [],
   "source": [
    "SERVER_BUILD = \"../Builds/MLAgent_View_25April22_server.app\"\n",
    "GRAPHICAL_BUILD = \"../Builds/MLAgent_View_25April22.app\""
   ]
  },
  {
   "cell_type": "code",
   "execution_count": null,
   "metadata": {
    "vscode": {
     "languageId": "shellscript"
    }
   },
   "outputs": [],
   "source": [
    "! mlagents-learn \"configs/train.yaml\" \\\n",
    "    --run-id=\"testingNewEnv\" \\\n",
    "    --num-envs=1 \\\n",
    "    --seed=42 \\\n",
    "    --base-port 2 \\\n",
    "    --force\n",
    "    # --time-scale=1 \\"
   ]
  },
  {
   "cell_type": "code",
   "execution_count": 1,
   "metadata": {
    "vscode": {
     "languageId": "shellscript"
    }
   },
   "outputs": [
    {
     "name": "stdout",
     "output_type": "stream",
     "text": [
      "TensorFlow installation not found - running with reduced feature set.\n",
      "\n",
      "NOTE: Using experimental fast data loading logic. To disable, pass\n",
      "    \"--load_fast=false\" and report issues on GitHub. More details:\n",
      "    https://github.com/tensorflow/tensorboard/issues/4784\n",
      "\n",
      "E0427 16:49:34.967089 4509998592 program.py:298] TensorBoard could not bind to port 6006, it was already in use\n",
      "ERROR: TensorBoard could not bind to port 6006, it was already in use\n"
     ]
    }
   ],
   "source": [
    "! tensorboard --logdir \"results\" --port 6006"
   ]
  },
  {
   "cell_type": "code",
   "execution_count": null,
   "metadata": {},
   "outputs": [],
   "source": []
  }
 ],
 "metadata": {
  "interpreter": {
   "hash": "e9ca164c7b3bd0bb50cde96947fba4327d4d875f8b3488ae3586fafde6fb5019"
  },
  "kernelspec": {
   "display_name": "Python 3.8.2 ('introml_conda')",
   "language": "python",
   "name": "python3"
  },
  "language_info": {
   "codemirror_mode": {
    "name": "ipython",
    "version": 3
   },
   "file_extension": ".py",
   "mimetype": "text/x-python",
   "name": "python",
   "nbconvert_exporter": "python",
   "pygments_lexer": "ipython3",
   "version": "3.7.13"
  },
  "orig_nbformat": 4
 },
 "nbformat": 4,
 "nbformat_minor": 2
}
