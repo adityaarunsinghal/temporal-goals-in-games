{
 "cells": [
  {
   "cell_type": "markdown",
   "metadata": {},
   "source": [
    "```\n",
    "usage: mlagents-learn [-h] [--env ENV_PATH] [--resume] [--deterministic]\n",
    "                      [--force] [--run-id RUN_ID] [--initialize-from RUN_ID]\n",
    "                      [--seed SEED] [--inference] [--base-port BASE_PORT]\n",
    "                      [--num-envs NUM_ENVS] [--num-areas NUM_AREAS] [--debug]\n",
    "                      [--env-args ...]\n",
    "                      [--max-lifetime-restarts MAX_LIFETIME_RESTARTS]\n",
    "                      [--restarts-rate-limit-n RESTARTS_RATE_LIMIT_N]\n",
    "                      [--restarts-rate-limit-period-s RESTARTS_RATE_LIMIT_PERIOD_S]\n",
    "                      [--torch] [--tensorflow] [--results-dir RESULTS_DIR]\n",
    "                      [--width WIDTH] [--height HEIGHT]\n",
    "                      [--quality-level QUALITY_LEVEL]\n",
    "                      [--time-scale TIME_SCALE]\n",
    "                      [--target-frame-rate TARGET_FRAME_RATE]\n",
    "                      [--capture-frame-rate CAPTURE_FRAME_RATE]\n",
    "                      [--no-graphics] [--torch-device DEVICE]\n",
    "                      [trainer_config_path]\n",
    "```"
   ]
  },
  {
   "cell_type": "code",
   "execution_count": null,
   "metadata": {},
   "outputs": [],
   "source": [
    "SERVER_BUILD = \"../Builds/MLAgent_View_25April22_server.app\"\n",
    "GRAPHICAL_BUILD = \"../Builds/MLAgent_View_25April22.app\""
   ]
  },
  {
   "cell_type": "code",
   "execution_count": null,
   "metadata": {
    "vscode": {
     "languageId": "shellscript"
    }
   },
   "outputs": [],
   "source": [
    "! mlagents-learn \"configs/train.yaml\" \\\n",
    "    --run-id=\"testingNewEnv\" \\\n",
    "    --num-envs=1 \\\n",
    "    --seed=42 \\\n",
    "    --base-port 2 \\\n",
    "    --force\n",
    "    # --time-scale=1 \\"
   ]
  },
  {
   "cell_type": "code",
   "execution_count": null,
   "metadata": {},
   "outputs": [],
   "source": [
    "import warnings\n",
    "warnings.filterwarnings(\"ignore\")"
   ]
  },
  {
   "cell_type": "code",
   "execution_count": 1,
   "metadata": {
    "vscode": {
     "languageId": "shellscript"
    }
   },
   "outputs": [
    {
     "name": "stdout",
     "output_type": "stream",
     "text": [
      "/opt/anaconda3/envs/tf_baselines_games/lib/python3.7/site-packages/tensorflow/python/framework/dtypes.py:526: FutureWarning: Passing (type, 1) or '1type' as a synonym of type is deprecated; in a future version of numpy, it will be understood as (type, (1,)) / '(1,)type'.\n",
      "  _np_qint8 = np.dtype([(\"qint8\", np.int8, 1)])\n",
      "/opt/anaconda3/envs/tf_baselines_games/lib/python3.7/site-packages/tensorflow/python/framework/dtypes.py:527: FutureWarning: Passing (type, 1) or '1type' as a synonym of type is deprecated; in a future version of numpy, it will be understood as (type, (1,)) / '(1,)type'.\n",
      "  _np_quint8 = np.dtype([(\"quint8\", np.uint8, 1)])\n",
      "/opt/anaconda3/envs/tf_baselines_games/lib/python3.7/site-packages/tensorflow/python/framework/dtypes.py:528: FutureWarning: Passing (type, 1) or '1type' as a synonym of type is deprecated; in a future version of numpy, it will be understood as (type, (1,)) / '(1,)type'.\n",
      "  _np_qint16 = np.dtype([(\"qint16\", np.int16, 1)])\n",
      "/opt/anaconda3/envs/tf_baselines_games/lib/python3.7/site-packages/tensorflow/python/framework/dtypes.py:529: FutureWarning: Passing (type, 1) or '1type' as a synonym of type is deprecated; in a future version of numpy, it will be understood as (type, (1,)) / '(1,)type'.\n",
      "  _np_quint16 = np.dtype([(\"quint16\", np.uint16, 1)])\n",
      "/opt/anaconda3/envs/tf_baselines_games/lib/python3.7/site-packages/tensorflow/python/framework/dtypes.py:530: FutureWarning: Passing (type, 1) or '1type' as a synonym of type is deprecated; in a future version of numpy, it will be understood as (type, (1,)) / '(1,)type'.\n",
      "  _np_qint32 = np.dtype([(\"qint32\", np.int32, 1)])\n",
      "/opt/anaconda3/envs/tf_baselines_games/lib/python3.7/site-packages/tensorflow/python/framework/dtypes.py:535: FutureWarning: Passing (type, 1) or '1type' as a synonym of type is deprecated; in a future version of numpy, it will be understood as (type, (1,)) / '(1,)type'.\n",
      "  np_resource = np.dtype([(\"resource\", np.ubyte, 1)])\n",
      "/opt/anaconda3/envs/tf_baselines_games/lib/python3.7/site-packages/tensorboard/compat/tensorflow_stub/dtypes.py:541: FutureWarning: Passing (type, 1) or '1type' as a synonym of type is deprecated; in a future version of numpy, it will be understood as (type, (1,)) / '(1,)type'.\n",
      "  _np_qint8 = np.dtype([(\"qint8\", np.int8, 1)])\n",
      "/opt/anaconda3/envs/tf_baselines_games/lib/python3.7/site-packages/tensorboard/compat/tensorflow_stub/dtypes.py:542: FutureWarning: Passing (type, 1) or '1type' as a synonym of type is deprecated; in a future version of numpy, it will be understood as (type, (1,)) / '(1,)type'.\n",
      "  _np_quint8 = np.dtype([(\"quint8\", np.uint8, 1)])\n",
      "/opt/anaconda3/envs/tf_baselines_games/lib/python3.7/site-packages/tensorboard/compat/tensorflow_stub/dtypes.py:543: FutureWarning: Passing (type, 1) or '1type' as a synonym of type is deprecated; in a future version of numpy, it will be understood as (type, (1,)) / '(1,)type'.\n",
      "  _np_qint16 = np.dtype([(\"qint16\", np.int16, 1)])\n",
      "/opt/anaconda3/envs/tf_baselines_games/lib/python3.7/site-packages/tensorboard/compat/tensorflow_stub/dtypes.py:544: FutureWarning: Passing (type, 1) or '1type' as a synonym of type is deprecated; in a future version of numpy, it will be understood as (type, (1,)) / '(1,)type'.\n",
      "  _np_quint16 = np.dtype([(\"quint16\", np.uint16, 1)])\n",
      "/opt/anaconda3/envs/tf_baselines_games/lib/python3.7/site-packages/tensorboard/compat/tensorflow_stub/dtypes.py:545: FutureWarning: Passing (type, 1) or '1type' as a synonym of type is deprecated; in a future version of numpy, it will be understood as (type, (1,)) / '(1,)type'.\n",
      "  _np_qint32 = np.dtype([(\"qint32\", np.int32, 1)])\n",
      "/opt/anaconda3/envs/tf_baselines_games/lib/python3.7/site-packages/tensorboard/compat/tensorflow_stub/dtypes.py:550: FutureWarning: Passing (type, 1) or '1type' as a synonym of type is deprecated; in a future version of numpy, it will be understood as (type, (1,)) / '(1,)type'.\n",
      "  np_resource = np.dtype([(\"resource\", np.ubyte, 1)])\n",
      "TensorBoard 1.13.1 at http://Apples-MacBook-Pro.local:6006 (Press CTRL+C to quit)\n",
      "I0510 10:20:00.038388 123145456443392 _internal.py:224] ::1 - - [10/May/2022 10:20:00] \"GET / HTTP/1.1\" 200 -\n",
      "I0510 10:20:01.118181 123145461698560 _internal.py:224] ::1 - - [10/May/2022 10:20:01] \"GET /font-roboto/oMMgfZMQthOryQo9n22dcuvvDin1pK8aKteLpeZ5c0A.woff2 HTTP/1.1\" 200 -\n",
      "I0510 10:20:02.253562 123145456443392 _internal.py:224] ::1 - - [10/May/2022 10:20:02] \"GET /tf-interactive-inference-dashboard/editedexample.png HTTP/1.1\" 200 -\n",
      "I0510 10:20:02.256207 123145461698560 _internal.py:224] ::1 - - [10/May/2022 10:20:02] \"GET /tf-interactive-inference-dashboard/distance.png HTTP/1.1\" 200 -\n",
      "I0510 10:20:02.259568 123145456443392 _internal.py:224] ::1 - - [10/May/2022 10:20:02] \"GET /tf-interactive-inference-dashboard/explorecounterfactuals.png HTTP/1.1\" 200 -\n",
      "I0510 10:20:02.263072 123145461698560 _internal.py:224] ::1 - - [10/May/2022 10:20:02] \"GET /tf-interactive-inference-dashboard/pdplots.png HTTP/1.1\" 200 -\n",
      "I0510 10:20:02.268051 123145466953728 _internal.py:224] ::1 - - [10/May/2022 10:20:02] \"GET /data/plugins_listing HTTP/1.1\" 200 -\n",
      "I0510 10:20:02.269116 123145472208896 _internal.py:224] ::1 - - [10/May/2022 10:20:02] \"GET /data/environment HTTP/1.1\" 200 -\n",
      "I0510 10:20:02.271807 123145456443392 _internal.py:224] ::1 - - [10/May/2022 10:20:02] \"GET /data/runs HTTP/1.1\" 200 -\n",
      "I0510 10:20:02.284220 123145461698560 _internal.py:224] ::1 - - [10/May/2022 10:20:02] \"GET /data/experiments HTTP/1.1\" 200 -\n",
      "I0510 10:20:02.454839 123145456443392 _internal.py:224] ::1 - - [10/May/2022 10:20:02] \"GET /data/plugins_listing HTTP/1.1\" 200 -\n",
      "I0510 10:20:02.479948 123145456443392 _internal.py:224] ::1 - - [10/May/2022 10:20:02] \"GET /font-roboto/RxZJdnzeo3R5zSexge8UUZBw1xU1rKptJj_0jans920.woff2 HTTP/1.1\" 200 -\n",
      "I0510 10:20:02.509696 123145456443392 _internal.py:224] ::1 - - [10/May/2022 10:20:02] \"GET /data/environment HTTP/1.1\" 200 -\n",
      "I0510 10:20:02.517058 123145461698560 _internal.py:224] ::1 - - [10/May/2022 10:20:02] \"GET /data/runs HTTP/1.1\" 200 -\n",
      "I0510 10:20:02.519194 123145456443392 _internal.py:224] ::1 - - [10/May/2022 10:20:02] \"GET /data/experiments HTTP/1.1\" 200 -\n",
      "I0510 10:20:02.911634 123145456443392 _internal.py:224] ::1 - - [10/May/2022 10:20:02] \"GET /data/plugin/text/tags HTTP/1.1\" 200 -\n",
      "I0510 10:20:03.236704 123145456443392 _internal.py:224] ::1 - - [10/May/2022 10:20:03] \"GET /data/plugin/text/tags HTTP/1.1\" 200 -\n",
      "I0510 10:20:03.268478 123145456443392 _internal.py:224] ::1 - - [10/May/2022 10:20:03] \"GET /font-roboto/d-6IYplOFocCacKzxwXSOJBw1xU1rKptJj_0jans920.woff2 HTTP/1.1\" 200 -\n",
      "I0510 10:20:09.028635 123145456443392 _internal.py:224] ::1 - - [10/May/2022 10:20:09] \"GET /data/plugin/scalars/tags HTTP/1.1\" 200 -\n",
      "I0510 10:20:09.484047 123145456443392 _internal.py:224] ::1 - - [10/May/2022 10:20:09] \"GET /data/plugin/scalars/scalars?tag=input_info%2Fadvantage&run=tensorboard%2FPPO2_1&experiment= HTTP/1.1\" 200 -\n",
      "I0510 10:20:09.604501 123145466953728 _internal.py:224] ::1 - - [10/May/2022 10:20:09] \"GET /data/plugin/scalars/scalars?tag=input_info%2Fclip_range_vf&run=tensorboard%2FPPO2_1&experiment= HTTP/1.1\" 200 -\n",
      "I0510 10:20:09.621015 123145461698560 _internal.py:224] ::1 - - [10/May/2022 10:20:09] \"GET /data/plugin/scalars/scalars?tag=input_info%2Fclip_range&run=tensorboard%2FPPO2_1&experiment= HTTP/1.1\" 200 -\n",
      "I0510 10:20:09.678683 123145472208896 _internal.py:224] ::1 - - [10/May/2022 10:20:09] \"GET /data/plugin/scalars/scalars?tag=input_info%2Fdiscounted_rewards&run=tensorboard%2FPPO2_1&experiment= HTTP/1.1\" 200 -\n",
      "I0510 10:20:09.794792 123145477464064 _internal.py:224] ::1 - - [10/May/2022 10:20:09] \"GET /data/plugin/scalars/scalars?tag=input_info%2Flearning_rate&run=tensorboard%2FPPO2_1&experiment= HTTP/1.1\" 200 -\n",
      "I0510 10:20:09.915702 123145456443392 _internal.py:224] ::1 - - [10/May/2022 10:20:09] \"GET /data/plugin/scalars/scalars?tag=input_info%2Fold_value_pred&run=tensorboard%2FPPO2_1&experiment= HTTP/1.1\" 200 -\n",
      "I0510 10:20:09.957253 123145493229568 _internal.py:224] ::1 - - [10/May/2022 10:20:09] \"GET /data/plugin/scalars/scalars?tag=loss%2Fclip_factor&run=tensorboard%2FPPO2_1&experiment= HTTP/1.1\" 200 -\n",
      "I0510 10:20:10.030026 123145487974400 _internal.py:224] ::1 - - [10/May/2022 10:20:10] \"GET /data/plugin/scalars/scalars?tag=loss%2Fapproximate_kullback-leibler&run=tensorboard%2FPPO2_1&experiment= HTTP/1.1\" 200 -\n",
      "I0510 10:20:10.041700 123145482719232 _internal.py:224] ::1 - - [10/May/2022 10:20:10] \"GET /data/plugin/scalars/scalars?tag=input_info%2Fold_neglog_action_probability&run=tensorboard%2FPPO2_1&experiment= HTTP/1.1\" 200 -\n",
      "I0510 10:20:10.202149 123145456443392 _internal.py:224] ::1 - - [10/May/2022 10:20:10] \"GET /data/plugin/scalars/scalars?tag=loss%2Fpolicy_gradient_loss&run=tensorboard%2FPPO2_1&experiment= HTTP/1.1\" 200 -\n",
      "I0510 10:20:10.219039 123145461698560 _internal.py:224] ::1 - - [10/May/2022 10:20:10] \"GET /data/plugin/scalars/scalars?tag=loss%2Fentropy_loss&run=tensorboard%2FPPO2_1&experiment= HTTP/1.1\" 200 -\n",
      "I0510 10:20:10.233299 123145466953728 _internal.py:224] ::1 - - [10/May/2022 10:20:10] \"GET /data/plugin/scalars/scalars?tag=loss%2Floss&run=tensorboard%2FPPO2_1&experiment= HTTP/1.1\" 200 -\n",
      "I0510 10:20:10.268074 123145472208896 _internal.py:224] ::1 - - [10/May/2022 10:20:10] \"GET /data/plugin/scalars/scalars?tag=loss%2Fvalue_function_loss&run=tensorboard%2FPPO2_1&experiment= HTTP/1.1\" 200 -\n",
      "I0510 10:20:32.429391 123145466953728 _internal.py:224] ::1 - - [10/May/2022 10:20:32] \"GET /data/environment HTTP/1.1\" 200 -\n",
      "I0510 10:20:32.433210 123145456443392 _internal.py:224] ::1 - - [10/May/2022 10:20:32] \"GET /data/plugins_listing HTTP/1.1\" 200 -\n",
      "I0510 10:20:32.433886 123145477464064 _internal.py:224] ::1 - - [10/May/2022 10:20:32] \"GET /data/runs HTTP/1.1\" 200 -\n",
      "I0510 10:20:32.447722 123145461698560 _internal.py:224] ::1 - - [10/May/2022 10:20:32] \"GET /data/experiments HTTP/1.1\" 200 -\n",
      "I0510 10:20:32.564604 123145456443392 _internal.py:224] ::1 - - [10/May/2022 10:20:32] \"GET /data/plugin/scalars/tags HTTP/1.1\" 200 -\n",
      "I0510 10:20:32.871738 123145461698560 _internal.py:224] ::1 - - [10/May/2022 10:20:32] \"GET /data/plugin/scalars/scalars?tag=input_info%2Fclip_range&run=tensorboard%2FPPO2_1&experiment= HTTP/1.1\" 200 -\n",
      "I0510 10:20:33.013532 123145456443392 _internal.py:224] ::1 - - [10/May/2022 10:20:33] \"GET /data/plugin/scalars/scalars?tag=input_info%2Fadvantage&run=tensorboard%2FPPO2_1&experiment= HTTP/1.1\" 200 -\n",
      "I0510 10:20:33.237546 123145466953728 _internal.py:224] ::1 - - [10/May/2022 10:20:33] \"GET /data/plugin/scalars/scalars?tag=input_info%2Fclip_range_vf&run=tensorboard%2FPPO2_1&experiment= HTTP/1.1\" 200 -\n",
      "I0510 10:20:33.252449 123145472208896 _internal.py:224] ::1 - - [10/May/2022 10:20:33] \"GET /data/plugin/scalars/scalars?tag=input_info%2Fdiscounted_rewards&run=tensorboard%2FPPO2_1&experiment= HTTP/1.1\" 200 -\n",
      "I0510 10:20:33.284856 123145477464064 _internal.py:224] ::1 - - [10/May/2022 10:20:33] \"GET /data/plugin/scalars/scalars?tag=input_info%2Flearning_rate&run=tensorboard%2FPPO2_1&experiment= HTTP/1.1\" 200 -\n",
      "I0510 10:20:33.369603 123145482719232 _internal.py:224] ::1 - - [10/May/2022 10:20:33] \"GET /data/plugin/scalars/scalars?tag=input_info%2Fold_neglog_action_probability&run=tensorboard%2FPPO2_1&experiment= HTTP/1.1\" 200 -\n",
      "I0510 10:20:33.390954 123145461698560 _internal.py:224] ::1 - - [10/May/2022 10:20:33] \"GET /data/plugin/scalars/scalars?tag=input_info%2Fold_value_pred&run=tensorboard%2FPPO2_1&experiment= HTTP/1.1\" 200 -\n",
      "I0510 10:20:33.540493 123145487974400 _internal.py:224] ::1 - - [10/May/2022 10:20:33] \"GET /data/plugin/scalars/scalars?tag=loss%2Fapproximate_kullback-leibler&run=tensorboard%2FPPO2_1&experiment= HTTP/1.1\" 200 -\n",
      "I0510 10:20:33.831845 123145472208896 _internal.py:224] ::1 - - [10/May/2022 10:20:33] \"GET /data/plugin/scalars/scalars?tag=loss%2Fentropy_loss&run=tensorboard%2FPPO2_1&experiment= HTTP/1.1\" 200 -\n",
      "I0510 10:20:33.869936 123145466953728 _internal.py:224] ::1 - - [10/May/2022 10:20:33] \"GET /data/plugin/scalars/scalars?tag=loss%2Floss&run=tensorboard%2FPPO2_1&experiment= HTTP/1.1\" 200 -\n",
      "I0510 10:20:33.910166 123145456443392 _internal.py:224] ::1 - - [10/May/2022 10:20:33] \"GET /data/plugin/scalars/scalars?tag=loss%2Fclip_factor&run=tensorboard%2FPPO2_1&experiment= HTTP/1.1\" 200 -\n",
      "I0510 10:20:33.927186 123145461698560 _internal.py:224] ::1 - - [10/May/2022 10:20:33] \"GET /data/plugin/scalars/scalars?tag=loss%2Fpolicy_gradient_loss&run=tensorboard%2FPPO2_1&experiment= HTTP/1.1\" 200 -\n",
      "I0510 10:20:33.929154 123145477464064 _internal.py:224] ::1 - - [10/May/2022 10:20:33] \"GET /data/plugin/scalars/scalars?tag=loss%2Fvalue_function_loss&run=tensorboard%2FPPO2_1&experiment= HTTP/1.1\" 200 -\n",
      "I0510 10:21:03.129658 123145466953728 _internal.py:224] ::1 - - [10/May/2022 10:21:03] \"GET /data/environment HTTP/1.1\" 200 -\n",
      "I0510 10:21:03.131194 123145456443392 _internal.py:224] ::1 - - [10/May/2022 10:21:03] \"GET /data/plugins_listing HTTP/1.1\" 200 -\n",
      "I0510 10:21:03.132879 123145472208896 _internal.py:224] ::1 - - [10/May/2022 10:21:03] \"GET /data/runs HTTP/1.1\" 200 -\n",
      "I0510 10:21:03.137220 123145461698560 _internal.py:224] ::1 - - [10/May/2022 10:21:03] \"GET /data/experiments HTTP/1.1\" 200 -\n",
      "I0510 10:21:03.165059 123145456443392 _internal.py:224] ::1 - - [10/May/2022 10:21:03] \"GET /data/plugin/scalars/tags HTTP/1.1\" 200 -\n",
      "I0510 10:21:03.403594 123145466953728 _internal.py:224] ::1 - - [10/May/2022 10:21:03] \"GET /data/plugin/scalars/scalars?tag=input_info%2Fclip_range_vf&run=tensorboard%2FPPO2_1&experiment= HTTP/1.1\" 200 -\n",
      "I0510 10:21:03.424407 123145456443392 _internal.py:224] ::1 - - [10/May/2022 10:21:03] \"GET /data/plugin/scalars/scalars?tag=input_info%2Fadvantage&run=tensorboard%2FPPO2_1&experiment= HTTP/1.1\" 200 -\n",
      "I0510 10:21:03.425301 123145461698560 _internal.py:224] ::1 - - [10/May/2022 10:21:03] \"GET /data/plugin/scalars/scalars?tag=input_info%2Fclip_range&run=tensorboard%2FPPO2_1&experiment= HTTP/1.1\" 200 -\n",
      "I0510 10:21:03.468144 123145472208896 _internal.py:224] ::1 - - [10/May/2022 10:21:03] \"GET /data/plugin/scalars/scalars?tag=input_info%2Fdiscounted_rewards&run=tensorboard%2FPPO2_1&experiment= HTTP/1.1\" 200 -\n",
      "I0510 10:21:03.468923 123145477464064 _internal.py:224] ::1 - - [10/May/2022 10:21:03] \"GET /data/plugin/scalars/scalars?tag=input_info%2Flearning_rate&run=tensorboard%2FPPO2_1&experiment= HTTP/1.1\" 200 -\n",
      "I0510 10:21:03.514180 123145482719232 _internal.py:224] ::1 - - [10/May/2022 10:21:03] \"GET /data/plugin/scalars/scalars?tag=input_info%2Fold_neglog_action_probability&run=tensorboard%2FPPO2_1&experiment= HTTP/1.1\" 200 -\n",
      "I0510 10:21:03.546911 123145466953728 _internal.py:224] ::1 - - [10/May/2022 10:21:03] \"GET /data/plugin/scalars/scalars?tag=loss%2Fapproximate_kullback-leibler&run=tensorboard%2FPPO2_1&experiment= HTTP/1.1\" 200 -\n",
      "I0510 10:21:03.586293 123145487974400 _internal.py:224] ::1 - - [10/May/2022 10:21:03] \"GET /data/plugin/scalars/scalars?tag=input_info%2Fold_value_pred&run=tensorboard%2FPPO2_1&experiment= HTTP/1.1\" 200 -\n",
      "I0510 10:21:03.698157 123145456443392 _internal.py:224] ::1 - - [10/May/2022 10:21:03] \"GET /data/plugin/scalars/scalars?tag=loss%2Fclip_factor&run=tensorboard%2FPPO2_1&experiment= HTTP/1.1\" 200 -\n",
      "I0510 10:21:03.720784 123145461698560 _internal.py:224] ::1 - - [10/May/2022 10:21:03] \"GET /data/plugin/scalars/scalars?tag=loss%2Fentropy_loss&run=tensorboard%2FPPO2_1&experiment= HTTP/1.1\" 200 -\n",
      "I0510 10:21:03.809514 123145477464064 _internal.py:224] ::1 - - [10/May/2022 10:21:03] \"GET /data/plugin/scalars/scalars?tag=loss%2Fpolicy_gradient_loss&run=tensorboard%2FPPO2_1&experiment= HTTP/1.1\" 200 -\n",
      "I0510 10:21:03.817075 123145466953728 _internal.py:224] ::1 - - [10/May/2022 10:21:03] \"GET /data/plugin/scalars/scalars?tag=loss%2Fvalue_function_loss&run=tensorboard%2FPPO2_1&experiment= HTTP/1.1\" 200 -\n",
      "I0510 10:21:03.814101 123145472208896 _internal.py:224] ::1 - - [10/May/2022 10:21:03] \"GET /data/plugin/scalars/scalars?tag=loss%2Floss&run=tensorboard%2FPPO2_1&experiment= HTTP/1.1\" 200 -\n",
      "I0510 10:21:34.369392 123145456443392 _internal.py:224] ::1 - - [10/May/2022 10:21:34] \"GET /data/plugins_listing HTTP/1.1\" 200 -\n",
      "I0510 10:21:34.370468 123145466953728 _internal.py:224] ::1 - - [10/May/2022 10:21:34] \"GET /data/environment HTTP/1.1\" 200 -\n",
      "I0510 10:21:34.372544 123145472208896 _internal.py:224] ::1 - - [10/May/2022 10:21:34] \"GET /data/runs HTTP/1.1\" 200 -\n",
      "I0510 10:21:34.440077 123145456443392 _internal.py:224] ::1 - - [10/May/2022 10:21:34] \"GET /data/experiments HTTP/1.1\" 200 -\n",
      "I0510 10:21:34.494342 123145456443392 _internal.py:224] ::1 - - [10/May/2022 10:21:34] \"GET /data/plugin/scalars/tags HTTP/1.1\" 200 -\n",
      "I0510 10:21:34.682542 123145466953728 _internal.py:224] ::1 - - [10/May/2022 10:21:34] \"GET /data/plugin/scalars/scalars?tag=input_info%2Fclip_range_vf&run=tensorboard%2FPPO2_1&experiment= HTTP/1.1\" 200 -\n",
      "I0510 10:21:34.706532 123145456443392 _internal.py:224] ::1 - - [10/May/2022 10:21:34] \"GET /data/plugin/scalars/scalars?tag=input_info%2Fadvantage&run=tensorboard%2FPPO2_1&experiment= HTTP/1.1\" 200 -\n",
      "I0510 10:21:34.754694 123145461698560 _internal.py:224] ::1 - - [10/May/2022 10:21:34] \"GET /data/plugin/scalars/scalars?tag=input_info%2Fclip_range&run=tensorboard%2FPPO2_1&experiment= HTTP/1.1\" 200 -\n",
      "I0510 10:21:34.828247 123145472208896 _internal.py:224] ::1 - - [10/May/2022 10:21:34] \"GET /data/plugin/scalars/scalars?tag=input_info%2Fdiscounted_rewards&run=tensorboard%2FPPO2_1&experiment= HTTP/1.1\" 200 -\n",
      "I0510 10:21:34.873847 123145477464064 _internal.py:224] ::1 - - [10/May/2022 10:21:34] \"GET /data/plugin/scalars/scalars?tag=input_info%2Flearning_rate&run=tensorboard%2FPPO2_1&experiment= HTTP/1.1\" 200 -\n",
      "I0510 10:21:34.874897 123145482719232 _internal.py:224] ::1 - - [10/May/2022 10:21:34] \"GET /data/plugin/scalars/scalars?tag=input_info%2Fold_neglog_action_probability&run=tensorboard%2FPPO2_1&experiment= HTTP/1.1\" 200 -\n",
      "I0510 10:21:34.906924 123145461698560 _internal.py:224] ::1 - - [10/May/2022 10:21:34] \"GET /data/plugin/scalars/scalars?tag=loss%2Fapproximate_kullback-leibler&run=tensorboard%2FPPO2_1&experiment= HTTP/1.1\" 200 -\n",
      "I0510 10:21:35.043599 123145456443392 _internal.py:224] ::1 - - [10/May/2022 10:21:35] \"GET /data/plugin/scalars/scalars?tag=input_info%2Fold_value_pred&run=tensorboard%2FPPO2_1&experiment= HTTP/1.1\" 200 -\n",
      "I0510 10:21:35.220160 123145472208896 _internal.py:224] ::1 - - [10/May/2022 10:21:35] \"GET /data/plugin/scalars/scalars?tag=loss%2Floss&run=tensorboard%2FPPO2_1&experiment= HTTP/1.1\" 200 -\n",
      "I0510 10:21:35.296416 123145466953728 _internal.py:224] ::1 - - [10/May/2022 10:21:35] \"GET /data/plugin/scalars/scalars?tag=loss%2Fclip_factor&run=tensorboard%2FPPO2_1&experiment= HTTP/1.1\" 200 -\n",
      "I0510 10:21:35.297705 123145487974400 _internal.py:224] ::1 - - [10/May/2022 10:21:35] \"GET /data/plugin/scalars/scalars?tag=loss%2Fentropy_loss&run=tensorboard%2FPPO2_1&experiment= HTTP/1.1\" 200 -\n",
      "I0510 10:21:35.358736 123145482719232 _internal.py:224] ::1 - - [10/May/2022 10:21:35] \"GET /data/plugin/scalars/scalars?tag=loss%2Fvalue_function_loss&run=tensorboard%2FPPO2_1&experiment= HTTP/1.1\" 200 -\n",
      "I0510 10:21:35.417421 123145477464064 _internal.py:224] ::1 - - [10/May/2022 10:21:35] \"GET /data/plugin/scalars/scalars?tag=loss%2Fpolicy_gradient_loss&run=tensorboard%2FPPO2_1&experiment= HTTP/1.1\" 200 -\n",
      "I0510 10:22:04.450206 123145456443392 _internal.py:224] ::1 - - [10/May/2022 10:22:04] \"GET /data/plugins_listing HTTP/1.1\" 200 -\n",
      "I0510 10:22:04.454011 123145466953728 _internal.py:224] ::1 - - [10/May/2022 10:22:04] \"GET /data/environment HTTP/1.1\" 200 -\n",
      "I0510 10:22:04.455802 123145461698560 _internal.py:224] ::1 - - [10/May/2022 10:22:04] \"GET /data/runs HTTP/1.1\" 200 -\n",
      "I0510 10:22:04.458021 123145456443392 _internal.py:224] ::1 - - [10/May/2022 10:22:04] \"GET /data/experiments HTTP/1.1\" 200 -\n",
      "I0510 10:22:04.913841 123145456443392 _internal.py:224] ::1 - - [10/May/2022 10:22:04] \"GET /data/plugin/scalars/tags HTTP/1.1\" 200 -\n",
      "I0510 10:22:05.118658 123145456443392 _internal.py:224] ::1 - - [10/May/2022 10:22:05] \"GET /data/plugin/scalars/scalars?tag=input_info%2Fadvantage&run=tensorboard%2FPPO2_1&experiment= HTTP/1.1\" 200 -\n",
      "I0510 10:22:05.256561 123145461698560 _internal.py:224] ::1 - - [10/May/2022 10:22:05] \"GET /data/plugin/scalars/scalars?tag=input_info%2Fclip_range&run=tensorboard%2FPPO2_1&experiment= HTTP/1.1\" 200 -\n",
      "I0510 10:22:05.497667 123145477464064 _internal.py:224] ::1 - - [10/May/2022 10:22:05] \"GET /data/plugin/scalars/scalars?tag=input_info%2Flearning_rate&run=tensorboard%2FPPO2_1&experiment= HTTP/1.1\" 200 -\n",
      "I0510 10:22:05.517585 123145482719232 _internal.py:224] ::1 - - [10/May/2022 10:22:05] \"GET /data/plugin/scalars/scalars?tag=input_info%2Fold_neglog_action_probability&run=tensorboard%2FPPO2_1&experiment= HTTP/1.1\" 200 -\n",
      "I0510 10:22:05.518938 123145456443392 _internal.py:224] ::1 - - [10/May/2022 10:22:05] \"GET /data/plugin/scalars/scalars?tag=loss%2Fapproximate_kullback-leibler&run=tensorboard%2FPPO2_1&experiment= HTTP/1.1\" 200 -\n",
      "I0510 10:22:05.529130 123145472208896 _internal.py:224] ::1 - - [10/May/2022 10:22:05] \"GET /data/plugin/scalars/scalars?tag=input_info%2Fdiscounted_rewards&run=tensorboard%2FPPO2_1&experiment= HTTP/1.1\" 200 -\n",
      "I0510 10:22:05.603664 123145466953728 _internal.py:224] ::1 - - [10/May/2022 10:22:05] \"GET /data/plugin/scalars/scalars?tag=input_info%2Fclip_range_vf&run=tensorboard%2FPPO2_1&experiment= HTTP/1.1\" 200 -\n",
      "I0510 10:22:05.642365 123145487974400 _internal.py:224] ::1 - - [10/May/2022 10:22:05] \"GET /data/plugin/scalars/scalars?tag=input_info%2Fold_value_pred&run=tensorboard%2FPPO2_1&experiment= HTTP/1.1\" 200 -\n",
      "I0510 10:22:05.711834 123145456443392 _internal.py:224] ::1 - - [10/May/2022 10:22:05] \"GET /data/plugin/scalars/scalars?tag=loss%2Floss&run=tensorboard%2FPPO2_1&experiment= HTTP/1.1\" 200 -\n",
      "I0510 10:22:05.823983 123145466953728 _internal.py:224] ::1 - - [10/May/2022 10:22:05] \"GET /data/plugin/scalars/scalars?tag=loss%2Fpolicy_gradient_loss&run=tensorboard%2FPPO2_1&experiment= HTTP/1.1\" 200 -\n",
      "I0510 10:22:05.888146 123145461698560 _internal.py:224] ::1 - - [10/May/2022 10:22:05] \"GET /data/plugin/scalars/scalars?tag=loss%2Fclip_factor&run=tensorboard%2FPPO2_1&experiment= HTTP/1.1\" 200 -\n",
      "I0510 10:22:05.957040 123145477464064 _internal.py:224] ::1 - - [10/May/2022 10:22:05] \"GET /data/plugin/scalars/scalars?tag=loss%2Fentropy_loss&run=tensorboard%2FPPO2_1&experiment= HTTP/1.1\" 200 -\n",
      "I0510 10:22:06.057347 123145456443392 _internal.py:224] ::1 - - [10/May/2022 10:22:06] \"GET /data/plugin/scalars/scalars?tag=loss%2Fvalue_function_loss&run=tensorboard%2FPPO2_1&experiment= HTTP/1.1\" 200 -\n",
      "^C\n"
     ]
    }
   ],
   "source": [
    "! tensorboard --logdir \"results/GAME_1\" --port 6006"
   ]
  },
  {
   "cell_type": "code",
   "execution_count": null,
   "metadata": {},
   "outputs": [],
   "source": []
  }
 ],
 "metadata": {
  "interpreter": {
   "hash": "1cf7439ac7df1ba1a92d0905f745460affd9332d995995772ad64f69e78007a4"
  },
  "kernelspec": {
   "display_name": "Python 3.7.13 ('tf_baselines_games')",
   "language": "python",
   "name": "python3"
  },
  "language_info": {
   "codemirror_mode": {
    "name": "ipython",
    "version": 3
   },
   "file_extension": ".py",
   "mimetype": "text/x-python",
   "name": "python",
   "nbconvert_exporter": "python",
   "pygments_lexer": "ipython3",
   "version": "3.7.13"
  },
  "orig_nbformat": 4
 },
 "nbformat": 4,
 "nbformat_minor": 2
}
