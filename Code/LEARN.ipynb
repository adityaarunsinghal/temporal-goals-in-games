{
 "cells": [
  {
   "cell_type": "markdown",
   "metadata": {},
   "source": [
    "```\n",
    "usage: mlagents-learn [-h] [--env ENV_PATH] [--resume] [--deterministic]\n",
    "                      [--force] [--run-id RUN_ID] [--initialize-from RUN_ID]\n",
    "                      [--seed SEED] [--inference] [--base-port BASE_PORT]\n",
    "                      [--num-envs NUM_ENVS] [--num-areas NUM_AREAS] [--debug]\n",
    "                      [--env-args ...]\n",
    "                      [--max-lifetime-restarts MAX_LIFETIME_RESTARTS]\n",
    "                      [--restarts-rate-limit-n RESTARTS_RATE_LIMIT_N]\n",
    "                      [--restarts-rate-limit-period-s RESTARTS_RATE_LIMIT_PERIOD_S]\n",
    "                      [--torch] [--tensorflow] [--results-dir RESULTS_DIR]\n",
    "                      [--width WIDTH] [--height HEIGHT]\n",
    "                      [--quality-level QUALITY_LEVEL]\n",
    "                      [--time-scale TIME_SCALE]\n",
    "                      [--target-frame-rate TARGET_FRAME_RATE]\n",
    "                      [--capture-frame-rate CAPTURE_FRAME_RATE]\n",
    "                      [--no-graphics] [--torch-device DEVICE]\n",
    "                      [trainer_config_path]\n",
    "```"
   ]
  },
  {
   "cell_type": "code",
   "execution_count": 19,
   "metadata": {},
   "outputs": [
    {
     "name": "stdout",
     "output_type": "stream",
     "text": [
      "\n",
      "            ┐  ╖\n",
      "        ╓╖╬│╡  ││╬╖╖\n",
      "    ╓╖╬│││││┘  ╬│││││╬╖\n",
      " ╖╬│││││╬╜        ╙╬│││││╖╖                               ╗╗╗\n",
      " ╬╬╬╬╖││╦╖        ╖╬││╗╣╣╣╬      ╟╣╣╬    ╟╣╣╣             ╜╜╜  ╟╣╣\n",
      " ╬╬╬╬╬╬╬╬╖│╬╖╖╓╬╪│╓╣╣╣╣╣╣╣╬      ╟╣╣╬    ╟╣╣╣ ╒╣╣╖╗╣╣╣╗   ╣╣╣ ╣╣╣╣╣╣ ╟╣╣╖   ╣╣╣\n",
      " ╬╬╬╬┐  ╙╬╬╬╬│╓╣╣╣╝╜  ╫╣╣╣╬      ╟╣╣╬    ╟╣╣╣ ╟╣╣╣╙ ╙╣╣╣  ╣╣╣ ╙╟╣╣╜╙  ╫╣╣  ╟╣╣\n",
      " ╬╬╬╬┐     ╙╬╬╣╣      ╫╣╣╣╬      ╟╣╣╬    ╟╣╣╣ ╟╣╣╬   ╣╣╣  ╣╣╣  ╟╣╣     ╣╣╣┌╣╣╜\n",
      " ╬╬╬╜       ╬╬╣╣      ╙╝╣╣╬      ╙╣╣╣╗╖╓╗╣╣╣╜ ╟╣╣╬   ╣╣╣  ╣╣╣  ╟╣╣╦╓    ╣╣╣╣╣\n",
      " ╙   ╓╦╖    ╬╬╣╣   ╓╗╗╖            ╙╝╣╣╣╣╝╜   ╘╝╝╜   ╝╝╝  ╝╝╝   ╙╣╣╣    ╟╣╣╣\n",
      "   ╩╬╬╬╬╬╬╦╦╬╬╣╣╗╣╣╣╣╣╣╣╝                                             ╫╣╣╣╣\n",
      "      ╙╬╬╬╬╬╬╬╣╣╣╣╣╣╝╜\n",
      "          ╙╬╬╬╣╣╣╜\n",
      "             ╙\n",
      "        \n",
      " Version information:\n",
      "  ml-agents: 0.28.0,\n",
      "  ml-agents-envs: 0.28.0,\n",
      "  Communicator API: 1.5.0,\n",
      "  PyTorch: 1.8.1\n",
      "[INFO] Listening on port 5004. Start training by pressing the Play button in the Unity Editor.\n",
      "[INFO] Connected to Unity environment with package version 2.2.1-exp.1 and communication version 1.5.0\n",
      "[INFO] Connected new brain: PlaceAndShoot?team=0\n",
      "[INFO] Hyperparameters for behavior name PlaceAndShoot: \n",
      "\ttrainer_type:\tppo\n",
      "\thyperparameters:\t\n",
      "\t  batch_size:\t10\n",
      "\t  buffer_size:\t100\n",
      "\t  learning_rate:\t0.0003\n",
      "\t  beta:\t0.0005\n",
      "\t  epsilon:\t0.2\n",
      "\t  lambd:\t0.99\n",
      "\t  num_epoch:\t3\n",
      "\t  learning_rate_schedule:\tlinear\n",
      "\t  beta_schedule:\tconstant\n",
      "\t  epsilon_schedule:\tlinear\n",
      "\tnetwork_settings:\t\n",
      "\t  normalize:\tFalse\n",
      "\t  hidden_units:\t128\n",
      "\t  num_layers:\t3\n",
      "\t  vis_encode_type:\tsimple\n",
      "\t  memory:\tNone\n",
      "\t  goal_conditioning_type:\thyper\n",
      "\t  deterministic:\tFalse\n",
      "\treward_signals:\t\n",
      "\t  extrinsic:\t\n",
      "\t    gamma:\t0.99\n",
      "\t    strength:\t1.0\n",
      "\t    network_settings:\t\n",
      "\t      normalize:\tFalse\n",
      "\t      hidden_units:\t128\n",
      "\t      num_layers:\t2\n",
      "\t      vis_encode_type:\tsimple\n",
      "\t      memory:\tNone\n",
      "\t      goal_conditioning_type:\thyper\n",
      "\t      deterministic:\tFalse\n",
      "\tinit_path:\tNone\n",
      "\tkeep_checkpoints:\t5\n",
      "\tcheckpoint_interval:\t500000\n",
      "\tmax_steps:\t100000\n",
      "\ttime_horizon:\t64\n",
      "\tsummary_freq:\t10000\n",
      "\tthreaded:\tFalse\n",
      "\tself_play:\tNone\n",
      "\tbehavioral_cloning:\tNone\n",
      "[INFO] Resuming from results/LearnToBucket/PlaceAndShoot.\n",
      "[INFO] Resuming training from step 56664.\n",
      "[INFO] PlaceAndShoot. Step: 60000. Time Elapsed: 100.854 s. Mean Reward: -1.523. Std of Reward: 8.299. Training.\n",
      "[WARNING] Restarting worker[0] after 'The Unity environment took too long to respond. Make sure that :\n",
      "\t The environment does not need user interaction to launch\n",
      "\t The Agents' Behavior Parameters > Behavior Type is set to \"Default\"\n",
      "\t The environment and the Python interface have compatible versions.\n",
      "\t If you're running on a headless server without graphics support, turn off display by either passing --no-graphics option or build your Unity executable as server build.'\n",
      "[INFO] Listening on port 5004. Start training by pressing the Play button in the Unity Editor.\n"
     ]
    }
   ],
   "source": [
    "!mlagents-learn \"/Users/aditya/Documents/GitHub/game_creation_research/Object Physics Sandbox/Code/configs/train.yaml\" --run-id LearnToBucket --num-envs=1 --resume"
   ]
  },
  {
   "cell_type": "code",
   "execution_count": 14,
   "metadata": {},
   "outputs": [
    {
     "name": "stdout",
     "output_type": "stream",
     "text": [
      "TensorFlow installation not found - running with reduced feature set.\n",
      "\n",
      "NOTE: Using experimental fast data loading logic. To disable, pass\n",
      "    \"--load_fast=false\" and report issues on GitHub. More details:\n",
      "    https://github.com/tensorflow/tensorboard/issues/4784\n",
      "\n",
      "Serving TensorBoard on localhost; to expose to the network, use a proxy or pass --bind_all\n",
      "TensorBoard 2.8.0 at http://localhost:6006/ (Press CTRL+C to quit)\n",
      "^C\n"
     ]
    }
   ],
   "source": [
    "!tensorboard --logdir \"/Users/aditya/Documents/GitHub/game_creation_research/Object Physics Sandbox/Code/results\" --port 6006"
   ]
  },
  {
   "cell_type": "code",
   "execution_count": null,
   "metadata": {},
   "outputs": [],
   "source": []
  }
 ],
 "metadata": {
  "interpreter": {
   "hash": "e9ca164c7b3bd0bb50cde96947fba4327d4d875f8b3488ae3586fafde6fb5019"
  },
  "kernelspec": {
   "display_name": "Python 3.8.2 ('introml_conda')",
   "language": "python",
   "name": "python3"
  },
  "language_info": {
   "codemirror_mode": {
    "name": "ipython",
    "version": 3
   },
   "file_extension": ".py",
   "mimetype": "text/x-python",
   "name": "python",
   "nbconvert_exporter": "python",
   "pygments_lexer": "ipython3",
   "version": "3.8.2"
  },
  "orig_nbformat": 4
 },
 "nbformat": 4,
 "nbformat_minor": 2
}
