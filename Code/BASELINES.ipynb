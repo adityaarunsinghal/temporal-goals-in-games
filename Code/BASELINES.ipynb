{
 "cells": [
  {
   "cell_type": "code",
   "execution_count": 1,
   "metadata": {},
   "outputs": [],
   "source": [
    "import warnings\n",
    "warnings.filterwarnings(\"ignore\")"
   ]
  },
  {
   "cell_type": "code",
   "execution_count": 2,
   "metadata": {},
   "outputs": [
    {
     "name": "stdout",
     "output_type": "stream",
     "text": [
      "WARNING:tensorflow:\n",
      "The TensorFlow contrib module will not be included in TensorFlow 2.0.\n",
      "For more information, please see:\n",
      "  * https://github.com/tensorflow/community/blob/master/rfcs/20180907-contrib-sunset.md\n",
      "  * https://github.com/tensorflow/addons\n",
      "  * https://github.com/tensorflow/io (for I/O related ops)\n",
      "If you depend on functionality not listed there, please file an issue.\n",
      "\n"
     ]
    }
   ],
   "source": [
    "# import sys\n",
    "# sys.executable = \"/scratch/as11919/.conda/envs/tf_baselines_games/bin/python\"\n",
    "# sys.path += [\"/scratch/as11919/.conda/envs/tf_baselines_games/bin\"]\n",
    "# ! '/scratch/as11919/.conda/envs/tf_baselines_games/bin/python' -m pip install -r requirements.txt\n",
    "\n",
    "import os\n",
    "from mlagents_envs.environment import UnityEnvironment\n",
    "from stable_baselines.common.env_checker import check_env\n",
    "from mlagents_envs.side_channel.engine_configuration_channel import EngineConfigurationChannel\n",
    "from stable_baselines import PPO2\n",
    "from stable_baselines.common.evaluation import evaluate_policy\n",
    "from stable_baselines.bench.monitor import Monitor, load_results\n",
    "from stable_baselines.common.callbacks import CheckpointCallback\n",
    "from GAME_1_SOLVER import *\n",
    "from GAME_2_SOLVER import *\n",
    "from GAME_3_SOLVER import *"
   ]
  },
  {
   "cell_type": "code",
   "execution_count": 3,
   "metadata": {},
   "outputs": [
    {
     "name": "stderr",
     "output_type": "stream",
     "text": [
      "E0505 16:00:49.819086514 2832404 fork_posix.cc:76]           Other threads are currently calling into gRPC, skipping fork() handlers\n"
     ]
    },
    {
     "name": "stdout",
     "output_type": "stream",
     "text": [
      "[INFO] Connected to Unity environment with package version 2.2.1-exp.1 and communication version 1.5.0\n",
      "[INFO] Connected new brain: PlaceAndShoot?team=0\n",
      "[WARNING] The environment contains multiple observations. You must define allow_multiple_obs=True to receive them all. Otherwise, only the first visual observation (or vector observation ifthere are no visual observations) will be provided in the observation.\n"
     ]
    }
   ],
   "source": [
    "try:\n",
    "    env.close()\n",
    "except:\n",
    "    pass\n",
    "\n",
    "SERVER_BUILD = \"../Builds/MLAgent_View_21April22_server.app\"\n",
    "GYM_BUILD = \"../Builds/Gym_View_25April22.app\"\n",
    "LINUX_BUILD = '../Builds/Gym_View_26April22_Linux.x86_64'\n",
    "\n",
    "channel = EngineConfigurationChannel()\n",
    "channel.set_configuration_parameters(time_scale=50, quality_level=0)\n",
    "unity_env = UnityEnvironment(\n",
    "    file_name=LINUX_BUILD, seed=1, side_channels=[channel], worker_id=0, no_graphics=True)\n",
    "\n",
    "# unity_env = UnityEnvironment()\n",
    "\n",
    "# Start interacting with the environment.\n",
    "unity_env.reset()\n",
    "gym_env = UnityToGymWrapper(unity_env, allow_multiple_obs=False)\n",
    "env = PlaceAndShootGym(gym_env, reward_fn=GAME_1_REWARD,\n",
    "                        actionTransformer=GAME_1_TRANSFORMER,\n",
    "                       announce_actions=True)"
   ]
  },
  {
   "cell_type": "code",
   "execution_count": 4,
   "metadata": {},
   "outputs": [
    {
     "data": {
      "text/plain": [
       "array([-3.825     , -4.0950003 , -2.4750001 ,  0.45000002, -2.4750001 ,\n",
       "       -1.8000001 ,  6.75      , -0.65      , -2.4750001 ,  2.7       ,\n",
       "        0.        , -3.9       ,  0.        , -0.        , -1.        ,\n",
       "        1.        ], dtype=float32)"
      ]
     },
     "execution_count": 4,
     "metadata": {},
     "output_type": "execute_result"
    }
   ],
   "source": [
    "start_obs = env.setup(GAME_1_SETUP)\n",
    "start_obs"
   ]
  },
  {
   "cell_type": "code",
   "execution_count": 5,
   "metadata": {},
   "outputs": [
    {
     "name": "stdout",
     "output_type": "stream",
     "text": [
      "[-0.301, -0.33, 0.894, 0.446, None, True]\n",
      "[0.897, 0.024, 0.961, -0.638, None, True]\n"
     ]
    }
   ],
   "source": [
    "check_env(env)"
   ]
  },
  {
   "cell_type": "code",
   "execution_count": 6,
   "metadata": {},
   "outputs": [
    {
     "name": "stdout",
     "output_type": "stream",
     "text": [
      "WARNING:tensorflow:From /home/as11919/.conda/envs/tf_baselines_games/lib/python3.7/site-packages/stable_baselines/common/tf_util.py:191: The name tf.ConfigProto is deprecated. Please use tf.compat.v1.ConfigProto instead.\n",
      "\n",
      "WARNING:tensorflow:From /home/as11919/.conda/envs/tf_baselines_games/lib/python3.7/site-packages/stable_baselines/common/tf_util.py:200: The name tf.Session is deprecated. Please use tf.compat.v1.Session instead.\n",
      "\n",
      "WARNING:tensorflow:From /home/as11919/.conda/envs/tf_baselines_games/lib/python3.7/site-packages/stable_baselines/common/policies.py:116: The name tf.variable_scope is deprecated. Please use tf.compat.v1.variable_scope instead.\n",
      "\n",
      "WARNING:tensorflow:From /home/as11919/.conda/envs/tf_baselines_games/lib/python3.7/site-packages/stable_baselines/common/input.py:25: The name tf.placeholder is deprecated. Please use tf.compat.v1.placeholder instead.\n",
      "\n",
      "WARNING:tensorflow:From /home/as11919/.conda/envs/tf_baselines_games/lib/python3.7/site-packages/stable_baselines/common/policies.py:561: flatten (from tensorflow.python.layers.core) is deprecated and will be removed in a future version.\n",
      "Instructions for updating:\n",
      "Use keras.layers.flatten instead.\n",
      "WARNING:tensorflow:From /home/as11919/.conda/envs/tf_baselines_games/lib/python3.7/site-packages/tensorflow_core/python/layers/core.py:332: Layer.apply (from tensorflow.python.keras.engine.base_layer) is deprecated and will be removed in a future version.\n",
      "Instructions for updating:\n",
      "Please use `layer.__call__` method instead.\n",
      "WARNING:tensorflow:From /home/as11919/.conda/envs/tf_baselines_games/lib/python3.7/site-packages/stable_baselines/common/tf_layers.py:123: The name tf.get_variable is deprecated. Please use tf.compat.v1.get_variable instead.\n",
      "\n",
      "WARNING:tensorflow:From /home/as11919/.conda/envs/tf_baselines_games/lib/python3.7/site-packages/stable_baselines/common/distributions.py:418: The name tf.random_normal is deprecated. Please use tf.random.normal instead.\n",
      "\n",
      "WARNING:tensorflow:From /home/as11919/.conda/envs/tf_baselines_games/lib/python3.7/site-packages/stable_baselines/ppo2/ppo2.py:190: The name tf.summary.scalar is deprecated. Please use tf.compat.v1.summary.scalar instead.\n",
      "\n",
      "WARNING:tensorflow:From /home/as11919/.conda/envs/tf_baselines_games/lib/python3.7/site-packages/stable_baselines/ppo2/ppo2.py:198: The name tf.trainable_variables is deprecated. Please use tf.compat.v1.trainable_variables instead.\n",
      "\n",
      "WARNING:tensorflow:From /home/as11919/.conda/envs/tf_baselines_games/lib/python3.7/site-packages/tensorflow_core/python/ops/math_grad.py:1424: where (from tensorflow.python.ops.array_ops) is deprecated and will be removed in a future version.\n",
      "Instructions for updating:\n",
      "Use tf.where in 2.0, which has the same broadcast rule as np.where\n",
      "WARNING:tensorflow:From /home/as11919/.conda/envs/tf_baselines_games/lib/python3.7/site-packages/stable_baselines/ppo2/ppo2.py:206: The name tf.train.AdamOptimizer is deprecated. Please use tf.compat.v1.train.AdamOptimizer instead.\n",
      "\n",
      "WARNING:tensorflow:From /home/as11919/.conda/envs/tf_baselines_games/lib/python3.7/site-packages/stable_baselines/ppo2/ppo2.py:240: The name tf.global_variables_initializer is deprecated. Please use tf.compat.v1.global_variables_initializer instead.\n",
      "\n",
      "WARNING:tensorflow:From /home/as11919/.conda/envs/tf_baselines_games/lib/python3.7/site-packages/stable_baselines/ppo2/ppo2.py:242: The name tf.summary.merge_all is deprecated. Please use tf.compat.v1.summary.merge_all instead.\n",
      "\n",
      "WARNING:tensorflow:From /home/as11919/.conda/envs/tf_baselines_games/lib/python3.7/site-packages/stable_baselines/common/base_class.py:1169: The name tf.summary.FileWriter is deprecated. Please use tf.compat.v1.summary.FileWriter instead.\n",
      "\n",
      "[0.061, -1.0, 0.292, -1.0, None, True]\n",
      "[-0.149, -1.0, -1.0, 0.263, None, True]\n",
      "[0.239, 0.042, 0.66, 1.0, None, True]\n",
      "[0.933, -0.67, -1.0, 0.707, None, True]\n",
      "[-0.37, -1.0, 0.561, -0.736, None, True]\n",
      "[0.32, 0.245, -1.0, -1.0, None, True]\n",
      "[0.209, 0.317, 1.0, -0.63, None, True]\n",
      "[0.346, -0.992, -0.334, 0.703, None, True]\n",
      "[-0.046, -1.0, -0.395, -1.0, None, True]\n",
      "[0.452, -1.0, -1.0, 1.0, None, True]\n",
      "[-0.18, 0.009, -1.0, -0.721, None, True]\n",
      "[-0.212, -1.0, -1.0, 1.0, None, True]\n",
      "[-0.148, -0.003, -1.0, -0.866, None, True]\n",
      "[0.338, -1.0, -0.899, -1.0, None, True]\n",
      "[0.016, -1.0, 1.0, -1.0, None, True]\n",
      "[-0.396, 0.081, -0.453, -0.301, None, True]\n",
      "[0.195, -0.234, -0.109, -0.474, None, True]\n",
      "[-0.03, -1.0, -1.0, -0.822, None, True]\n",
      "[-0.478, -1.0, 0.143, -1.0, None, True]\n",
      "[0.028, -1.0, -1.0, 0.843, None, True]\n",
      "[-0.388, -0.749, 0.809, -0.755, None, True]\n",
      "[-0.428, -0.36, 1.0, -0.391, None, True]\n",
      "[0.041, 0.654, -1.0, -0.825, None, True]\n",
      "[-0.223, -1.0, -1.0, -1.0, None, True]\n",
      "[0.121, -0.069, 0.896, -0.135, None, True]\n",
      "[-0.453, -0.161, -0.039, -0.539, None, True]\n",
      "[0.989, 0.343, 1.0, -0.89, None, True]\n",
      "[-0.055, -1.0, 0.695, -1.0, None, True]\n",
      "[0.023, -1.0, -1.0, 0.441, None, True]\n",
      "[-0.413, -0.059, -1.0, -0.606, None, True]\n",
      "[0.987, -1.0, 0.581, 0.47, None, True]\n",
      "[0.413, -1.0, 0.285, -1.0, None, True]\n",
      "[-0.37, -1.0, -0.599, -0.69, None, True]\n",
      "[-0.326, -1.0, -1.0, -0.785, None, True]\n",
      "[0.6, -1.0, -1.0, -1.0, None, True]\n",
      "[1.0, -1.0, 0.089, -0.812, None, True]\n",
      "[0.483, -0.953, 0.833, 0.951, None, True]\n",
      "[-0.387, -1.0, 0.74, -0.027, None, True]\n",
      "[-0.12, -1.0, -0.961, 0.5, None, True]\n",
      "[-0.263, -1.0, 1.0, 0.708, None, True]\n",
      "[-0.023, -1.0, -1.0, -1.0, None, True]\n",
      "[0.245, -1.0, 0.978, -1.0, None, True]\n",
      "[0.307, -0.869, 0.786, -1.0, None, True]\n",
      "[0.559, -1.0, 0.547, -0.53, None, True]\n",
      "[0.539, -1.0, -0.195, -0.429, None, True]\n",
      "[0.407, -0.85, -0.557, -1.0, None, True]\n",
      "[-0.18, -1.0, 1.0, -1.0, None, True]\n",
      "[1.0, -1.0, 0.372, -1.0, None, True]\n",
      "[0.693, -1.0, 1.0, 0.561, None, True]\n",
      "[-0.087, -1.0, 0.759, -1.0, None, True]\n",
      "[-0.077, -1.0, 0.152, -0.874, None, True]\n",
      "[0.06, -1.0, -1.0, -1.0, None, True]\n",
      "[0.225, -1.0, -0.965, -0.816, None, True]\n",
      "[0.271, -1.0, -0.836, -1.0, None, True]\n",
      "[0.225, -1.0, 1.0, 0.67, None, True]\n",
      "[0.951, -1.0, -0.598, -1.0, None, True]\n",
      "[-0.116, -1.0, 1.0, -1.0, None, True]\n",
      "[0.596, -1.0, -0.664, -0.933, None, True]\n",
      "[-0.484, -0.613, 1.0, -1.0, None, True]\n",
      "[-0.165, -1.0, 0.855, -0.555, None, True]\n",
      "[0.695, -1.0, -0.192, -1.0, None, True]\n",
      "[-0.114, -1.0, -1.0, -0.564, None, True]\n",
      "[-0.074, -0.114, 1.0, -0.922, None, True]\n",
      "[0.34, -0.174, 0.819, -1.0, None, True]\n",
      "[-0.242, -1.0, 1.0, -1.0, None, True]\n",
      "[-0.498, -1.0, 1.0, -0.671, None, True]\n",
      "[0.554, -1.0, 1.0, -1.0, None, True]\n",
      "[1.0, -1.0, 0.995, -1.0, None, True]\n",
      "[0.839, -1.0, 1.0, 0.371, None, True]\n",
      "[-0.422, -1.0, -0.514, -1.0, None, True]\n",
      "[0.069, -1.0, 0.934, -1.0, None, True]\n",
      "[1.0, -0.922, 1.0, -1.0, None, True]\n",
      "[0.712, -1.0, 1.0, -0.222, None, True]\n",
      "[0.077, -1.0, -0.045, -1.0, None, True]\n",
      "[-0.376, -0.439, 0.069, -1.0, None, True]\n",
      "[0.626, -1.0, -0.485, -0.422, None, True]\n",
      "[-0.346, 1.0, 0.457, 0.019, None, True]\n",
      "[0.216, -0.557, -0.427, -1.0, None, True]\n",
      "[1.0, -1.0, -0.538, -1.0, None, True]\n",
      "[-0.219, -1.0, 1.0, -1.0, None, True]\n",
      "[0.248, -1.0, 0.367, -1.0, None, True]\n",
      "[-0.364, -1.0, 1.0, -1.0, None, True]\n",
      "[1.0, -1.0, -0.694, -0.587, None, True]\n"
     ]
    }
   ],
   "source": [
    "run_name = \"results/GAME_1/PPO2_GAME_1\"\n",
    "monitored_env = Monitor(env = env, filename= run_name, allow_early_resets = True)\n",
    "ppo = PPO2(policy = 'MlpPolicy', env = monitored_env, tensorboard_log=os.path.join(os.path.dirname(run_name), \"tensorboard/\"))\n",
    "checkpoint_callback = CheckpointCallback(save_freq=50000, save_path=os.path.join(os.path.dirname(run_name), \"checkpoints/\"),\n",
    "                                         name_prefix='rl_model')\n",
    "\n",
    "try:\n",
    "    ppo.load_parameters(run_name)\n",
    "except:\n",
    "    pass\n",
    "\n",
    "model = ppo.learn(total_timesteps=64000, callback=checkpoint_callback)"
   ]
  },
  {
   "cell_type": "code",
   "execution_count": 28,
   "metadata": {},
   "outputs": [
    {
     "data": {
      "text/html": [
       "<div>\n",
       "<style scoped>\n",
       "    .dataframe tbody tr th:only-of-type {\n",
       "        vertical-align: middle;\n",
       "    }\n",
       "\n",
       "    .dataframe tbody tr th {\n",
       "        vertical-align: top;\n",
       "    }\n",
       "\n",
       "    .dataframe thead th {\n",
       "        text-align: right;\n",
       "    }\n",
       "</style>\n",
       "<table border=\"1\" class=\"dataframe\">\n",
       "  <thead>\n",
       "    <tr style=\"text-align: right;\">\n",
       "      <th></th>\n",
       "      <th>index</th>\n",
       "      <th>r</th>\n",
       "      <th>l</th>\n",
       "      <th>t</th>\n",
       "    </tr>\n",
       "  </thead>\n",
       "  <tbody>\n",
       "  </tbody>\n",
       "</table>\n",
       "</div>"
      ],
      "text/plain": [
       "Empty DataFrame\n",
       "Columns: [index, r, l, t]\n",
       "Index: []"
      ]
     },
     "execution_count": 28,
     "metadata": {},
     "output_type": "execute_result"
    }
   ],
   "source": [
    "load_results(os.path.dirname(run_name))"
   ]
  },
  {
   "cell_type": "code",
   "execution_count": 29,
   "metadata": {},
   "outputs": [],
   "source": [
    "# mean_reward, std_reward = evaluate_policy(model, model.get_env(), n_eval_episodes=1)"
   ]
  },
  {
   "cell_type": "code",
   "execution_count": null,
   "metadata": {},
   "outputs": [],
   "source": [
    "# obs = env.reset()\n",
    "# for i in range(1000):\n",
    "#     action, _states = model.predict(obs)\n",
    "#     obs, rewards, dones, info = env.step(action)\n",
    "#     env.render()"
   ]
  },
  {
   "cell_type": "code",
   "execution_count": null,
   "metadata": {},
   "outputs": [],
   "source": [
    "env.close()"
   ]
  }
 ],
 "metadata": {
  "interpreter": {
   "hash": "e9ca164c7b3bd0bb50cde96947fba4327d4d875f8b3488ae3586fafde6fb5019"
  },
  "kernelspec": {
   "display_name": "tf_baselines_games_kernel",
   "language": "python",
   "name": "python3"
  },
  "language_info": {
   "codemirror_mode": {
    "name": "ipython",
    "version": 3
   },
   "file_extension": ".py",
   "mimetype": "text/x-python",
   "name": "python",
   "nbconvert_exporter": "python",
   "pygments_lexer": "ipython3",
   "version": "3.7.13"
  },
  "orig_nbformat": 4
 },
 "nbformat": 4,
 "nbformat_minor": 2
}
