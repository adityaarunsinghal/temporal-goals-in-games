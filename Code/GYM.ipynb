{
 "cells": [
  {
   "cell_type": "code",
   "execution_count": 4,
   "metadata": {},
   "outputs": [],
   "source": [
    "# !python -m pip install mlagents==0.28.0\n",
    "# !python -m pip install gym\n",
    "# !cd \"/Users/aditya/Documents/GitHub/game_creation_research/ml-agents/gym-unity\" && pip3 install -e .\n",
    "\n",
    "import mlagents\n",
    "from mlagents_envs.environment import UnityEnvironment\n",
    "from mlagents_envs.side_channel.engine_configuration_channel import EngineConfigurationChannel\n",
    "from gym_unity.envs import UnityToGymWrapper"
   ]
  },
  {
   "cell_type": "code",
   "execution_count": 6,
   "metadata": {},
   "outputs": [
    {
     "ename": "UnityEnvironmentException",
     "evalue": "Couldn't launch the ../Builds/Gym_View_22April22.app environment. Provided filename does not match any environments.",
     "output_type": "error",
     "traceback": [
      "\u001b[0;31m---------------------------------------------------------------------------\u001b[0m",
      "\u001b[0;31mUnityEnvironmentException\u001b[0m                 Traceback (most recent call last)",
      "\u001b[0;32m/var/folders/xh/lyccyk996l3cr3c7mc5vth500000gp/T/ipykernel_44997/3102519713.py\u001b[0m in \u001b[0;36m<module>\u001b[0;34m\u001b[0m\n\u001b[1;32m      5\u001b[0m \u001b[0mchannel\u001b[0m \u001b[0;34m=\u001b[0m \u001b[0mEngineConfigurationChannel\u001b[0m\u001b[0;34m(\u001b[0m\u001b[0;34m)\u001b[0m\u001b[0;34m\u001b[0m\u001b[0;34m\u001b[0m\u001b[0m\n\u001b[1;32m      6\u001b[0m \u001b[0mchannel\u001b[0m\u001b[0;34m.\u001b[0m\u001b[0mset_configuration_parameters\u001b[0m\u001b[0;34m(\u001b[0m\u001b[0mtime_scale\u001b[0m \u001b[0;34m=\u001b[0m \u001b[0;36m1.0\u001b[0m\u001b[0;34m,\u001b[0m \u001b[0mquality_level\u001b[0m\u001b[0;34m=\u001b[0m\u001b[0;36m1\u001b[0m\u001b[0;34m,\u001b[0m \u001b[0mtarget_frame_rate\u001b[0m\u001b[0;34m=\u001b[0m\u001b[0;36m5\u001b[0m\u001b[0;34m)\u001b[0m\u001b[0;34m\u001b[0m\u001b[0;34m\u001b[0m\u001b[0m\n\u001b[0;32m----> 7\u001b[0;31m \u001b[0menv\u001b[0m \u001b[0;34m=\u001b[0m \u001b[0mUnityEnvironment\u001b[0m\u001b[0;34m(\u001b[0m\u001b[0mfile_name\u001b[0m\u001b[0;34m=\u001b[0m\u001b[0mGYM_BUILD\u001b[0m\u001b[0;34m,\u001b[0m \u001b[0mseed\u001b[0m\u001b[0;34m=\u001b[0m\u001b[0;36m1\u001b[0m\u001b[0;34m,\u001b[0m \u001b[0mside_channels\u001b[0m\u001b[0;34m=\u001b[0m\u001b[0;34m[\u001b[0m\u001b[0mchannel\u001b[0m\u001b[0;34m]\u001b[0m\u001b[0;34m,\u001b[0m \u001b[0mworker_id\u001b[0m\u001b[0;34m=\u001b[0m\u001b[0;36m1\u001b[0m\u001b[0;34m)\u001b[0m\u001b[0;34m\u001b[0m\u001b[0;34m\u001b[0m\u001b[0m\n\u001b[0m\u001b[1;32m      8\u001b[0m \u001b[0;34m\u001b[0m\u001b[0m\n\u001b[1;32m      9\u001b[0m \u001b[0;31m# Start interacting with the environment.\u001b[0m\u001b[0;34m\u001b[0m\u001b[0;34m\u001b[0m\u001b[0;34m\u001b[0m\u001b[0m\n",
      "\u001b[0;32m/opt/anaconda3/envs/introml_conda/lib/python3.8/site-packages/mlagents_envs/environment.py\u001b[0m in \u001b[0;36m__init__\u001b[0;34m(self, file_name, worker_id, base_port, seed, no_graphics, timeout_wait, additional_args, side_channels, log_folder, num_areas)\u001b[0m\n\u001b[1;32m    213\u001b[0m         \u001b[0;32mif\u001b[0m \u001b[0mfile_name\u001b[0m \u001b[0;32mis\u001b[0m \u001b[0;32mnot\u001b[0m \u001b[0;32mNone\u001b[0m\u001b[0;34m:\u001b[0m\u001b[0;34m\u001b[0m\u001b[0;34m\u001b[0m\u001b[0m\n\u001b[1;32m    214\u001b[0m             \u001b[0;32mtry\u001b[0m\u001b[0;34m:\u001b[0m\u001b[0;34m\u001b[0m\u001b[0;34m\u001b[0m\u001b[0m\n\u001b[0;32m--> 215\u001b[0;31m                 self._process = env_utils.launch_executable(\n\u001b[0m\u001b[1;32m    216\u001b[0m                     \u001b[0mfile_name\u001b[0m\u001b[0;34m,\u001b[0m \u001b[0mself\u001b[0m\u001b[0;34m.\u001b[0m\u001b[0m_executable_args\u001b[0m\u001b[0;34m(\u001b[0m\u001b[0;34m)\u001b[0m\u001b[0;34m\u001b[0m\u001b[0;34m\u001b[0m\u001b[0m\n\u001b[1;32m    217\u001b[0m                 )\n",
      "\u001b[0;32m/opt/anaconda3/envs/introml_conda/lib/python3.8/site-packages/mlagents_envs/env_utils.py\u001b[0m in \u001b[0;36mlaunch_executable\u001b[0;34m(file_name, args)\u001b[0m\n\u001b[1;32m     99\u001b[0m     \u001b[0mlaunch_string\u001b[0m \u001b[0;34m=\u001b[0m \u001b[0mvalidate_environment_path\u001b[0m\u001b[0;34m(\u001b[0m\u001b[0mfile_name\u001b[0m\u001b[0;34m)\u001b[0m\u001b[0;34m\u001b[0m\u001b[0;34m\u001b[0m\u001b[0m\n\u001b[1;32m    100\u001b[0m     \u001b[0;32mif\u001b[0m \u001b[0mlaunch_string\u001b[0m \u001b[0;32mis\u001b[0m \u001b[0;32mNone\u001b[0m\u001b[0;34m:\u001b[0m\u001b[0;34m\u001b[0m\u001b[0;34m\u001b[0m\u001b[0m\n\u001b[0;32m--> 101\u001b[0;31m         raise UnityEnvironmentException(\n\u001b[0m\u001b[1;32m    102\u001b[0m             \u001b[0;34mf\"Couldn't launch the {file_name} environment. Provided filename does not match any environments.\"\u001b[0m\u001b[0;34m\u001b[0m\u001b[0;34m\u001b[0m\u001b[0m\n\u001b[1;32m    103\u001b[0m         )\n",
      "\u001b[0;31mUnityEnvironmentException\u001b[0m: Couldn't launch the ../Builds/Gym_View_22April22.app environment. Provided filename does not match any environments."
     ]
    }
   ],
   "source": [
    "SERVER_BUILD = \"../Builds/MLAgent_View_21April22_server.app\"\n",
    "GRAPHICAL_BUILD = \"../Builds/MLAgent_View_21April22.app\"\n",
    "GYM_BUILD = \"../Builds/Gym_View_22April22.app\"\n",
    "\n",
    "channel = EngineConfigurationChannel()\n",
    "channel.set_configuration_parameters(time_scale = 1.0, quality_level=1, target_frame_rate=5)\n",
    "env = UnityEnvironment(file_name=GYM_BUILD, seed=1, side_channels=[channel], worker_id=1)\n",
    "\n",
    "# Start interacting with the environment.\n",
    "env.reset()\n",
    "env = UnityToGymWrapper(env, allow_multiple_obs=True)"
   ]
  },
  {
   "cell_type": "code",
   "execution_count": 3,
   "metadata": {},
   "outputs": [
    {
     "data": {
      "text/plain": [
       "([array([ 5.34      , -2.65      , -2.8114905 ,  0.10777473,  5.34      ,\n",
       "         -1.25      ,  5.34      ,  0.24      ,  5.34      ,  3.26      ,\n",
       "          1.        , -4.1317406 ,  0.        ], dtype=float32)],\n",
       " 0.0,\n",
       " False,\n",
       " {'step': <mlagents_envs.base_env.DecisionSteps at 0x7fc488aad550>})"
      ]
     },
     "execution_count": 3,
     "metadata": {},
     "output_type": "execute_result"
    }
   ],
   "source": [
    "env.step(action=[0.1, 0.5, 0, 0, 0, 0])"
   ]
  },
  {
   "cell_type": "code",
   "execution_count": 34,
   "metadata": {},
   "outputs": [
    {
     "data": {
      "text/plain": [
       "([array([ 5.34      , -2.65      , -2.8114905 ,  0.10777473,  5.34      ,\n",
       "         -1.25      ,  5.34      ,  0.24      ,  1.        ,  1.        ,\n",
       "          1.        , -2.9022753 ,  0.        ], dtype=float32)],\n",
       " 0.0,\n",
       " False,\n",
       " {'step': <mlagents_envs.base_env.DecisionSteps at 0x7fbff22130d0>})"
      ]
     },
     "execution_count": 34,
     "metadata": {},
     "output_type": "execute_result"
    }
   ],
   "source": [
    "env.step(action=[0.1, 0.5, 0.1, 0.1, 1, 0])"
   ]
  },
  {
   "cell_type": "code",
   "execution_count": 3,
   "metadata": {},
   "outputs": [],
   "source": [
    "env.close()"
   ]
  },
  {
   "cell_type": "code",
   "execution_count": null,
   "metadata": {},
   "outputs": [],
   "source": []
  }
 ],
 "metadata": {
  "interpreter": {
   "hash": "e9ca164c7b3bd0bb50cde96947fba4327d4d875f8b3488ae3586fafde6fb5019"
  },
  "kernelspec": {
   "display_name": "Python 3.8.2 ('introml_conda')",
   "language": "python",
   "name": "python3"
  },
  "language_info": {
   "codemirror_mode": {
    "name": "ipython",
    "version": 3
   },
   "file_extension": ".py",
   "mimetype": "text/x-python",
   "name": "python",
   "nbconvert_exporter": "python",
   "pygments_lexer": "ipython3",
   "version": "3.8.2"
  },
  "orig_nbformat": 4
 },
 "nbformat": 4,
 "nbformat_minor": 2
}
