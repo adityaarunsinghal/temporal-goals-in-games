{
 "cells": [
  {
   "cell_type": "code",
   "execution_count": 1,
   "metadata": {},
   "outputs": [],
   "source": [
    "# !python -m pip install mlagents==0.28.0\n",
    "# !python -m pip install gym\n",
    "# !cd \"/Users/aditya/Documents/GitHub/game_creation_research/ml-agents/gym-unity\" && pip3 install -e .\n",
    "\n",
    "import mlagents\n",
    "import numpy as np\n",
    "import json\n",
    "from mlagents_envs.environment import UnityEnvironment\n",
    "from collections import namedtuple, defaultdict\n",
    "from mlagents_envs.side_channel.engine_configuration_channel import EngineConfigurationChannel\n",
    "from gym_unity.envs import UnityToGymWrapper\n"
   ]
  },
  {
   "cell_type": "code",
   "execution_count": 2,
   "metadata": {},
   "outputs": [],
   "source": [
    "from typing import List\n",
    "\n",
    "Vector2 = namedtuple('Vector2', 'x y')\n",
    "objectOrder = [\"corner\", \"bucket\", \"triangle\", \"gear\", \"crate\"]\n",
    "\n",
    "\n",
    "def objectTagToActionVal(object):\n",
    "    idx = objectOrder.index(object)\n",
    "    # 0 is abstain\n",
    "    idx = idx + 1\n",
    "    return idx/6.0\n",
    "\n",
    "\n",
    "def ActionValToObjectTag(value):\n",
    "    assert -1 <= value <= 1\n",
    "    value = abs(value)\n",
    "    value *= 6\n",
    "    value = round(value)\n",
    "    value = value - 1\n",
    "    if value == -1:\n",
    "        return None\n",
    "    else:\n",
    "        return objectOrder[value]\n",
    "\n",
    "\n",
    "class Obs():\n",
    "    def __init__(self, raw_obs):\n",
    "        \"\"\"\n",
    "        Converts Unity Agent outputted Vector Observation to \n",
    "        named format\n",
    "        \"\"\"\n",
    "        self.raw_obs = raw_obs\n",
    "        self.objPos = {}\n",
    "        self.objPos[objectOrder[0]] = Vector2(raw_obs[0], raw_obs[1])\n",
    "        self.objPos[objectOrder[1]] = Vector2(raw_obs[2], raw_obs[3])\n",
    "        self.objPos[objectOrder[2]] = Vector2(raw_obs[4], raw_obs[5])\n",
    "        self.objPos[objectOrder[3]] = Vector2(raw_obs[6], raw_obs[7])\n",
    "        self.objPos[objectOrder[4]] = Vector2(raw_obs[8], raw_obs[9])\n",
    "        self.ballPos = Vector2(raw_obs[10], raw_obs[11])\n",
    "        self.ballVel = Vector2(raw_obs[12], raw_obs[13])\n",
    "        self.reset = bool(raw_obs[14])\n",
    "\n",
    "    def show(self) -> None:\n",
    "        \"\"\"\n",
    "        Pretty Print Observation\n",
    "        \"\"\"\n",
    "        for each_obj in self.objPos:\n",
    "            print(f\"{each_obj}: {self.objPos[each_obj]}\")\n",
    "        print(f\"Ball Position: {self.ballPos}\")\n",
    "        print(f\"Ball Velocity: {self.ballVel}\")\n",
    "        print(f\"In Reset?: {self.reset}\")\n",
    "\n",
    "    def toArray(self):\n",
    "        return self.raw_obs\n",
    "\n",
    "\n",
    "class ActionTransformer():\n",
    "    def __init__(self, ban_object=[], ban_mouse_position_x=(99, 999), ban_mouse_position_y=(99, 999),\n",
    "                 ban_object_position_x=(99, 999), ban_object_position_y=(99, 999)):\n",
    "        self.ban_object = ban_object\n",
    "        assert ban_mouse_position_x[1] > ban_mouse_position_x[0]\n",
    "        self.ban_mouse_position_x = ban_mouse_position_x\n",
    "        assert ban_mouse_position_y[1] > ban_mouse_position_y[0]\n",
    "        self.ban_mouse_position_y = ban_mouse_position_y\n",
    "        assert ban_object_position_x[1] > ban_object_position_x[0]\n",
    "        self.ban_object_position_x = ban_object_position_x\n",
    "        assert ban_object_position_y[1] > ban_object_position_y[0]\n",
    "        self.ban_object_position_y = ban_object_position_y\n",
    "\n",
    "    def transform(self, raw_action):\n",
    "        obj = ActionValToObjectTag(raw_action[4])\n",
    "        if obj in self.ban_object:\n",
    "            return [0, 0, 0, 0, 0, 0]\n",
    "        if self.ban_mouse_position_x[0] <= raw_action[0] <= self.ban_mouse_position_x[1]:\n",
    "            return [0, 0, 0, 0, 0, 0]\n",
    "        if self.ban_mouse_position_y[0] <= raw_action[1] <= self.ban_mouse_position_y[1]:\n",
    "            return [0, 0, 0, 0, 0, 0]\n",
    "        if self.ban_object_position_x[0] <= raw_action[2] <= self.ban_object_position_x[1]:\n",
    "            return [0, 0, 0, 0, 0, 0]\n",
    "        if self.ban_object_position_y[0] <= raw_action[3] <= self.ban_object_position_y[1]:\n",
    "            return [0, 0, 0, 0, 0, 0]\n",
    "        return raw_action\n",
    "\n",
    "\n",
    "class PlaceAndShootGym(UnityToGymWrapper):\n",
    "    def __init__(self, gym_env, reward_fn, actionTransformer=ActionTransformer()):\n",
    "        self.gym_env = gym_env\n",
    "        self.reward_fn = reward_fn\n",
    "        self.actionTransformer = actionTransformer\n",
    "        # unsure if this is always true\n",
    "        self.velTresh = 0.001\n",
    "\n",
    "    def step(self, raw_action):\n",
    "        \"\"\"\n",
    "        Step is defined as doing something ball has stopped\n",
    "        \"\"\"\n",
    "        action = self.actionTransformer.transform(raw_action)\n",
    "        obsVec = []\n",
    "        # first step\n",
    "        raw_obs, _reward, done, info = self.gym_env.step(action)\n",
    "        obsVec.append(Obs(raw_obs))\n",
    "        # continued steps\n",
    "        while (any([abs(f) > self.velTresh for f in obsVec[-1].ballVel])):\n",
    "            raw_obs, _reward, done, info = self.gym_env.step(action)\n",
    "            obsVec.append(Obs(raw_obs))\n",
    "        reward = self.getRewards(obsVec)\n",
    "        return (obsVec[-1].toArray(), reward, done, info)\n",
    "\n",
    "    def setup(self, actionVec, transform = False) -> bool:\n",
    "        \"\"\"\n",
    "        Setup steps must be a sequence of actions that end with a reset of the ball\n",
    "        \"\"\"\n",
    "        assert actionVec[-1][-1] == 1\n",
    "        for each_raw_action in actionVec:\n",
    "            if transform:\n",
    "                each_action = self.actionTransformer.transform(each_raw_action)\n",
    "            else:\n",
    "                each_action = each_raw_action\n",
    "            self.gym_env.step(each_action)\n",
    "\n",
    "    def getRewards(self, obsVec: List[Obs]) -> float:\n",
    "        return float(self.reward_fn(obsVec))\n",
    "\n",
    "    def reset(self):\n",
    "        self.gym_env.reset()\n",
    "\n",
    "    def close(self):\n",
    "        self.gym_env.close()\n"
   ]
  },
  {
   "cell_type": "code",
   "execution_count": 3,
   "metadata": {},
   "outputs": [],
   "source": [
    "# crate in the middle and bucket on floor for bounce and bucket game\n",
    "GAME_2_SETUP = [[0, 0, -1.262854/10.0, 2.134222/10.0, objectTagToActionVal(\"crate\"), 0],\n",
    "                [0, 0, -4.847445/10.0, -4.238384/10.0,\n",
    "                    objectTagToActionVal(\"bucket\"), 0],\n",
    "                [0, 0, 0, 0, 0, 1]]\n",
    "\n",
    "\n",
    "def endsInBucket(obsVec: List[Obs]) -> bool:\n",
    "    \"\"\"\n",
    "    Custom Reward Fn:\n",
    "    Is that ball in bucket at the end or no?\n",
    "    \"\"\"\n",
    "    MIN_X_DELTA = -0.1927506923675537\n",
    "    MAX_X_DELTA = 0.2523689270019531\n",
    "    MIN_Y_DELTA = -0.24334418773651123\n",
    "    MAX_Y_DELTA = 0.6142134666442871\n",
    "\n",
    "    ball_x, ball_y = obsVec[-1].ballPos\n",
    "    bucket_x, bucket_y = obsVec[-1].objPos[\"bucket\"]\n",
    "    x_delta = ball_x - bucket_x\n",
    "    y_delta = ball_y - bucket_y\n",
    "\n",
    "    return (MAX_X_DELTA >= x_delta >= MIN_X_DELTA) and (MAX_Y_DELTA >= y_delta >= MIN_Y_DELTA)\n",
    "\n",
    "\n",
    "NO_OBJECT_INTERACTION = ActionTransformer(ban_object=[\n",
    "                                          \"crate\", \"bucket\", \"corner\", \"gear\", \"triangle\"], ban_object_position_x=(-1, 1), ban_object_position_y=(-1, 1))\n"
   ]
  },
  {
   "cell_type": "code",
   "execution_count": 9,
   "metadata": {},
   "outputs": [
    {
     "name": "stderr",
     "output_type": "stream",
     "text": [
      "E0423 15:56:45.333396000 4474121728 fork_posix.cc:76]                  Other threads are currently calling into gRPC, skipping fork() handlers\n"
     ]
    },
    {
     "name": "stdout",
     "output_type": "stream",
     "text": [
      "[INFO] Connected to Unity environment with package version 2.2.1-exp.1 and communication version 1.5.0\n",
      "[INFO] Connected new brain: PlaceAndShoot?team=0\n",
      "[WARNING] The environment contains multiple observations. You must define allow_multiple_obs=True to receive them all. Otherwise, only the first visual observation (or vector observation ifthere are no visual observations) will be provided in the observation.\n"
     ]
    },
    {
     "name": "stderr",
     "output_type": "stream",
     "text": [
      "/opt/anaconda3/envs/introml_conda/lib/python3.8/site-packages/gym/logger.py:34: UserWarning: \u001b[33mWARN: Box bound precision lowered by casting to float32\u001b[0m\n",
      "  warnings.warn(colorize(\"%s: %s\" % (\"WARN\", msg % args), \"yellow\"))\n"
     ]
    }
   ],
   "source": [
    "SERVER_BUILD = \"../Builds/MLAgent_View_21April22_server.app\"\n",
    "GRAPHICAL_BUILD = \"../Builds/MLAgent_View_21April22.app\"\n",
    "GYM_BUILD = \"../Builds/Gym_View_22April22.app\"\n",
    "\n",
    "channel = EngineConfigurationChannel()\n",
    "channel.set_configuration_parameters(time_scale = 20, quality_level=0)\n",
    "unity_env = UnityEnvironment(file_name=GYM_BUILD, seed=1, side_channels=[channel], worker_id=0)\n",
    "\n",
    "# unity_env = UnityEnvironment()\n",
    "\n",
    "# Start interacting with the environment.\n",
    "unity_env.reset()\n",
    "gym_env = UnityToGymWrapper(unity_env, allow_multiple_obs=False)\n",
    "env = PlaceAndShootGym(gym_env, reward_fn=endsInBucket,\n",
    "                       actionTransformer=NO_OBJECT_INTERACTION)"
   ]
  },
  {
   "cell_type": "code",
   "execution_count": 10,
   "metadata": {},
   "outputs": [],
   "source": [
    "env.setup(GAME_2_SETUP)"
   ]
  },
  {
   "cell_type": "code",
   "execution_count": 11,
   "metadata": {},
   "outputs": [
    {
     "ename": "IndexError",
     "evalue": "index 13 is out of bounds for axis 0 with size 13",
     "output_type": "error",
     "traceback": [
      "\u001b[0;31m---------------------------------------------------------------------------\u001b[0m",
      "\u001b[0;31mIndexError\u001b[0m                                Traceback (most recent call last)",
      "\u001b[0;32m/var/folders/xh/lyccyk996l3cr3c7mc5vth500000gp/T/ipykernel_63952/4170279121.py\u001b[0m in \u001b[0;36m<module>\u001b[0;34m\u001b[0m\n\u001b[1;32m      4\u001b[0m     \u001b[0;32mfor\u001b[0m \u001b[0mmouse_y\u001b[0m \u001b[0;32min\u001b[0m \u001b[0mnp\u001b[0m\u001b[0;34m.\u001b[0m\u001b[0marange\u001b[0m\u001b[0;34m(\u001b[0m\u001b[0;34m-\u001b[0m\u001b[0;36m1.0\u001b[0m\u001b[0;34m,\u001b[0m \u001b[0;36m1.0\u001b[0m\u001b[0;34m,\u001b[0m \u001b[0;36m0.2\u001b[0m\u001b[0;34m)\u001b[0m\u001b[0;34m:\u001b[0m\u001b[0;34m\u001b[0m\u001b[0;34m\u001b[0m\u001b[0m\n\u001b[1;32m      5\u001b[0m         \u001b[0;31m# reshoot\u001b[0m\u001b[0;34m\u001b[0m\u001b[0;34m\u001b[0m\u001b[0;34m\u001b[0m\u001b[0m\n\u001b[0;32m----> 6\u001b[0;31m         \u001b[0menv\u001b[0m\u001b[0;34m.\u001b[0m\u001b[0mstep\u001b[0m\u001b[0;34m(\u001b[0m\u001b[0;34m[\u001b[0m\u001b[0;36m0\u001b[0m\u001b[0;34m,\u001b[0m \u001b[0;36m0\u001b[0m\u001b[0;34m,\u001b[0m \u001b[0;36m0\u001b[0m\u001b[0;34m,\u001b[0m \u001b[0;36m0\u001b[0m\u001b[0;34m,\u001b[0m \u001b[0;36m0\u001b[0m\u001b[0;34m,\u001b[0m \u001b[0;36m1\u001b[0m\u001b[0;34m]\u001b[0m\u001b[0;34m)\u001b[0m\u001b[0;34m\u001b[0m\u001b[0;34m\u001b[0m\u001b[0m\n\u001b[0m\u001b[1;32m      7\u001b[0m         \u001b[0mcurr_action\u001b[0m \u001b[0;34m=\u001b[0m \u001b[0;34m[\u001b[0m\u001b[0mmouse_x\u001b[0m\u001b[0;34m,\u001b[0m \u001b[0mmouse_y\u001b[0m\u001b[0;34m,\u001b[0m \u001b[0;36m0\u001b[0m\u001b[0;34m,\u001b[0m \u001b[0;36m0\u001b[0m\u001b[0;34m,\u001b[0m \u001b[0;36m0\u001b[0m\u001b[0;34m,\u001b[0m \u001b[0;36m0\u001b[0m\u001b[0;34m]\u001b[0m\u001b[0;34m\u001b[0m\u001b[0;34m\u001b[0m\u001b[0m\n\u001b[1;32m      8\u001b[0m         \u001b[0mprint\u001b[0m\u001b[0;34m(\u001b[0m\u001b[0;34mf\"Shot: {curr_action}\"\u001b[0m\u001b[0;34m)\u001b[0m\u001b[0;34m\u001b[0m\u001b[0;34m\u001b[0m\u001b[0m\n",
      "\u001b[0;32m/var/folders/xh/lyccyk996l3cr3c7mc5vth500000gp/T/ipykernel_63952/2060708025.py\u001b[0m in \u001b[0;36mstep\u001b[0;34m(self, raw_action)\u001b[0m\n\u001b[1;32m     99\u001b[0m         \u001b[0;31m# first step\u001b[0m\u001b[0;34m\u001b[0m\u001b[0;34m\u001b[0m\u001b[0;34m\u001b[0m\u001b[0m\n\u001b[1;32m    100\u001b[0m         \u001b[0mraw_obs\u001b[0m\u001b[0;34m,\u001b[0m \u001b[0m_reward\u001b[0m\u001b[0;34m,\u001b[0m \u001b[0mdone\u001b[0m\u001b[0;34m,\u001b[0m \u001b[0minfo\u001b[0m \u001b[0;34m=\u001b[0m \u001b[0mself\u001b[0m\u001b[0;34m.\u001b[0m\u001b[0mgym_env\u001b[0m\u001b[0;34m.\u001b[0m\u001b[0mstep\u001b[0m\u001b[0;34m(\u001b[0m\u001b[0maction\u001b[0m\u001b[0;34m)\u001b[0m\u001b[0;34m\u001b[0m\u001b[0;34m\u001b[0m\u001b[0m\n\u001b[0;32m--> 101\u001b[0;31m         \u001b[0mobsVec\u001b[0m\u001b[0;34m.\u001b[0m\u001b[0mappend\u001b[0m\u001b[0;34m(\u001b[0m\u001b[0mObs\u001b[0m\u001b[0;34m(\u001b[0m\u001b[0mraw_obs\u001b[0m\u001b[0;34m)\u001b[0m\u001b[0;34m)\u001b[0m\u001b[0;34m\u001b[0m\u001b[0;34m\u001b[0m\u001b[0m\n\u001b[0m\u001b[1;32m    102\u001b[0m         \u001b[0;31m# continued steps\u001b[0m\u001b[0;34m\u001b[0m\u001b[0;34m\u001b[0m\u001b[0;34m\u001b[0m\u001b[0m\n\u001b[1;32m    103\u001b[0m         \u001b[0;32mwhile\u001b[0m \u001b[0;34m(\u001b[0m\u001b[0many\u001b[0m\u001b[0;34m(\u001b[0m\u001b[0;34m[\u001b[0m\u001b[0mabs\u001b[0m\u001b[0;34m(\u001b[0m\u001b[0mf\u001b[0m\u001b[0;34m)\u001b[0m \u001b[0;34m>\u001b[0m \u001b[0mself\u001b[0m\u001b[0;34m.\u001b[0m\u001b[0mvelTresh\u001b[0m \u001b[0;32mfor\u001b[0m \u001b[0mf\u001b[0m \u001b[0;32min\u001b[0m \u001b[0mobsVec\u001b[0m\u001b[0;34m[\u001b[0m\u001b[0;34m-\u001b[0m\u001b[0;36m1\u001b[0m\u001b[0;34m]\u001b[0m\u001b[0;34m.\u001b[0m\u001b[0mballVel\u001b[0m\u001b[0;34m]\u001b[0m\u001b[0;34m)\u001b[0m\u001b[0;34m)\u001b[0m\u001b[0;34m:\u001b[0m\u001b[0;34m\u001b[0m\u001b[0;34m\u001b[0m\u001b[0m\n",
      "\u001b[0;32m/var/folders/xh/lyccyk996l3cr3c7mc5vth500000gp/T/ipykernel_63952/2060708025.py\u001b[0m in \u001b[0;36m__init__\u001b[0;34m(self, raw_obs)\u001b[0m\n\u001b[1;32m     38\u001b[0m         \u001b[0mself\u001b[0m\u001b[0;34m.\u001b[0m\u001b[0mobjPos\u001b[0m\u001b[0;34m[\u001b[0m\u001b[0mobjectOrder\u001b[0m\u001b[0;34m[\u001b[0m\u001b[0;36m4\u001b[0m\u001b[0;34m]\u001b[0m\u001b[0;34m]\u001b[0m \u001b[0;34m=\u001b[0m \u001b[0mVector2\u001b[0m\u001b[0;34m(\u001b[0m\u001b[0mraw_obs\u001b[0m\u001b[0;34m[\u001b[0m\u001b[0;36m8\u001b[0m\u001b[0;34m]\u001b[0m\u001b[0;34m,\u001b[0m \u001b[0mraw_obs\u001b[0m\u001b[0;34m[\u001b[0m\u001b[0;36m9\u001b[0m\u001b[0;34m]\u001b[0m\u001b[0;34m)\u001b[0m\u001b[0;34m\u001b[0m\u001b[0;34m\u001b[0m\u001b[0m\n\u001b[1;32m     39\u001b[0m         \u001b[0mself\u001b[0m\u001b[0;34m.\u001b[0m\u001b[0mballPos\u001b[0m \u001b[0;34m=\u001b[0m \u001b[0mVector2\u001b[0m\u001b[0;34m(\u001b[0m\u001b[0mraw_obs\u001b[0m\u001b[0;34m[\u001b[0m\u001b[0;36m10\u001b[0m\u001b[0;34m]\u001b[0m\u001b[0;34m,\u001b[0m \u001b[0mraw_obs\u001b[0m\u001b[0;34m[\u001b[0m\u001b[0;36m11\u001b[0m\u001b[0;34m]\u001b[0m\u001b[0;34m)\u001b[0m\u001b[0;34m\u001b[0m\u001b[0;34m\u001b[0m\u001b[0m\n\u001b[0;32m---> 40\u001b[0;31m         \u001b[0mself\u001b[0m\u001b[0;34m.\u001b[0m\u001b[0mballVel\u001b[0m \u001b[0;34m=\u001b[0m \u001b[0mVector2\u001b[0m\u001b[0;34m(\u001b[0m\u001b[0mraw_obs\u001b[0m\u001b[0;34m[\u001b[0m\u001b[0;36m12\u001b[0m\u001b[0;34m]\u001b[0m\u001b[0;34m,\u001b[0m \u001b[0mraw_obs\u001b[0m\u001b[0;34m[\u001b[0m\u001b[0;36m13\u001b[0m\u001b[0;34m]\u001b[0m\u001b[0;34m)\u001b[0m\u001b[0;34m\u001b[0m\u001b[0;34m\u001b[0m\u001b[0m\n\u001b[0m\u001b[1;32m     41\u001b[0m         \u001b[0mself\u001b[0m\u001b[0;34m.\u001b[0m\u001b[0mreset\u001b[0m \u001b[0;34m=\u001b[0m \u001b[0mbool\u001b[0m\u001b[0;34m(\u001b[0m\u001b[0mraw_obs\u001b[0m\u001b[0;34m[\u001b[0m\u001b[0;36m14\u001b[0m\u001b[0;34m]\u001b[0m\u001b[0;34m)\u001b[0m\u001b[0;34m\u001b[0m\u001b[0;34m\u001b[0m\u001b[0m\n\u001b[1;32m     42\u001b[0m \u001b[0;34m\u001b[0m\u001b[0m\n",
      "\u001b[0;31mIndexError\u001b[0m: index 13 is out of bounds for axis 0 with size 13"
     ]
    }
   ],
   "source": [
    "# search over movements\n",
    "\n",
    "for mouse_x in np.arange(-1.0, 1.0, 0.2):\n",
    "    for mouse_y in np.arange(-1.0, 1.0, 0.2):\n",
    "        # reshoot\n",
    "        env.step([0, 0, 0, 0, 0, 1])\n",
    "        curr_action = [mouse_x, mouse_y, 0, 0, 0, 0]\n",
    "        print(f\"Shot: {curr_action}\")\n",
    "        raw_obs, reward, _done, _info = env.step(curr_action)\n",
    "        if reward>0:\n",
    "            print(f\"Game is playable!\")\n",
    "            break"
   ]
  },
  {
   "cell_type": "code",
   "execution_count": 8,
   "metadata": {},
   "outputs": [],
   "source": [
    "env.close()"
   ]
  },
  {
   "cell_type": "code",
   "execution_count": null,
   "metadata": {},
   "outputs": [
    {
     "ename": "UnityEnvironmentException",
     "evalue": "No Unity environment is loaded.",
     "output_type": "error",
     "traceback": [
      "\u001b[0;31m---------------------------------------------------------------------------\u001b[0m",
      "\u001b[0;31mUnityEnvironmentException\u001b[0m                 Traceback (most recent call last)",
      "\u001b[0;32m/var/folders/xh/lyccyk996l3cr3c7mc5vth500000gp/T/ipykernel_63423/3447631947.py\u001b[0m in \u001b[0;36m<module>\u001b[0;34m\u001b[0m\n\u001b[0;32m----> 1\u001b[0;31m \u001b[0menv\u001b[0m\u001b[0;34m.\u001b[0m\u001b[0mreset\u001b[0m\u001b[0;34m(\u001b[0m\u001b[0;34m)\u001b[0m\u001b[0;34m\u001b[0m\u001b[0;34m\u001b[0m\u001b[0m\n\u001b[0m",
      "\u001b[0;32m/var/folders/xh/lyccyk996l3cr3c7mc5vth500000gp/T/ipykernel_63423/2736439614.py\u001b[0m in \u001b[0;36mreset\u001b[0;34m(self)\u001b[0m\n\u001b[1;32m    123\u001b[0m \u001b[0;34m\u001b[0m\u001b[0m\n\u001b[1;32m    124\u001b[0m     \u001b[0;32mdef\u001b[0m \u001b[0mreset\u001b[0m\u001b[0;34m(\u001b[0m\u001b[0mself\u001b[0m\u001b[0;34m)\u001b[0m\u001b[0;34m:\u001b[0m\u001b[0;34m\u001b[0m\u001b[0;34m\u001b[0m\u001b[0m\n\u001b[0;32m--> 125\u001b[0;31m         \u001b[0mself\u001b[0m\u001b[0;34m.\u001b[0m\u001b[0mgym_env\u001b[0m\u001b[0;34m.\u001b[0m\u001b[0mreset\u001b[0m\u001b[0;34m(\u001b[0m\u001b[0;34m)\u001b[0m\u001b[0;34m\u001b[0m\u001b[0;34m\u001b[0m\u001b[0m\n\u001b[0m\u001b[1;32m    126\u001b[0m \u001b[0;34m\u001b[0m\u001b[0m\n\u001b[1;32m    127\u001b[0m     \u001b[0;32mdef\u001b[0m \u001b[0mclose\u001b[0m\u001b[0;34m(\u001b[0m\u001b[0mself\u001b[0m\u001b[0;34m)\u001b[0m\u001b[0;34m:\u001b[0m\u001b[0;34m\u001b[0m\u001b[0;34m\u001b[0m\u001b[0m\n",
      "\u001b[0;32m~/Documents/GitHub/game_creation_research/ml-agents/gym-unity/gym_unity/envs/__init__.py\u001b[0m in \u001b[0;36mreset\u001b[0;34m(self)\u001b[0m\n\u001b[1;32m    158\u001b[0m         \u001b[0mspace\u001b[0m\u001b[0;34m.\u001b[0m\u001b[0;34m\u001b[0m\u001b[0;34m\u001b[0m\u001b[0m\n\u001b[1;32m    159\u001b[0m         \"\"\"\n\u001b[0;32m--> 160\u001b[0;31m         \u001b[0mself\u001b[0m\u001b[0;34m.\u001b[0m\u001b[0m_env\u001b[0m\u001b[0;34m.\u001b[0m\u001b[0mreset\u001b[0m\u001b[0;34m(\u001b[0m\u001b[0;34m)\u001b[0m\u001b[0;34m\u001b[0m\u001b[0;34m\u001b[0m\u001b[0m\n\u001b[0m\u001b[1;32m    161\u001b[0m         \u001b[0mdecision_step\u001b[0m\u001b[0;34m,\u001b[0m \u001b[0m_\u001b[0m \u001b[0;34m=\u001b[0m \u001b[0mself\u001b[0m\u001b[0;34m.\u001b[0m\u001b[0m_env\u001b[0m\u001b[0;34m.\u001b[0m\u001b[0mget_steps\u001b[0m\u001b[0;34m(\u001b[0m\u001b[0mself\u001b[0m\u001b[0;34m.\u001b[0m\u001b[0mname\u001b[0m\u001b[0;34m)\u001b[0m\u001b[0;34m\u001b[0m\u001b[0;34m\u001b[0m\u001b[0m\n\u001b[1;32m    162\u001b[0m         \u001b[0mn_agents\u001b[0m \u001b[0;34m=\u001b[0m \u001b[0mlen\u001b[0m\u001b[0;34m(\u001b[0m\u001b[0mdecision_step\u001b[0m\u001b[0;34m)\u001b[0m\u001b[0;34m\u001b[0m\u001b[0;34m\u001b[0m\u001b[0m\n",
      "\u001b[0;32m/opt/anaconda3/envs/introml_conda/lib/python3.8/site-packages/mlagents_envs/environment.py\u001b[0m in \u001b[0;36mreset\u001b[0;34m(self)\u001b[0m\n\u001b[1;32m    327\u001b[0m             \u001b[0mself\u001b[0m\u001b[0;34m.\u001b[0m\u001b[0m_env_actions\u001b[0m\u001b[0;34m.\u001b[0m\u001b[0mclear\u001b[0m\u001b[0;34m(\u001b[0m\u001b[0;34m)\u001b[0m\u001b[0;34m\u001b[0m\u001b[0;34m\u001b[0m\u001b[0m\n\u001b[1;32m    328\u001b[0m         \u001b[0;32melse\u001b[0m\u001b[0;34m:\u001b[0m\u001b[0;34m\u001b[0m\u001b[0;34m\u001b[0m\u001b[0m\n\u001b[0;32m--> 329\u001b[0;31m             \u001b[0;32mraise\u001b[0m \u001b[0mUnityEnvironmentException\u001b[0m\u001b[0;34m(\u001b[0m\u001b[0;34m\"No Unity environment is loaded.\"\u001b[0m\u001b[0;34m)\u001b[0m\u001b[0;34m\u001b[0m\u001b[0;34m\u001b[0m\u001b[0m\n\u001b[0m\u001b[1;32m    330\u001b[0m \u001b[0;34m\u001b[0m\u001b[0m\n\u001b[1;32m    331\u001b[0m     \u001b[0;34m@\u001b[0m\u001b[0mtimed\u001b[0m\u001b[0;34m\u001b[0m\u001b[0;34m\u001b[0m\u001b[0m\n",
      "\u001b[0;31mUnityEnvironmentException\u001b[0m: No Unity environment is loaded."
     ]
    }
   ],
   "source": [
    "env.reset()"
   ]
  },
  {
   "cell_type": "code",
   "execution_count": null,
   "metadata": {},
   "outputs": [],
   "source": []
  }
 ],
 "metadata": {
  "interpreter": {
   "hash": "e9ca164c7b3bd0bb50cde96947fba4327d4d875f8b3488ae3586fafde6fb5019"
  },
  "kernelspec": {
   "display_name": "Python 3.8.2 ('introml_conda')",
   "language": "python",
   "name": "python3"
  },
  "language_info": {
   "codemirror_mode": {
    "name": "ipython",
    "version": 3
   },
   "file_extension": ".py",
   "mimetype": "text/x-python",
   "name": "python",
   "nbconvert_exporter": "python",
   "pygments_lexer": "ipython3",
   "version": "3.8.2"
  },
  "orig_nbformat": 4
 },
 "nbformat": 4,
 "nbformat_minor": 2
}
