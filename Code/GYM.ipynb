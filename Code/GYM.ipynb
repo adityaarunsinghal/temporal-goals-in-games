{
 "cells": [
  {
   "cell_type": "code",
   "execution_count": 1,
   "metadata": {},
   "outputs": [],
   "source": [
    "# !python -m pip install mlagents==0.28.0\n",
    "# !python -m pip install gym\n",
    "# !cd \"/Users/aditya/Documents/GitHub/game_creation_research/ml-agents/gym-unity\" && pip3 install -e .\n",
    "\n",
    "from PlaceAndShootGym import *\n",
    "from mlagents_envs.environment import UnityEnvironment\n",
    "from mlagents_envs.side_channel.engine_configuration_channel import EngineConfigurationChannel\n"
   ]
  },
  {
   "cell_type": "code",
   "execution_count": 2,
   "metadata": {},
   "outputs": [],
   "source": [
    "# GAME1 = Shoot into bucket through many different gaps for variable rewards\n",
    "# GAME2 = Shoot into bucket after colliding with crate once\n",
    "# GAME3 = Shoot and land onto a platform on the top right made of corner and crate\n",
    "# GAME4 = shoot and touch as many objects before it touches the floor and playable if more than 6 points\n",
    "# GAME5 = free the ball and balance on gear until it goes into bucket (challenge scenario)"
   ]
  },
  {
   "cell_type": "code",
   "execution_count": 36,
   "metadata": {},
   "outputs": [],
   "source": [
    "def GAME_1_REWARD(obsVec: List[Obs]) -> int:\n",
    "    if not endsInBucket(obsVec):\n",
    "        return 0\n",
    "    def top(pos, triangle):\n",
    "        return pos.y>triangle.y\n",
    "    def mid1(pos, corner, triangle):\n",
    "        return pos.y>corner.y and pos.y<triangle.y\n",
    "    def mid2(pos, crate, corner):\n",
    "        return pos.y>crate.y and pos.y<corner.y\n",
    "    def bottom(pos, crate):\n",
    "        return pos.y<crate.y\n",
    "    for each_obs in obsVec:\n",
    "        pos = each_obs.ballPos\n",
    "        if bottom(pos, each_obs.objPos[\"crate\"]): return 4\n",
    "        if mid2(pos, each_obs.objPos[\"crate\"], each_obs.objPos[\"corner\"]): return 3\n",
    "        if mid1(pos, each_obs.objPos[\"corner\"], each_obs.objPos[\"triangle\"]): return 2\n",
    "        if top(pos, each_obs.objPos[\"triangle\"]): return 1\n",
    "    return 0"
   ]
  },
  {
   "cell_type": "code",
   "execution_count": 37,
   "metadata": {},
   "outputs": [
    {
     "data": {
      "text/plain": [
       "{\"ban_object\": [\"crate\", \"bucket\", \"corner\", \"gear\", \"triangle\"], \"ban_mouse_position_x\": [-1, -0.5], \"ban_mouse_position_y\": [99, 999], \"ban_object_position_x\": [99, 999], \"ban_object_position_y\": [99, 999], \"default_action\": [-0.001, 0, 0, 0, 0, 0]}"
      ]
     },
     "execution_count": 37,
     "metadata": {},
     "output_type": "execute_result"
    }
   ],
   "source": [
    "GAME_1_TRANSFORMER = copy.deepcopy(NO_OBJECT_INTERACTION)\n",
    "GAME_1_TRANSFORMER.ban_mouse_position_x = (-1, -0.5)\n",
    "GAME_1_TRANSFORMER"
   ]
  },
  {
   "cell_type": "code",
   "execution_count": 38,
   "metadata": {},
   "outputs": [
    {
     "name": "stdout",
     "output_type": "stream",
     "text": [
      "[INFO] Listening on port 5004. Start training by pressing the Play button in the Unity Editor.\n",
      "[INFO] Connected to Unity environment with package version 2.2.1-exp.1 and communication version 1.5.0\n",
      "[INFO] Connected new brain: PlaceAndShoot?team=0\n",
      "[WARNING] The environment contains multiple observations. You must define allow_multiple_obs=True to receive them all. Otherwise, only the first visual observation (or vector observation ifthere are no visual observations) will be provided in the observation.\n"
     ]
    },
    {
     "name": "stderr",
     "output_type": "stream",
     "text": [
      "/opt/anaconda3/envs/introml_conda/lib/python3.8/site-packages/gym/logger.py:34: UserWarning: \u001b[33mWARN: Box bound precision lowered by casting to float32\u001b[0m\n",
      "  warnings.warn(colorize(\"%s: %s\" % (\"WARN\", msg % args), \"yellow\"))\n"
     ]
    }
   ],
   "source": [
    "try:\n",
    "    env.close()\n",
    "except:\n",
    "    pass\n",
    "\n",
    "SERVER_BUILD = \"../Builds/MLAgent_View_21April22_server.app\"\n",
    "GYM_BUILD = \"../Builds/Gym_View_25April22.app\"\n",
    "\n",
    "# channel = EngineConfigurationChannel()\n",
    "# channel.set_configuration_parameters(time_scale=5, quality_level=0)\n",
    "# unity_env = UnityEnvironment(\n",
    "#     file_name=GYM_BUILD, seed=1, side_channels=[channel], worker_id=0)\n",
    "\n",
    "unity_env = UnityEnvironment()\n",
    "\n",
    "# Start interacting with the environment.\n",
    "unity_env.reset()\n",
    "gym_env = UnityToGymWrapper(unity_env, allow_multiple_obs=False)\n",
    "env = PlaceAndShootGym(gym_env, reward_fn=GAME_1_REWARD,\n",
    "                       actionTransformer=GAME_1_TRANSFORMER,\n",
    "                       announce_actions=True)\n"
   ]
  },
  {
   "cell_type": "code",
   "execution_count": 39,
   "metadata": {},
   "outputs": [],
   "source": [
    "GAME_1_SETUP = [[0, 0, -0.55, 0.6, Action.objectTagToActionVal(\"triangle\"), 0],\n",
    "                [0, 0, -0.55, 0.1, Action.objectTagToActionVal(\"corner\"), 0],\n",
    "                [0, 0, -0.55, -0.4, Action.objectTagToActionVal(\"crate\"), 0],\n",
    "                [0, 0, -0.85, -0.91, Action.objectTagToActionVal(\"bucket\"), 0],\n",
    "                [0, 0, 0, 0, 0, 1]]\n",
    "\n",
    "env.setup(GAME_1_SETUP)"
   ]
  },
  {
   "cell_type": "code",
   "execution_count": 7,
   "metadata": {},
   "outputs": [
    {
     "name": "stdout",
     "output_type": "stream",
     "text": [
      "[0, 0, 0, 0, None, True]\n",
      "bucket: Vector2(x=-3.825, y=-4.0950003)\n",
      "corner: Vector2(x=-2.4750001, y=0.45000002)\n",
      "crate: Vector2(x=-2.4750001, y=-1.8000001)\n",
      "gear: Vector2(x=6.75, y=-0.65)\n",
      "triangle: Vector2(x=-2.4750001, y=2.7)\n",
      "Ball Position: Vector2(x=0.0, y=-3.9)\n",
      "Ball Velocity: Vector2(x=0.0, y=-0.0)\n",
      "Collided With: None\n",
      "In Reset?: True\n",
      "\n"
     ]
    }
   ],
   "source": [
    "# reset pedestal\n",
    "\n",
    "a = Action()\n",
    "a.reset = True\n",
    "print(Obs(env.step(a)[0]))\n"
   ]
  },
  {
   "cell_type": "code",
   "execution_count": 8,
   "metadata": {},
   "outputs": [
    {
     "name": "stdout",
     "output_type": "stream",
     "text": [
      "bucket: Vector2(x=-3.825, y=-4.0950003)\n",
      "corner: Vector2(x=-2.4750001, y=0.45000002)\n",
      "crate: Vector2(x=-2.4750001, y=-1.8000001)\n",
      "gear: Vector2(x=6.75, y=-0.65)\n",
      "triangle: Vector2(x=-2.4750001, y=2.7)\n",
      "Ball Position: Vector2(x=0.0, y=-3.9)\n",
      "Ball Velocity: Vector2(x=0.0, y=-0.0)\n",
      "Collided With: None\n",
      "In Reset?: True\n",
      "\n"
     ]
    }
   ],
   "source": [
    "# see exactly what just happened\n",
    "\n",
    "for each_obs in env.lastObsVec:\n",
    "    print(each_obs)\n"
   ]
  },
  {
   "cell_type": "code",
   "execution_count": 44,
   "metadata": {},
   "outputs": [
    {
     "name": "stdout",
     "output_type": "stream",
     "text": [
      "[0.4, -0.5, 0, 0, None, False]\n"
     ]
    },
    {
     "data": {
      "text/plain": [
       "(array([-3.8250000e+00, -4.0950003e+00, -2.4750001e+00,  4.5000002e-01,\n",
       "        -2.4750001e+00, -1.8000001e+00,  6.7500000e+00, -6.4999998e-01,\n",
       "        -2.4750001e+00,  2.7000000e+00, -3.8911114e+00, -4.2995667e+00,\n",
       "         1.1591169e-09, -3.5963228e-09,  1.0000000e+00,  0.0000000e+00],\n",
       "       dtype=float32),\n",
       " 3.0,\n",
       " False,\n",
       " {'step': <mlagents_envs.base_env.DecisionSteps at 0x7fb4f7068910>})"
      ]
     },
     "execution_count": 44,
     "metadata": {},
     "output_type": "execute_result"
    }
   ],
   "source": [
    "# manual actioner\n",
    "\n",
    "action = Action()\n",
    "action.mouseX = 0.4\n",
    "action.mouseY = -0.5\n",
    "action.objX = 0\n",
    "action.objY = 0\n",
    "# action.setObject(\"crate\")\n",
    "# action.reset = True\n",
    "env.step(action)\n"
   ]
  },
  {
   "cell_type": "code",
   "execution_count": 10,
   "metadata": {},
   "outputs": [],
   "source": [
    "# env.close()\n"
   ]
  },
  {
   "cell_type": "code",
   "execution_count": 11,
   "metadata": {},
   "outputs": [],
   "source": [
    "# env.reset()\n"
   ]
  }
 ],
 "metadata": {
  "interpreter": {
   "hash": "e9ca164c7b3bd0bb50cde96947fba4327d4d875f8b3488ae3586fafde6fb5019"
  },
  "kernelspec": {
   "display_name": "Python 3.8.2 ('introml_conda')",
   "language": "python",
   "name": "python3"
  },
  "language_info": {
   "codemirror_mode": {
    "name": "ipython",
    "version": 3
   },
   "file_extension": ".py",
   "mimetype": "text/x-python",
   "name": "python",
   "nbconvert_exporter": "python",
   "pygments_lexer": "ipython3",
   "version": "3.8.2"
  },
  "orig_nbformat": 4
 },
 "nbformat": 4,
 "nbformat_minor": 2
}
