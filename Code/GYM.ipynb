{
 "cells": [
  {
   "cell_type": "code",
   "execution_count": null,
   "metadata": {},
   "outputs": [],
   "source": [
    "# !python -m pip install mlagents==0.28.0\n",
    "# !python -m pip install gym\n",
    "# !cd \"/Users/aditya/Documents/GitHub/game_creation_research/ml-agents/gym-unity\" && pip3 install -e .\n",
    "\n",
    "import random\n",
    "from PlaceAndShootGym import *\n",
    "from mlagents_envs.environment import UnityEnvironment\n",
    "from mlagents_envs.side_channel.engine_configuration_channel import EngineConfigurationChannel\n",
    "from GAME_4_SOLVER import *\n",
    "from GAME_5_SOLVER import *\n"
   ]
  },
  {
   "cell_type": "code",
   "execution_count": null,
   "metadata": {},
   "outputs": [],
   "source": [
    "# GAME1 = Shoot into bucket through many different gaps for variable rewards\n",
    "# GAME2 = Shoot into bucket after colliding with crate once\n",
    "# GAME3 = Shoot and land onto a platform on the top right made of corner and crate\n",
    "# GAME4 = shoot and touch as many objects before it touches the floor and playable if more than 6 points\n",
    "# GAME5 = touch all three walls and then go into the bucket"
   ]
  },
  {
   "cell_type": "code",
   "execution_count": null,
   "metadata": {},
   "outputs": [],
   "source": [
    "try:\n",
    "    env.close()\n",
    "except:\n",
    "    pass\n",
    "\n",
    "SERVER_BUILD = \"../Builds/MLAgent_View_21April22_server.app\"\n",
    "GYM_BUILD = \"../Builds/Gym_View_25April22.app\"\n",
    "\n",
    "channel = EngineConfigurationChannel()\n",
    "channel.set_configuration_parameters(time_scale=2, quality_level=0)\n",
    "# unity_env = UnityEnvironment(\n",
    "#     file_name=GYM_BUILD, seed=1, side_channels=[channel], worker_id=0)\n",
    "\n",
    "unity_env = UnityEnvironment(side_channels=[channel])\n",
    "\n",
    "# Start interacting with the environment.\n",
    "unity_env.reset()\n",
    "gym_env = UnityToGymWrapper(unity_env, allow_multiple_obs=False)\n",
    "env = PlaceAndShootGym(gym_env, reward_fn=GAME_4_REWARD,\n",
    "                       actionTransformer=GAME_4_TRANSFORMER,\n",
    "                       announce_actions=True)\n"
   ]
  },
  {
   "cell_type": "code",
   "execution_count": null,
   "metadata": {},
   "outputs": [],
   "source": [
    "env.setup(GAME_4_SETUP)"
   ]
  },
  {
   "cell_type": "code",
   "execution_count": 15,
   "metadata": {},
   "outputs": [
    {
     "name": "stdout",
     "output_type": "stream",
     "text": [
      "[0, 0, 0, 0, None, True]\n",
      "bucket: Vector2(x=6.75, y=1.0)\n",
      "corner: Vector2(x=-3.832676, y=-0.52881503)\n",
      "crate: Vector2(x=0.45793498, y=-0.114176)\n",
      "gear: Vector2(x=-1.5371389, y=1.340065)\n",
      "triangle: Vector2(x=-2.6007779, y=3.299083)\n",
      "Ball Position: Vector2(x=0.0, y=-3.9)\n",
      "Ball Velocity: Vector2(x=0.0, y=-0.0)\n",
      "Collided With: None\n",
      "In Reset?: True\n",
      "\n",
      "\n",
      "Ball was reset and no other value matters.\n",
      "\n"
     ]
    }
   ],
   "source": [
    "# reset pedestal\n",
    "\n",
    "a = Action()\n",
    "a.reset = True\n",
    "print(Obs(env.step(a)[0]))\n",
    "a.describe()"
   ]
  },
  {
   "cell_type": "code",
   "execution_count": null,
   "metadata": {},
   "outputs": [],
   "source": [
    "# see exactly what just happened\n",
    "\n",
    "for each_obs in env.lastObsVec:\n",
    "    print(each_obs)\n"
   ]
  },
  {
   "cell_type": "code",
   "execution_count": null,
   "metadata": {},
   "outputs": [],
   "source": [
    "# env.velTresh = 0.005"
   ]
  },
  {
   "cell_type": "code",
   "execution_count": 16,
   "metadata": {},
   "outputs": [
    {
     "name": "stdout",
     "output_type": "stream",
     "text": [
      "\n",
      "Agent put mouse at world pos (-2.228, 0.0)\n",
      "No object interaction in this action\n",
      "\n",
      "[-0.33, 0, 0, 0, None, False]\n",
      "\n",
      "Agent put mouse at world pos (-2.295, -5.4)\n",
      "No object interaction in this action\n",
      "\n",
      "[-0.34, -0.8, 0, 0, None, False]\n"
     ]
    },
    {
     "data": {
      "text/plain": [
       "(array([ 6.7500000e+00,  1.0000000e+00, -3.8326759e+00, -5.2881503e-01,\n",
       "         4.5793498e-01, -1.1417600e-01, -1.5371389e+00,  1.3400650e+00,\n",
       "        -2.6007779e+00,  3.2990830e+00, -1.0181019e+00, -4.4329844e+00,\n",
       "        -9.8048174e-04,  0.0000000e+00, -1.0000000e+00,  0.0000000e+00],\n",
       "       dtype=float32),\n",
       " 3.0,\n",
       " False,\n",
       " {'step': <mlagents_envs.base_env.DecisionSteps at 0x7f8a13708520>})"
      ]
     },
     "execution_count": 16,
     "metadata": {},
     "output_type": "execute_result"
    }
   ],
   "source": [
    "# manual actioner\n",
    "\n",
    "action = Action()\n",
    "action.mouseX = -0.33\n",
    "action.mouseY = 0\n",
    "action.objX = 0\n",
    "action.objY = 0\n",
    "# action.setObject(\"crate\")\n",
    "# action.reset = True\n",
    "action.describe()\n",
    "env.step(action)\n",
    "\n",
    "action = Action()\n",
    "action.mouseX = -0.34\n",
    "action.mouseY = -0.8\n",
    "action.objX = 0\n",
    "action.objY = 0\n",
    "# action.setObject(\"crate\")\n",
    "# action.reset = True\n",
    "action.describe()\n",
    "env.step(action)\n"
   ]
  },
  {
   "cell_type": "code",
   "execution_count": null,
   "metadata": {},
   "outputs": [],
   "source": [
    "env.close()"
   ]
  },
  {
   "cell_type": "code",
   "execution_count": null,
   "metadata": {},
   "outputs": [],
   "source": [
    "# env.reset()\n"
   ]
  }
 ],
 "metadata": {
  "interpreter": {
   "hash": "e9ca164c7b3bd0bb50cde96947fba4327d4d875f8b3488ae3586fafde6fb5019"
  },
  "kernelspec": {
   "display_name": "Python 3.8.2 ('introml_conda')",
   "language": "python",
   "name": "python3"
  },
  "language_info": {
   "codemirror_mode": {
    "name": "ipython",
    "version": 3
   },
   "file_extension": ".py",
   "mimetype": "text/x-python",
   "name": "python",
   "nbconvert_exporter": "python",
   "pygments_lexer": "ipython3",
   "version": "3.8.2"
  },
  "orig_nbformat": 4
 },
 "nbformat": 4,
 "nbformat_minor": 2
}
