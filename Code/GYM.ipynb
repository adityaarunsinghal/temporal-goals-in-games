{
 "cells": [
  {
   "cell_type": "code",
   "execution_count": 1,
   "metadata": {},
   "outputs": [],
   "source": [
    "# !python -m pip install mlagents==0.28.0\n",
    "# !python -m pip install gym\n",
    "# !cd \"/Users/aditya/Documents/GitHub/game_creation_research/ml-agents/gym-unity\" && pip3 install -e .\n",
    "\n",
    "import random\n",
    "from PlaceAndShootGym import *\n",
    "from mlagents_envs.environment import UnityEnvironment\n",
    "from mlagents_envs.side_channel.engine_configuration_channel import EngineConfigurationChannel\n",
    "from GAME_1_SOLVER import *\n",
    "from GAME_2_SOLVER import *\n",
    "from GAME_3_SOLVER import *\n",
    "from GAME_4_SOLVER import *\n",
    "from GAME_5_SOLVER import *\n"
   ]
  },
  {
   "cell_type": "code",
   "execution_count": 2,
   "metadata": {},
   "outputs": [],
   "source": [
    "# GAME1 = Shoot into bucket through many different gaps for variable rewards\n",
    "# GAME2 = Shoot into bucket after colliding with crate once\n",
    "# GAME3 = Shoot and land onto a platform on the top right made of corner and crate\n",
    "# GAME4 = shoot and touch as many objects before it touches the floor and playable if more than 6 points\n",
    "# GAME5 = touch all three walls and then go into the bucket"
   ]
  },
  {
   "cell_type": "code",
   "execution_count": 3,
   "metadata": {},
   "outputs": [],
   "source": [
    "def GAME_5_REWARD(obsVec: List[Obs]) -> bool:\n",
    "    if not endsInBucket(obsVec):\n",
    "        return False\n",
    "    hitLeft = False\n",
    "    hitRight = False\n",
    "    hitTop = False\n",
    "    for each_obs in obsVec:\n",
    "        if each_obs.collidedWith == \"leftWall\":\n",
    "            hitLeft = True\n",
    "        elif each_obs.collidedWith == \"rightWall\":\n",
    "            hitRight = True\n",
    "        elif each_obs.collidedWith == \"topWall\":\n",
    "            hitTop = True\n",
    "        \n",
    "    return hitTop and hitRight and hitLeft"
   ]
  },
  {
   "cell_type": "code",
   "execution_count": 23,
   "metadata": {},
   "outputs": [
    {
     "name": "stdout",
     "output_type": "stream",
     "text": [
      "[INFO] Listening on port 5004. Start training by pressing the Play button in the Unity Editor.\n",
      "[INFO] Connected to Unity environment with package version 2.2.1-exp.1 and communication version 1.5.0\n",
      "[INFO] Connected new brain: PlaceAndShoot?team=0\n",
      "[WARNING] The environment contains multiple observations. You must define allow_multiple_obs=True to receive them all. Otherwise, only the first visual observation (or vector observation ifthere are no visual observations) will be provided in the observation.\n"
     ]
    }
   ],
   "source": [
    "try:\n",
    "    env.close()\n",
    "except:\n",
    "    pass\n",
    "\n",
    "SERVER_BUILD = \"../Builds/MLAgent_View_21April22_server.app\"\n",
    "GYM_BUILD = \"../Builds/Gym_View_25April22.app\"\n",
    "\n",
    "channel = EngineConfigurationChannel()\n",
    "channel.set_configuration_parameters(time_scale=1, quality_level=0)\n",
    "# unity_env = UnityEnvironment(\n",
    "#     file_name=GYM_BUILD, seed=1, side_channels=[channel], worker_id=0)\n",
    "\n",
    "unity_env = UnityEnvironment(side_channels=[channel])\n",
    "\n",
    "# Start interacting with the environment.\n",
    "unity_env.reset()\n",
    "gym_env = UnityToGymWrapper(unity_env, allow_multiple_obs=False)\n",
    "env = PlaceAndShootGym(gym_env, reward_fn=GAME_5_REWARD,\n",
    "                       actionTransformer=GAME_5_TRANSFORMER,\n",
    "                       announce_actions=True)\n"
   ]
  },
  {
   "cell_type": "code",
   "execution_count": 24,
   "metadata": {},
   "outputs": [
    {
     "data": {
      "text/plain": [
       "array([-3.825    , -4.0499997,  6.75     , -3.5      ,  6.75     ,\n",
       "        2.5      ,  6.75     , -0.65     ,  6.75     , -2.       ,\n",
       "        0.       , -3.9      ,  0.       , -0.       , -1.       ,\n",
       "        1.       ], dtype=float32)"
      ]
     },
     "execution_count": 24,
     "metadata": {},
     "output_type": "execute_result"
    }
   ],
   "source": [
    "env.setup(GAME_5_SETUP)"
   ]
  },
  {
   "cell_type": "code",
   "execution_count": 25,
   "metadata": {},
   "outputs": [
    {
     "name": "stdout",
     "output_type": "stream",
     "text": [
      "[0, 0, 0, 0, None, True]\n",
      "bucket: Vector2(x=-3.825, y=-4.0499997)\n",
      "corner: Vector2(x=6.75, y=-3.5)\n",
      "crate: Vector2(x=6.75, y=2.5)\n",
      "gear: Vector2(x=6.75, y=-0.65)\n",
      "triangle: Vector2(x=6.75, y=-2.0)\n",
      "Ball Position: Vector2(x=0.0, y=-3.9)\n",
      "Ball Velocity: Vector2(x=0.0, y=-0.0)\n",
      "Collided With: None\n",
      "In Reset?: True\n",
      "\n",
      "\n",
      "Ball was reset and no other value matters.\n",
      "\n"
     ]
    }
   ],
   "source": [
    "# reset pedestal\n",
    "\n",
    "a = Action()\n",
    "a.reset = True\n",
    "print(Obs(env.step(a)[0]))\n",
    "a.describe()"
   ]
  },
  {
   "cell_type": "code",
   "execution_count": 30,
   "metadata": {},
   "outputs": [
    {
     "name": "stdout",
     "output_type": "stream",
     "text": [
      "bucket: Vector2(x=-3.825, y=-4.0499997)\n",
      "corner: Vector2(x=6.75, y=-3.5)\n",
      "crate: Vector2(x=6.75, y=2.5)\n",
      "gear: Vector2(x=6.75, y=-0.65)\n",
      "triangle: Vector2(x=6.75, y=-2.0)\n",
      "Ball Position: Vector2(x=3.7155905, y=2.7462804)\n",
      "Ball Velocity: Vector2(x=14.981716, y=14.785902)\n",
      "Collided With: None\n",
      "In Reset?: False\n",
      "\n",
      "bucket: Vector2(x=-3.825, y=-4.0499997)\n",
      "corner: Vector2(x=6.75, y=-3.5)\n",
      "crate: Vector2(x=6.75, y=2.5)\n",
      "gear: Vector2(x=6.75, y=-0.65)\n",
      "triangle: Vector2(x=6.75, y=-2.0)\n",
      "Ball Position: Vector2(x=1.7125138, y=3.175527)\n",
      "Ball Velocity: Vector2(x=-7.8358297, y=-6.3667207)\n",
      "Collided With: topWall\n",
      "In Reset?: False\n",
      "\n",
      "bucket: Vector2(x=-3.825, y=-4.0499997)\n",
      "corner: Vector2(x=6.75, y=-3.5)\n",
      "crate: Vector2(x=6.75, y=2.5)\n",
      "gear: Vector2(x=6.75, y=-0.65)\n",
      "triangle: Vector2(x=6.75, y=-2.0)\n",
      "Ball Position: Vector2(x=-1.35531, y=-0.11213165)\n",
      "Ball Velocity: Vector2(x=-7.5288873, y=-9.960122)\n",
      "Collided With: None\n",
      "In Reset?: False\n",
      "\n",
      "bucket: Vector2(x=-3.825, y=-4.0499997)\n",
      "corner: Vector2(x=6.75, y=-3.5)\n",
      "crate: Vector2(x=6.75, y=2.5)\n",
      "gear: Vector2(x=6.75, y=-0.65)\n",
      "triangle: Vector2(x=6.75, y=-2.0)\n",
      "Ball Position: Vector2(x=-3.7299995, y=-4.129707)\n",
      "Ball Velocity: Vector2(x=-4.08768, y=0.25109744)\n",
      "Collided With: bucket\n",
      "In Reset?: False\n",
      "\n",
      "bucket: Vector2(x=-3.825, y=-4.0499997)\n",
      "corner: Vector2(x=6.75, y=-3.5)\n",
      "crate: Vector2(x=6.75, y=2.5)\n",
      "gear: Vector2(x=6.75, y=-0.65)\n",
      "triangle: Vector2(x=6.75, y=-2.0)\n",
      "Ball Position: Vector2(x=-3.8448334, y=-4.2406907)\n",
      "Ball Velocity: Vector2(x=-0.71915686, y=0.90963626)\n",
      "Collided With: bucket\n",
      "In Reset?: False\n",
      "\n",
      "bucket: Vector2(x=-3.825, y=-4.0499997)\n",
      "corner: Vector2(x=6.75, y=-3.5)\n",
      "crate: Vector2(x=6.75, y=2.5)\n",
      "gear: Vector2(x=6.75, y=-0.65)\n",
      "triangle: Vector2(x=6.75, y=-2.0)\n",
      "Ball Position: Vector2(x=-3.8776894, y=-4.253226)\n",
      "Ball Velocity: Vector2(x=0.07064597, y=0.0030863413)\n",
      "Collided With: bucket\n",
      "In Reset?: False\n",
      "\n",
      "bucket: Vector2(x=-3.825, y=-4.0499997)\n",
      "corner: Vector2(x=6.75, y=-3.5)\n",
      "crate: Vector2(x=6.75, y=2.5)\n",
      "gear: Vector2(x=6.75, y=-0.65)\n",
      "triangle: Vector2(x=6.75, y=-2.0)\n",
      "Ball Position: Vector2(x=-3.8730369, y=-4.2507625)\n",
      "Ball Velocity: Vector2(x=-0.042976424, y=-0.0018775411)\n",
      "Collided With: None\n",
      "In Reset?: False\n",
      "\n",
      "bucket: Vector2(x=-3.825, y=-4.0499997)\n",
      "corner: Vector2(x=6.75, y=-3.5)\n",
      "crate: Vector2(x=6.75, y=2.5)\n",
      "gear: Vector2(x=6.75, y=-0.65)\n",
      "triangle: Vector2(x=6.75, y=-2.0)\n",
      "Ball Position: Vector2(x=-3.8881314, y=-4.2515564)\n",
      "Ball Velocity: Vector2(x=3.124665e-10, y=2.0640875e-10)\n",
      "Collided With: None\n",
      "In Reset?: False\n",
      "\n"
     ]
    }
   ],
   "source": [
    "# see exactly what just happened\n",
    "\n",
    "for each_obs in env.lastObsVec:\n",
    "    print(each_obs)\n"
   ]
  },
  {
   "cell_type": "code",
   "execution_count": 27,
   "metadata": {},
   "outputs": [],
   "source": [
    "# env.velTresh = 0.005"
   ]
  },
  {
   "cell_type": "code",
   "execution_count": 28,
   "metadata": {},
   "outputs": [
    {
     "name": "stdout",
     "output_type": "stream",
     "text": [
      "\n",
      "Agent put mouse at world pos (-2.288, 0.0)\n",
      "No object interaction in this action\n",
      "\n",
      "[-0.339, 0, 0, 0, None, False]\n",
      "\n",
      "Agent put mouse at world pos (-3.848, -5.873)\n",
      "No object interaction in this action\n",
      "\n",
      "[-0.57, -0.87, 0, 0, None, False]\n"
     ]
    },
    {
     "data": {
      "text/plain": [
       "(array([-3.8250000e+00, -4.0499997e+00,  6.7500000e+00, -3.5000000e+00,\n",
       "         6.7500000e+00,  2.5000000e+00,  6.7500000e+00, -6.4999998e-01,\n",
       "         6.7500000e+00, -2.0000000e+00, -3.8881314e+00, -4.2515564e+00,\n",
       "         3.1246650e-10,  2.0640875e-10, -1.0000000e+00,  0.0000000e+00],\n",
       "       dtype=float32),\n",
       " 0.0,\n",
       " False,\n",
       " {'step': <mlagents_envs.base_env.DecisionSteps at 0x7ffcf887c3d0>})"
      ]
     },
     "execution_count": 28,
     "metadata": {},
     "output_type": "execute_result"
    }
   ],
   "source": [
    "# manual actioner\n",
    "\n",
    "action = Action()\n",
    "action.mouseX = -0.339\n",
    "action.mouseY = 0\n",
    "action.objX = 0\n",
    "action.objY = 0\n",
    "# action.setObject(\"crate\")\n",
    "# action.reset = True\n",
    "action.describe()\n",
    "env.step(action)\n",
    "\n",
    "action = Action()\n",
    "action.mouseX = -0.57\n",
    "action.mouseY = -0.87\n",
    "action.objX = 0\n",
    "action.objY = 0\n",
    "action.force = True\n",
    "# action.setObject(\"crate\")\n",
    "# action.reset = True\n",
    "action.describe()\n",
    "env.step(action)\n"
   ]
  },
  {
   "cell_type": "code",
   "execution_count": 29,
   "metadata": {},
   "outputs": [],
   "source": [
    "env.close()"
   ]
  },
  {
   "cell_type": "code",
   "execution_count": 11,
   "metadata": {},
   "outputs": [],
   "source": [
    "# env.reset()\n"
   ]
  }
 ],
 "metadata": {
  "interpreter": {
   "hash": "e9ca164c7b3bd0bb50cde96947fba4327d4d875f8b3488ae3586fafde6fb5019"
  },
  "kernelspec": {
   "display_name": "Python 3.8.2 ('introml_conda')",
   "language": "python",
   "name": "python3"
  },
  "language_info": {
   "codemirror_mode": {
    "name": "ipython",
    "version": 3
   },
   "file_extension": ".py",
   "mimetype": "text/x-python",
   "name": "python",
   "nbconvert_exporter": "python",
   "pygments_lexer": "ipython3",
   "version": "3.8.2"
  },
  "orig_nbformat": 4
 },
 "nbformat": 4,
 "nbformat_minor": 2
}
