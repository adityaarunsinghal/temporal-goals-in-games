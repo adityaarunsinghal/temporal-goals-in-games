{
 "cells": [
  {
   "cell_type": "code",
   "execution_count": 41,
   "metadata": {},
   "outputs": [],
   "source": [
    "# !python -m pip install mlagents==0.28.0\n",
    "# !python -m pip install gym\n",
    "# !cd \"/Users/aditya/Documents/GitHub/game_creation_research/ml-agents/gym-unity\" && pip3 install -e .\n",
    "\n",
    "import mlagents\n",
    "from mlagents_envs.environment import UnityEnvironment\n",
    "from mlagents_envs.side_channel.engine_configuration_channel import EngineConfigurationChannel\n",
    "from gym_unity.envs import UnityToGymWrapper"
   ]
  },
  {
   "cell_type": "code",
   "execution_count": 42,
   "metadata": {},
   "outputs": [],
   "source": [
    "from collections import namedtuple, defaultdict\n",
    "Vector2 = namedtuple('Vector2', 'x y')\n",
    "\n",
    "#unsure if this is always true\n",
    "objectOrder = [\"corner\", \"bucket\", \"triangle\", \"gear\", \"crate\"]\n",
    "\n",
    "def showObservation(obs):\n",
    "    for each_key in obs:\n",
    "        if type(obs[each_key])==dict:\n",
    "            for each_obj in objectOrder:\n",
    "                print(f\"{each_obj}: {obs[each_key][each_obj]}\")\n",
    "        else:\n",
    "            print(f\"{each_key}: {obs[each_key]}\")\n",
    "\n",
    "def readObservation(arr, only_show=False):\n",
    "    obs = {}\n",
    "    obs[\"objPos\"] = {}\n",
    "    obs[\"objPos\"][objectOrder[0]] = Vector2(arr[0], arr[1])\n",
    "    obs[\"objPos\"][objectOrder[1]] = Vector2(arr[2], arr[3])\n",
    "    obs[\"objPos\"][objectOrder[2]] = Vector2(arr[4], arr[5])\n",
    "    obs[\"objPos\"][objectOrder[3]] = Vector2(arr[6], arr[7])\n",
    "    obs[\"objPos\"][objectOrder[4]] = Vector2(arr[8], arr[9])\n",
    "    obs[\"ballPos\"] = Vector2(arr[10], arr[11])\n",
    "    obs[\"reset\"] = bool(arr[12])\n",
    "\n",
    "    if only_show:\n",
    "        showObservation(obs)\n",
    "    else:\n",
    "        return obs"
   ]
  },
  {
   "cell_type": "code",
   "execution_count": 43,
   "metadata": {},
   "outputs": [
    {
     "name": "stderr",
     "output_type": "stream",
     "text": [
      "E0422 13:39:48.612585000 4579200512 fork_posix.cc:76]                  Other threads are currently calling into gRPC, skipping fork() handlers\n"
     ]
    },
    {
     "name": "stdout",
     "output_type": "stream",
     "text": [
      "[INFO] Connected to Unity environment with package version 2.2.1-exp.1 and communication version 1.5.0\n",
      "[INFO] Connected new brain: PlaceAndShoot?team=0\n"
     ]
    },
    {
     "name": "stderr",
     "output_type": "stream",
     "text": [
      "/opt/anaconda3/envs/introml_conda/lib/python3.8/site-packages/gym/logger.py:34: UserWarning: \u001b[33mWARN: Box bound precision lowered by casting to float32\u001b[0m\n",
      "  warnings.warn(colorize(\"%s: %s\" % (\"WARN\", msg % args), \"yellow\"))\n"
     ]
    }
   ],
   "source": [
    "SERVER_BUILD = \"../Builds/MLAgent_View_21April22_server.app\"\n",
    "GRAPHICAL_BUILD = \"../Builds/MLAgent_View_21April22.app\"\n",
    "GYM_BUILD = \"../Builds/Gym_View_22April22.app\"\n",
    "\n",
    "channel = EngineConfigurationChannel()\n",
    "channel.set_configuration_parameters(time_scale = 1.0, quality_level=1, target_frame_rate=5)\n",
    "env = UnityEnvironment(file_name=GYM_BUILD, seed=1, side_channels=[channel], worker_id=1)\n",
    "\n",
    "# Start interacting with the environment.\n",
    "env.reset()\n",
    "env = UnityToGymWrapper(env, allow_multiple_obs=True)"
   ]
  },
  {
   "cell_type": "code",
   "execution_count": 44,
   "metadata": {},
   "outputs": [
    {
     "name": "stdout",
     "output_type": "stream",
     "text": [
      "corner: Vector2(x=5.34, y=-2.65)\n",
      "bucket: Vector2(x=5.34, y=1.85)\n",
      "triangle: Vector2(x=5.34, y=-1.25)\n",
      "gear: Vector2(x=5.34, y=0.24)\n",
      "crate: Vector2(x=5.34, y=3.26)\n",
      "ballPos: Vector2(x=1.0, y=-4.1317406)\n",
      "reset: False\n"
     ]
    }
   ],
   "source": [
    "obs, reward, done, info = env.step(action=[0.1, 0.5, 0, 0, 0, 0])\n",
    "readObservation(obs[0], only_show=True)"
   ]
  },
  {
   "cell_type": "code",
   "execution_count": 34,
   "metadata": {},
   "outputs": [
    {
     "data": {
      "text/plain": [
       "([array([ 5.34      , -2.65      , -2.8114905 ,  0.10777473,  5.34      ,\n",
       "         -1.25      ,  5.34      ,  0.24      ,  1.        ,  1.        ,\n",
       "          1.        , -2.9022753 ,  0.        ], dtype=float32)],\n",
       " 0.0,\n",
       " False,\n",
       " {'step': <mlagents_envs.base_env.DecisionSteps at 0x7fbff22130d0>})"
      ]
     },
     "execution_count": 34,
     "metadata": {},
     "output_type": "execute_result"
    }
   ],
   "source": [
    "env.step(action=[0.1, 0.5, 0.1, 0.1, 1, 0])"
   ]
  },
  {
   "cell_type": "code",
   "execution_count": 40,
   "metadata": {},
   "outputs": [],
   "source": [
    "env.close()"
   ]
  },
  {
   "cell_type": "code",
   "execution_count": null,
   "metadata": {},
   "outputs": [],
   "source": []
  }
 ],
 "metadata": {
  "interpreter": {
   "hash": "e9ca164c7b3bd0bb50cde96947fba4327d4d875f8b3488ae3586fafde6fb5019"
  },
  "kernelspec": {
   "display_name": "Python 3.8.2 ('introml_conda')",
   "language": "python",
   "name": "python3"
  },
  "language_info": {
   "codemirror_mode": {
    "name": "ipython",
    "version": 3
   },
   "file_extension": ".py",
   "mimetype": "text/x-python",
   "name": "python",
   "nbconvert_exporter": "python",
   "pygments_lexer": "ipython3",
   "version": "3.8.2"
  },
  "orig_nbformat": 4
 },
 "nbformat": 4,
 "nbformat_minor": 2
}
