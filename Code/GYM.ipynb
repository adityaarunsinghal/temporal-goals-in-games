{
 "cells": [
  {
   "cell_type": "code",
   "execution_count": 8,
   "metadata": {},
   "outputs": [],
   "source": [
    "# !python -m pip install mlagents==0.28.0\n",
    "# !python -m pip install gym\n",
    "# !cd \"/Users/aditya/Documents/GitHub/game_creation_research/ml-agents/gym-unity\" && pip3 install -e .\n",
    "\n",
    "import mlagents\n",
    "import numpy as np\n",
    "import json\n",
    "from mlagents_envs.environment import UnityEnvironment\n",
    "from collections import namedtuple, defaultdict\n",
    "from mlagents_envs.side_channel.engine_configuration_channel import EngineConfigurationChannel\n",
    "from gym_unity.envs import UnityToGymWrapper\n"
   ]
  },
  {
   "cell_type": "code",
   "execution_count": 11,
   "metadata": {},
   "outputs": [],
   "source": [
    "from typing import List\n",
    "\n",
    "class Obs():\n",
    "    def __init__(self, raw_obs):\n",
    "        \"\"\"\n",
    "        Converts Unity Agent outputted Vector Observation to \n",
    "        named format\n",
    "        \"\"\"\n",
    "        self.raw_obs = raw_obs\n",
    "        self.objectOrder = [\"corner\", \"bucket\", \"triangle\", \"gear\", \"crate\"]\n",
    "        self.objPos = {}\n",
    "        self.objPos[self.objectOrder[0]] = self.Vector2(raw_obs[0], raw_obs[1])\n",
    "        self.objPos[self.objectOrder[1]] = self.Vector2(raw_obs[2], raw_obs[3])\n",
    "        self.objPos[self.objectOrder[2]] = self.Vector2(raw_obs[4], raw_obs[5])\n",
    "        self.objPos[self.objectOrder[3]] = self.Vector2(raw_obs[6], raw_obs[7])\n",
    "        self.objPos[self.objectOrder[4]] = self.Vector2(raw_obs[8], raw_obs[9])\n",
    "        self.ballPos = self.Vector2(raw_obs[10], raw_obs[11])\n",
    "        self.ballVel = self.Vector2(raw_obs[12], raw_obs[13])\n",
    "        self.reset = bool(raw_obs[14])\n",
    "\n",
    "    def show(self) -> None:\n",
    "        \"\"\"\n",
    "        Pretty Print Observation\n",
    "        \"\"\"\n",
    "        for each_obj in self.objPos:\n",
    "            print(f\"{each_obj}: {self.objPos[each_obj]}\")\n",
    "        print(f\"Ball Position: {self.ballPos}\")\n",
    "        print(f\"Ball Velocity: {self.ballVel}\")\n",
    "        print(f\"In Reset?: {self.reset}\")\n",
    "    \n",
    "    def toArray(self):\n",
    "        return self.raw_obs\n",
    "\n",
    "class PlaceAndShootGym(UnityToGymWrapper):\n",
    "    def __init__(self, gym_env, reward_fn):\n",
    "        self.gym_env = gym_env\n",
    "        self.reward_fn = reward_fn\n",
    "        # unsure if this is always true\n",
    "        self.Vector2 = namedtuple('Vector2', 'x y')\n",
    "        self.velTresh = 0.001\n",
    "\n",
    "    def step(self, action):\n",
    "        \"\"\"\n",
    "        Step is defined as doing something ball has stopped\n",
    "        \"\"\"\n",
    "        obsVec = []\n",
    "        # first step\n",
    "        raw_obs, _reward, _done, info = self.gym_env.step(action)\n",
    "        obsVec.append(Obs(raw_obs))\n",
    "        # continued steps\n",
    "        while (any([abs(f)>self.velTresh for f in obsVec[-1].ballVel])):\n",
    "            raw_obs, _reward, done, info = self.gym_env.step(action)\n",
    "            obsVec.append(Obs(raw_obs))\n",
    "        reward = self.getRewards(obsVec)\n",
    "        return (obsVec[-1].toArray(), reward, done, info)\n",
    "    \n",
    "    def getRewards(self, obsVec: List[Obs]) -> float:\n",
    "        return float(self.reward_fn(obsVec))\n",
    "\n",
    "    def close(self):\n",
    "        self.gym_env.close()\n"
   ]
  },
  {
   "cell_type": "code",
   "execution_count": null,
   "metadata": {},
   "outputs": [],
   "source": [
    "def endsInBucket(obsVec: List[Obs]) -> bool:\n",
    "    \"\"\"\n",
    "    Custom Reward Fn:\n",
    "    Is that ball in bucket at the end or no?\n",
    "    \"\"\"\n",
    "    bucket_pos = obsVec[-1].objPos[\"bucket\"]\n",
    "    obsVec[-1].ballPos\n",
    "    "
   ]
  },
  {
   "cell_type": "code",
   "execution_count": 5,
   "metadata": {},
   "outputs": [
    {
     "name": "stdout",
     "output_type": "stream",
     "text": [
      "[INFO] Listening on port 5004. Start training by pressing the Play button in the Unity Editor.\n",
      "[INFO] Connected to Unity environment with package version 2.2.1-exp.1 and communication version 1.5.0\n",
      "[INFO] Connected new brain: PlaceAndShoot?team=0\n",
      "[WARNING] The environment contains multiple observations. You must define allow_multiple_obs=True to receive them all. Otherwise, only the first visual observation (or vector observation ifthere are no visual observations) will be provided in the observation.\n"
     ]
    },
    {
     "name": "stderr",
     "output_type": "stream",
     "text": [
      "/opt/anaconda3/envs/introml_conda/lib/python3.8/site-packages/gym/logger.py:34: UserWarning: \u001b[33mWARN: Box bound precision lowered by casting to float32\u001b[0m\n",
      "  warnings.warn(colorize(\"%s: %s\" % (\"WARN\", msg % args), \"yellow\"))\n"
     ]
    }
   ],
   "source": [
    "SERVER_BUILD = \"../Builds/MLAgent_View_21April22_server.app\"\n",
    "GRAPHICAL_BUILD = \"../Builds/MLAgent_View_21April22.app\"\n",
    "GYM_BUILD = \"../Builds/Gym_View_22April22.app\"\n",
    "\n",
    "# channel = EngineConfigurationChannel()\n",
    "# channel.set_configuration_parameters(time_scale = 1.0, quality_level=5)\n",
    "# unity_env = UnityEnvironment(file_name=GYM_BUILD, seed=1, side_channels=[channel], worker_id=1)\n",
    "\n",
    "unity_env = UnityEnvironment()\n",
    "\n",
    "# Start interacting with the environment.\n",
    "unity_env.reset()\n",
    "gym_env = UnityToGymWrapper(unity_env, allow_multiple_obs=False)\n",
    "env = PlaceAndShootGym(gym_env)\n"
   ]
  },
  {
   "cell_type": "code",
   "execution_count": 7,
   "metadata": {},
   "outputs": [
    {
     "name": "stdout",
     "output_type": "stream",
     "text": [
      "Vector2(x=9.352689, y=13.661685)\n",
      "Vector2(x=10.8729105, y=-5.8132052)\n",
      "Vector2(x=-5.2235017, y=-10.170062)\n",
      "Vector2(x=-5.018889, y=-13.614484)\n",
      "Vector2(x=-6.140332, y=3.2639103)\n",
      "Vector2(x=-5.899805, y=-0.70673394)\n",
      "Vector2(x=2.83435, y=-1.9715983)\n",
      "Vector2(x=2.7233236, y=-5.7371573)\n",
      "Vector2(x=1.4265316, y=0.3329459)\n",
      "Vector2(x=1.3885376, y=1.4677314)\n",
      "Vector2(x=1.3418412, y=0.04493957)\n",
      "Vector2(x=1.3008544, y=0.0)\n",
      "Vector2(x=1.2583771, y=0.0)\n",
      "Vector2(x=1.2172506, y=0.0)\n",
      "Vector2(x=1.1774685, y=0.0)\n",
      "Vector2(x=1.1389862, y=0.0)\n",
      "Vector2(x=1.101762, y=0.0)\n",
      "Vector2(x=1.0657543, y=0.0)\n",
      "Vector2(x=1.0309235, y=0.0)\n",
      "Vector2(x=0.997231, y=0.0)\n",
      "Vector2(x=-0.0012699474, y=0.0)\n",
      "Vector2(x=-0.0012283695, y=0.0)\n",
      "Vector2(x=-0.0011881532, y=0.0)\n",
      "Vector2(x=-0.0011492533, y=0.0)\n",
      "Vector2(x=-0.0011115279, y=0.0)\n",
      "Vector2(x=-0.0010751366, y=0.0)\n",
      "Vector2(x=-0.0010399367, y=0.0)\n",
      "Vector2(x=-0.0010058896, y=0.0)\n",
      "Vector2(x=-0.0009729569, y=0.0)\n"
     ]
    },
    {
     "data": {
      "text/plain": [
       "{'objPos': {'corner': Vector2(x=5.34, y=-2.65),\n",
       "  'bucket': Vector2(x=5.34, y=1.85),\n",
       "  'triangle': Vector2(x=5.34, y=-1.25),\n",
       "  'gear': Vector2(x=5.34, y=0.24),\n",
       "  'crate': Vector2(x=5.34, y=3.26)},\n",
       " 'ballPos': Vector2(x=2.683598, y=-4.603575),\n",
       " 'ballVel': Vector2(x=-0.0009729569, y=0.0),\n",
       " 'reset': False}"
      ]
     },
     "execution_count": 7,
     "metadata": {},
     "output_type": "execute_result"
    }
   ],
   "source": [
    "action = [-1.4, -1.5, 0, 0, 0, 0]\n",
    "env.step(action)"
   ]
  },
  {
   "cell_type": "code",
   "execution_count": 10,
   "metadata": {},
   "outputs": [],
   "source": [
    "env.close()"
   ]
  },
  {
   "cell_type": "code",
   "execution_count": null,
   "metadata": {},
   "outputs": [],
   "source": []
  }
 ],
 "metadata": {
  "interpreter": {
   "hash": "e9ca164c7b3bd0bb50cde96947fba4327d4d875f8b3488ae3586fafde6fb5019"
  },
  "kernelspec": {
   "display_name": "Python 3.8.2 ('introml_conda')",
   "language": "python",
   "name": "python3"
  },
  "language_info": {
   "codemirror_mode": {
    "name": "ipython",
    "version": 3
   },
   "file_extension": ".py",
   "mimetype": "text/x-python",
   "name": "python",
   "nbconvert_exporter": "python",
   "pygments_lexer": "ipython3",
   "version": "3.8.2"
  },
  "orig_nbformat": 4
 },
 "nbformat": 4,
 "nbformat_minor": 2
}
