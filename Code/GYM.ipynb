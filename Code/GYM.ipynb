{
 "cells": [
  {
   "cell_type": "code",
   "execution_count": 6,
   "metadata": {},
   "outputs": [],
   "source": [
    "# !python -m pip install mlagents==0.28.0\n",
    "# !python -m pip install gym\n",
    "# !cd \"/Users/aditya/Documents/GitHub/game_creation_research/ml-agents/gym-unity\" && pip3 install -e .\n",
    "\n",
    "import random\n",
    "from PlaceAndShootGym import *\n",
    "from mlagents_envs.environment import UnityEnvironment\n",
    "from mlagents_envs.side_channel.engine_configuration_channel import EngineConfigurationChannel\n"
   ]
  },
  {
   "cell_type": "code",
   "execution_count": 2,
   "metadata": {},
   "outputs": [],
   "source": [
    "# GAME1 = Shoot into bucket through many different gaps for variable rewards\n",
    "# GAME2 = Shoot into bucket after colliding with crate once\n",
    "# GAME3 = Shoot and land onto a platform on the top right made of corner and crate\n",
    "# GAME4 = shoot and touch as many objects before it touches the floor and playable if more than 6 points\n",
    "# GAME5 = free the ball and balance on gear until it goes into bucket (challenge scenario)"
   ]
  },
  {
   "cell_type": "code",
   "execution_count": 20,
   "metadata": {},
   "outputs": [
    {
     "name": "stdout",
     "output_type": "stream",
     "text": [
      "x_range =  0.62 0.8200000000000001\n",
      "y_range =  -0.83 -0.6299999999999999\n",
      "required_percent_of_shots_in_chosen_zone =  0.29\n"
     ]
    }
   ],
   "source": [
    "x_limit = random.randint(-100, 80)/100.0\n",
    "y_limit = random.randint(-100, 80)/100.0\n",
    "required_percentage = random.randint(0, 30)/100.0\n",
    "print(\"x_range = \", x_limit, x_limit+0.2)\n",
    "print(\"y_range = \", y_limit, y_limit+0.2)\n",
    "print(\"required_percent_of_shots_in_chosen_zone = \", required_percentage)\n",
    "\n",
    "def GAME_NULL_REWARD(obsVec: List[Obs]) -> bool:\n",
    "    \"\"\"\n",
    "    lands and rests on top of the made up platform on the corner\n",
    "    \"\"\"\n",
    "    count = 0\n",
    "    for any_obs in obsVec:\n",
    "        if x_limit<=any_obs.ballPos.x<=x_limit+0.2 and y_limit<=any_obs.ballPos.y<=y_limit+0.2:\n",
    "            count += 1\n",
    "    percentage = count/len(obsVec)\n",
    "    return percentage>required_percentage"
   ]
  },
  {
   "cell_type": "code",
   "execution_count": 4,
   "metadata": {},
   "outputs": [
    {
     "data": {
      "text/plain": [
       "{\"ban_object\": [\"crate\", \"bucket\", \"corner\", \"gear\", \"triangle\"], \"ban_mouse_position_x\": [99, 999], \"ban_mouse_position_y\": [99, 999], \"ban_object_position_x\": [99, 999], \"ban_object_position_y\": [99, 999], \"default_action\": [-0.001, 0, 0, 0, 0, 0]}"
      ]
     },
     "execution_count": 4,
     "metadata": {},
     "output_type": "execute_result"
    }
   ],
   "source": [
    "GAME_NULL_TRANSFORMER = copy.deepcopy(NO_OBJECT_INTERACTION)\n",
    "GAME_NULL_TRANSFORMER"
   ]
  },
  {
   "cell_type": "code",
   "execution_count": 5,
   "metadata": {},
   "outputs": [
    {
     "name": "stderr",
     "output_type": "stream",
     "text": [
      "E0428 18:33:49.782369000 4560469504 fork_posix.cc:76]                  Other threads are currently calling into gRPC, skipping fork() handlers\n"
     ]
    },
    {
     "name": "stdout",
     "output_type": "stream",
     "text": [
      "[INFO] Connected to Unity environment with package version 2.2.1-exp.1 and communication version 1.5.0\n",
      "[INFO] Connected new brain: PlaceAndShoot?team=0\n",
      "[WARNING] The environment contains multiple observations. You must define allow_multiple_obs=True to receive them all. Otherwise, only the first visual observation (or vector observation ifthere are no visual observations) will be provided in the observation.\n"
     ]
    },
    {
     "name": "stderr",
     "output_type": "stream",
     "text": [
      "/opt/anaconda3/envs/introml_conda/lib/python3.8/site-packages/gym/logger.py:34: UserWarning: \u001b[33mWARN: Box bound precision lowered by casting to float32\u001b[0m\n",
      "  warnings.warn(colorize(\"%s: %s\" % (\"WARN\", msg % args), \"yellow\"))\n"
     ]
    }
   ],
   "source": [
    "try:\n",
    "    env.close()\n",
    "except:\n",
    "    pass\n",
    "\n",
    "SERVER_BUILD = \"../Builds/MLAgent_View_21April22_server.app\"\n",
    "GYM_BUILD = \"../Builds/Gym_View_25April22.app\"\n",
    "\n",
    "channel = EngineConfigurationChannel()\n",
    "channel.set_configuration_parameters(time_scale=2, quality_level=0)\n",
    "unity_env = UnityEnvironment(\n",
    "    file_name=GYM_BUILD, seed=1, side_channels=[channel], worker_id=0)\n",
    "\n",
    "# unity_env = UnityEnvironment()\n",
    "\n",
    "# Start interacting with the environment.\n",
    "unity_env.reset()\n",
    "gym_env = UnityToGymWrapper(unity_env, allow_multiple_obs=False)\n",
    "env = PlaceAndShootGym(gym_env, reward_fn=GAME_NULL_REWARD,\n",
    "                       actionTransformer=GAME_NULL_TRANSFORMER,\n",
    "                       announce_actions=True)\n"
   ]
  },
  {
   "cell_type": "code",
   "execution_count": 15,
   "metadata": {},
   "outputs": [
    {
     "name": "stdout",
     "output_type": "stream",
     "text": [
      "[0, 0, 0.187, 0.63, 'gear', False]\n",
      "[0, 0, -0.73, -0.888, 'triangle', False]\n",
      "[0, 0, -0.519, 0.25, 'crate', False]\n",
      "[0, 0, -0.804, 0.897, 'triangle', False]\n",
      "[0, 0, 0, 0, None, True]\n"
     ]
    }
   ],
   "source": [
    "env.reset()\n",
    "GAME_NULL_SETUP = []\n",
    "num_objs_to_place = random.randint(0, 5)\n",
    "for each in range(num_objs_to_place):\n",
    "    GAME_NULL_SETUP.append([0, 0, random.random()*random.choice([-1, 1]), random.random()*random.choice([-1, 1]),\n",
    "                            Action.objectTagToActionVal(random.choice(objectOrder)), 0])\n",
    "GAME_NULL_SETUP.append([0, 0, 0, 0, 0, 1])\n",
    "for each in GAME_NULL_SETUP:\n",
    "    print(Action(each))\n",
    "env.setup(GAME_NULL_SETUP)"
   ]
  },
  {
   "cell_type": "code",
   "execution_count": 7,
   "metadata": {},
   "outputs": [
    {
     "name": "stdout",
     "output_type": "stream",
     "text": [
      "[0, 0, 0, 0, None, True]\n",
      "bucket: Vector2(x=-3.825, y=-4.0950003)\n",
      "corner: Vector2(x=-2.4750001, y=0.45000002)\n",
      "crate: Vector2(x=-2.4750001, y=-1.8000001)\n",
      "gear: Vector2(x=6.75, y=-0.65)\n",
      "triangle: Vector2(x=-2.4750001, y=2.7)\n",
      "Ball Position: Vector2(x=0.0, y=-3.9)\n",
      "Ball Velocity: Vector2(x=0.0, y=-0.0)\n",
      "Collided With: None\n",
      "In Reset?: True\n",
      "\n"
     ]
    }
   ],
   "source": [
    "# reset pedestal\n",
    "\n",
    "a = Action()\n",
    "a.reset = True\n",
    "print(Obs(env.step(a)[0]))\n"
   ]
  },
  {
   "cell_type": "code",
   "execution_count": 8,
   "metadata": {},
   "outputs": [
    {
     "name": "stdout",
     "output_type": "stream",
     "text": [
      "bucket: Vector2(x=-3.825, y=-4.0950003)\n",
      "corner: Vector2(x=-2.4750001, y=0.45000002)\n",
      "crate: Vector2(x=-2.4750001, y=-1.8000001)\n",
      "gear: Vector2(x=6.75, y=-0.65)\n",
      "triangle: Vector2(x=-2.4750001, y=2.7)\n",
      "Ball Position: Vector2(x=0.0, y=-3.9)\n",
      "Ball Velocity: Vector2(x=0.0, y=-0.0)\n",
      "Collided With: None\n",
      "In Reset?: True\n",
      "\n"
     ]
    }
   ],
   "source": [
    "# see exactly what just happened\n",
    "\n",
    "for each_obs in env.lastObsVec:\n",
    "    print(each_obs)\n"
   ]
  },
  {
   "cell_type": "code",
   "execution_count": 55,
   "metadata": {},
   "outputs": [
    {
     "name": "stdout",
     "output_type": "stream",
     "text": [
      "[0.9, 0.5, 0, 0, None, False]\n",
      "[0.99, -0.99, 0, 0, None, False]\n"
     ]
    },
    {
     "data": {
      "text/plain": [
       "(array([-3.825     , -4.0950003 , -2.4750001 ,  0.45000002, -2.4750001 ,\n",
       "        -1.8000001 ,  6.75      , -0.65      , -2.4750001 ,  2.7       ,\n",
       "         0.        , -3.9       ,  0.        , -0.        , -1.        ,\n",
       "         1.        ], dtype=float32),\n",
       " 0.0,\n",
       " False,\n",
       " {'step': <mlagents_envs.base_env.DecisionSteps at 0x7fb4f70684f0>})"
      ]
     },
     "execution_count": 55,
     "metadata": {},
     "output_type": "execute_result"
    }
   ],
   "source": [
    "# manual actioner\n",
    "\n",
    "action = Action()\n",
    "action.mouseX = 0.9\n",
    "action.mouseY = 0.5\n",
    "action.objX = 0\n",
    "action.objY = 0\n",
    "# action.setObject(\"crate\")\n",
    "# action.reset = True\n",
    "env.step(action)\n",
    "\n",
    "action = Action()\n",
    "action.mouseX = 0.99\n",
    "action.mouseY = -0.99\n",
    "action.objX = 0\n",
    "action.objY = 0\n",
    "# action.setObject(\"crate\")\n",
    "# action.reset = True\n",
    "env.step(action)\n"
   ]
  },
  {
   "cell_type": "code",
   "execution_count": 68,
   "metadata": {},
   "outputs": [],
   "source": [
    "env.close()"
   ]
  },
  {
   "cell_type": "code",
   "execution_count": 11,
   "metadata": {},
   "outputs": [],
   "source": [
    "# env.reset()\n"
   ]
  }
 ],
 "metadata": {
  "interpreter": {
   "hash": "e9ca164c7b3bd0bb50cde96947fba4327d4d875f8b3488ae3586fafde6fb5019"
  },
  "kernelspec": {
   "display_name": "Python 3.8.2 ('introml_conda')",
   "language": "python",
   "name": "python3"
  },
  "language_info": {
   "codemirror_mode": {
    "name": "ipython",
    "version": 3
   },
   "file_extension": ".py",
   "mimetype": "text/x-python",
   "name": "python",
   "nbconvert_exporter": "python",
   "pygments_lexer": "ipython3",
   "version": "3.8.2"
  },
  "orig_nbformat": 4
 },
 "nbformat": 4,
 "nbformat_minor": 2
}
