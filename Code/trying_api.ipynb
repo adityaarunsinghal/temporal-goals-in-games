{
 "cells": [
  {
   "cell_type": "code",
   "execution_count": 1,
   "metadata": {},
   "outputs": [
    {
     "name": "stdout",
     "output_type": "stream",
     "text": [
      "Collecting mlagents==0.28.0\n",
      "  Downloading mlagents-0.28.0-py3-none-any.whl (164 kB)\n",
      "\u001b[K     |████████████████████████████████| 164 kB 4.1 MB/s eta 0:00:01\n",
      "\u001b[?25hCollecting tensorboard>=1.15\n",
      "  Downloading tensorboard-2.8.0-py3-none-any.whl (5.8 MB)\n",
      "\u001b[K     |████████████████████████████████| 5.8 MB 6.5 MB/s eta 0:00:01\n",
      "\u001b[?25hCollecting grpcio>=1.11.0\n",
      "  Downloading grpcio-1.44.0-cp38-cp38-macosx_10_10_x86_64.whl (4.3 MB)\n",
      "\u001b[K     |████████████████████████████████| 4.3 MB 14.0 MB/s eta 0:00:01     |█▌                              | 204 kB 14.0 MB/s eta 0:00:01     |███████████████████████         | 3.1 MB 14.0 MB/s eta 0:00:01\n",
      "\u001b[?25hCollecting torch<1.9.0,>=1.6.0\n",
      "  Using cached torch-1.8.1-cp38-none-macosx_10_9_x86_64.whl (119.6 MB)\n",
      "Collecting cattrs<1.7,>=1.1.0\n",
      "  Downloading cattrs-1.5.0-py3-none-any.whl (19 kB)\n",
      "Collecting h5py>=2.9.0\n",
      "  Downloading h5py-3.6.0-cp38-cp38-macosx_10_9_x86_64.whl (3.1 MB)\n",
      "\u001b[K     |████████████████████████████████| 3.1 MB 5.3 MB/s eta 0:00:01\n",
      "\u001b[?25hRequirement already satisfied: pyyaml>=3.1.0 in /opt/anaconda3/envs/introml_conda/lib/python3.8/site-packages (from mlagents==0.28.0) (6.0)\n",
      "Requirement already satisfied: numpy<2.0,>=1.13.3 in /opt/anaconda3/envs/introml_conda/lib/python3.8/site-packages (from mlagents==0.28.0) (1.20.3)\n",
      "Collecting mlagents-envs==0.28.0\n",
      "  Downloading mlagents_envs-0.28.0-py3-none-any.whl (77 kB)\n",
      "\u001b[K     |████████████████████████████████| 77 kB 7.5 MB/s  eta 0:00:01\n",
      "\u001b[?25hCollecting attrs>=19.3.0\n",
      "  Downloading attrs-21.4.0-py2.py3-none-any.whl (60 kB)\n",
      "\u001b[K     |████████████████████████████████| 60 kB 7.2 MB/s eta 0:00:011\n",
      "\u001b[?25hCollecting protobuf>=3.6\n",
      "  Downloading protobuf-3.20.0-cp38-cp38-macosx_10_9_x86_64.whl (962 kB)\n",
      "\u001b[K     |████████████████████████████████| 962 kB 10.5 MB/s eta 0:00:01\n",
      "\u001b[?25hRequirement already satisfied: Pillow>=4.2.1 in /opt/anaconda3/envs/introml_conda/lib/python3.8/site-packages (from mlagents==0.28.0) (8.3.1)\n",
      "Requirement already satisfied: cloudpickle in /opt/anaconda3/envs/introml_conda/lib/python3.8/site-packages (from mlagents-envs==0.28.0->mlagents==0.28.0) (1.6.0)\n",
      "Requirement already satisfied: six>=1.5.2 in /opt/anaconda3/envs/introml_conda/lib/python3.8/site-packages (from grpcio>=1.11.0->mlagents==0.28.0) (1.16.0)\n",
      "Requirement already satisfied: setuptools>=41.0.0 in /opt/anaconda3/envs/introml_conda/lib/python3.8/site-packages (from tensorboard>=1.15->mlagents==0.28.0) (58.0.4)\n",
      "Collecting tensorboard-plugin-wit>=1.6.0\n",
      "  Downloading tensorboard_plugin_wit-1.8.1-py3-none-any.whl (781 kB)\n",
      "\u001b[K     |████████████████████████████████| 781 kB 8.6 MB/s eta 0:00:01\n",
      "\u001b[?25hCollecting absl-py>=0.4\n",
      "  Downloading absl_py-1.0.0-py3-none-any.whl (126 kB)\n",
      "\u001b[K     |████████████████████████████████| 126 kB 9.4 MB/s eta 0:00:01\n",
      "\u001b[?25hRequirement already satisfied: werkzeug>=0.11.15 in /opt/anaconda3/envs/introml_conda/lib/python3.8/site-packages (from tensorboard>=1.15->mlagents==0.28.0) (2.0.3)\n",
      "Collecting markdown>=2.6.8\n",
      "  Downloading Markdown-3.3.6-py3-none-any.whl (97 kB)\n",
      "\u001b[K     |████████████████████████████████| 97 kB 9.5 MB/s  eta 0:00:01\n",
      "\u001b[?25hCollecting google-auth<3,>=1.6.3\n",
      "  Downloading google_auth-2.6.3-py2.py3-none-any.whl (156 kB)\n",
      "\u001b[K     |████████████████████████████████| 156 kB 11.8 MB/s eta 0:00:01\n",
      "\u001b[?25hRequirement already satisfied: requests<3,>=2.21.0 in /opt/anaconda3/envs/introml_conda/lib/python3.8/site-packages (from tensorboard>=1.15->mlagents==0.28.0) (2.27.1)\n",
      "Requirement already satisfied: wheel>=0.26 in /opt/anaconda3/envs/introml_conda/lib/python3.8/site-packages (from tensorboard>=1.15->mlagents==0.28.0) (0.37.0)\n",
      "Collecting google-auth-oauthlib<0.5,>=0.4.1\n",
      "  Downloading google_auth_oauthlib-0.4.6-py2.py3-none-any.whl (18 kB)\n",
      "Collecting tensorboard-data-server<0.7.0,>=0.6.0\n",
      "  Downloading tensorboard_data_server-0.6.1-py3-none-macosx_10_9_x86_64.whl (3.5 MB)\n",
      "\u001b[K     |████████████████████████████████| 3.5 MB 2.0 MB/s eta 0:00:01     |███████████                     | 1.2 MB 9.2 MB/s eta 0:00:01\n",
      "\u001b[?25hCollecting cachetools<6.0,>=2.0.0\n",
      "  Downloading cachetools-5.0.0-py3-none-any.whl (9.1 kB)\n",
      "Collecting rsa<5,>=3.1.4\n",
      "  Downloading rsa-4.8-py3-none-any.whl (39 kB)\n",
      "Collecting pyasn1-modules>=0.2.1\n",
      "  Using cached pyasn1_modules-0.2.8-py2.py3-none-any.whl (155 kB)\n",
      "Collecting requests-oauthlib>=0.7.0\n",
      "  Downloading requests_oauthlib-1.3.1-py2.py3-none-any.whl (23 kB)\n",
      "Requirement already satisfied: importlib-metadata>=4.4 in /opt/anaconda3/envs/introml_conda/lib/python3.8/site-packages (from markdown>=2.6.8->tensorboard>=1.15->mlagents==0.28.0) (4.11.3)\n",
      "Requirement already satisfied: zipp>=0.5 in /opt/anaconda3/envs/introml_conda/lib/python3.8/site-packages (from importlib-metadata>=4.4->markdown>=2.6.8->tensorboard>=1.15->mlagents==0.28.0) (3.8.0)\n",
      "Collecting pyasn1<0.5.0,>=0.4.6\n",
      "  Using cached pyasn1-0.4.8-py2.py3-none-any.whl (77 kB)\n",
      "Requirement already satisfied: urllib3<1.27,>=1.21.1 in /opt/anaconda3/envs/introml_conda/lib/python3.8/site-packages (from requests<3,>=2.21.0->tensorboard>=1.15->mlagents==0.28.0) (1.26.8)\n",
      "Requirement already satisfied: certifi>=2017.4.17 in /opt/anaconda3/envs/introml_conda/lib/python3.8/site-packages (from requests<3,>=2.21.0->tensorboard>=1.15->mlagents==0.28.0) (2021.10.8)\n",
      "Requirement already satisfied: charset-normalizer~=2.0.0 in /opt/anaconda3/envs/introml_conda/lib/python3.8/site-packages (from requests<3,>=2.21.0->tensorboard>=1.15->mlagents==0.28.0) (2.0.7)\n",
      "Requirement already satisfied: idna<4,>=2.5 in /opt/anaconda3/envs/introml_conda/lib/python3.8/site-packages (from requests<3,>=2.21.0->tensorboard>=1.15->mlagents==0.28.0) (3.3)\n",
      "Collecting oauthlib>=3.0.0\n",
      "  Downloading oauthlib-3.2.0-py3-none-any.whl (151 kB)\n",
      "\u001b[K     |████████████████████████████████| 151 kB 4.8 MB/s eta 0:00:01\n",
      "\u001b[?25hRequirement already satisfied: typing-extensions in /opt/anaconda3/envs/introml_conda/lib/python3.8/site-packages (from torch<1.9.0,>=1.6.0->mlagents==0.28.0) (3.10.0.2)\n",
      "Installing collected packages: pyasn1, rsa, pyasn1-modules, oauthlib, cachetools, requests-oauthlib, google-auth, tensorboard-plugin-wit, tensorboard-data-server, protobuf, markdown, grpcio, google-auth-oauthlib, attrs, absl-py, torch, tensorboard, mlagents-envs, h5py, cattrs, mlagents\n",
      "  Attempting uninstall: torch\n",
      "    Found existing installation: torch 1.10.0\n",
      "    Uninstalling torch-1.10.0:\n",
      "      Successfully uninstalled torch-1.10.0\n",
      "\u001b[31mERROR: pip's dependency resolver does not currently take into account all the packages that are installed. This behaviour is the source of the following dependency conflicts.\n",
      "torchvision 0.11.1 requires torch==1.10.0, but you have torch 1.8.1 which is incompatible.\u001b[0m\n",
      "Successfully installed absl-py-1.0.0 attrs-21.4.0 cachetools-5.0.0 cattrs-1.5.0 google-auth-2.6.3 google-auth-oauthlib-0.4.6 grpcio-1.44.0 h5py-3.6.0 markdown-3.3.6 mlagents-0.28.0 mlagents-envs-0.28.0 oauthlib-3.2.0 protobuf-3.20.0 pyasn1-0.4.8 pyasn1-modules-0.2.8 requests-oauthlib-1.3.1 rsa-4.8 tensorboard-2.8.0 tensorboard-data-server-0.6.1 tensorboard-plugin-wit-1.8.1 torch-1.8.1\n"
     ]
    }
   ],
   "source": [
    "!python -m pip install mlagents==0.28.0"
   ]
  },
  {
   "cell_type": "code",
   "execution_count": null,
   "metadata": {},
   "outputs": [],
   "source": []
  }
 ],
 "metadata": {
  "interpreter": {
   "hash": "e9ca164c7b3bd0bb50cde96947fba4327d4d875f8b3488ae3586fafde6fb5019"
  },
  "kernelspec": {
   "display_name": "Python 3.8.2 ('introml_conda')",
   "language": "python",
   "name": "python3"
  },
  "language_info": {
   "codemirror_mode": {
    "name": "ipython",
    "version": 3
   },
   "file_extension": ".py",
   "mimetype": "text/x-python",
   "name": "python",
   "nbconvert_exporter": "python",
   "pygments_lexer": "ipython3",
   "version": "3.8.2"
  },
  "orig_nbformat": 4
 },
 "nbformat": 4,
 "nbformat_minor": 2
}
