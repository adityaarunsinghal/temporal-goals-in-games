{
 "cells": [
  {
   "cell_type": "code",
   "execution_count": 1,
   "metadata": {},
   "outputs": [],
   "source": [
    "# !python -m pip install mlagents==0.28.0\n",
    "import mlagents"
   ]
  },
  {
   "cell_type": "code",
   "execution_count": 3,
   "metadata": {},
   "outputs": [
    {
     "name": "stdout",
     "output_type": "stream",
     "text": [
      "\n",
      "            ┐  ╖\n",
      "        ╓╖╬│╡  ││╬╖╖\n",
      "    ╓╖╬│││││┘  ╬│││││╬╖\n",
      " ╖╬│││││╬╜        ╙╬│││││╖╖                               ╗╗╗\n",
      " ╬╬╬╬╖││╦╖        ╖╬││╗╣╣╣╬      ╟╣╣╬    ╟╣╣╣             ╜╜╜  ╟╣╣\n",
      " ╬╬╬╬╬╬╬╬╖│╬╖╖╓╬╪│╓╣╣╣╣╣╣╣╬      ╟╣╣╬    ╟╣╣╣ ╒╣╣╖╗╣╣╣╗   ╣╣╣ ╣╣╣╣╣╣ ╟╣╣╖   ╣╣╣\n",
      " ╬╬╬╬┐  ╙╬╬╬╬│╓╣╣╣╝╜  ╫╣╣╣╬      ╟╣╣╬    ╟╣╣╣ ╟╣╣╣╙ ╙╣╣╣  ╣╣╣ ╙╟╣╣╜╙  ╫╣╣  ╟╣╣\n",
      " ╬╬╬╬┐     ╙╬╬╣╣      ╫╣╣╣╬      ╟╣╣╬    ╟╣╣╣ ╟╣╣╬   ╣╣╣  ╣╣╣  ╟╣╣     ╣╣╣┌╣╣╜\n",
      " ╬╬╬╜       ╬╬╣╣      ╙╝╣╣╬      ╙╣╣╣╗╖╓╗╣╣╣╜ ╟╣╣╬   ╣╣╣  ╣╣╣  ╟╣╣╦╓    ╣╣╣╣╣\n",
      " ╙   ╓╦╖    ╬╬╣╣   ╓╗╗╖            ╙╝╣╣╣╣╝╜   ╘╝╝╜   ╝╝╝  ╝╝╝   ╙╣╣╣    ╟╣╣╣\n",
      "   ╩╬╬╬╬╬╬╦╦╬╬╣╣╗╣╣╣╣╣╣╣╝                                             ╫╣╣╣╣\n",
      "      ╙╬╬╬╬╬╬╬╣╣╣╣╣╣╝╜\n",
      "          ╙╬╬╬╣╣╣╜\n",
      "             ╙\n",
      "        \n",
      " Version information:\n",
      "  ml-agents: 0.28.0,\n",
      "  ml-agents-envs: 0.28.0,\n",
      "  Communicator API: 1.5.0,\n",
      "  PyTorch: 1.8.1\n",
      "[INFO] Listening on port 5004. Start training by pressing the Play button in the Unity Editor.\n",
      "Traceback (most recent call last):\n",
      "  File \"/opt/anaconda3/envs/introml_conda/bin/mlagents-learn\", line 8, in <module>\n",
      "    sys.exit(main())\n",
      "  File \"/opt/anaconda3/envs/introml_conda/lib/python3.8/site-packages/mlagents/trainers/learn.py\", line 260, in main\n",
      "    run_cli(parse_command_line())\n",
      "  File \"/opt/anaconda3/envs/introml_conda/lib/python3.8/site-packages/mlagents/trainers/learn.py\", line 256, in run_cli\n",
      "    run_training(run_seed, options, num_areas)\n",
      "  File \"/opt/anaconda3/envs/introml_conda/lib/python3.8/site-packages/mlagents/trainers/learn.py\", line 132, in run_training\n",
      "    tc.start_learning(env_manager)\n",
      "  File \"/opt/anaconda3/envs/introml_conda/lib/python3.8/site-packages/mlagents_envs/timers.py\", line 305, in wrapped\n",
      "    return func(*args, **kwargs)\n",
      "  File \"/opt/anaconda3/envs/introml_conda/lib/python3.8/site-packages/mlagents/trainers/trainer_controller.py\", line 173, in start_learning\n",
      "    self._reset_env(env_manager)\n",
      "  File \"/opt/anaconda3/envs/introml_conda/lib/python3.8/site-packages/mlagents_envs/timers.py\", line 305, in wrapped\n",
      "    return func(*args, **kwargs)\n",
      "  File \"/opt/anaconda3/envs/introml_conda/lib/python3.8/site-packages/mlagents/trainers/trainer_controller.py\", line 105, in _reset_env\n",
      "    env_manager.reset(config=new_config)\n",
      "  File \"/opt/anaconda3/envs/introml_conda/lib/python3.8/site-packages/mlagents/trainers/env_manager.py\", line 68, in reset\n",
      "    self.first_step_infos = self._reset_env(config)\n",
      "  File \"/opt/anaconda3/envs/introml_conda/lib/python3.8/site-packages/mlagents/trainers/subprocess_env_manager.py\", line 446, in _reset_env\n",
      "    ew.previous_step = EnvironmentStep(ew.recv().payload, ew.worker_id, {}, {})\n",
      "  File \"/opt/anaconda3/envs/introml_conda/lib/python3.8/site-packages/mlagents/trainers/subprocess_env_manager.py\", line 101, in recv\n",
      "    raise env_exception\n",
      "mlagents_envs.exception.UnityTimeOutException: The Unity environment took too long to respond. Make sure that :\n",
      "\t The environment does not need user interaction to launch\n",
      "\t The Agents' Behavior Parameters > Behavior Type is set to \"Default\"\n",
      "\t The environment and the Python interface have compatible versions.\n",
      "\t If you're running on a headless server without graphics support, turn off display by either passing --no-graphics option or build your Unity executable as server build.\n"
     ]
    }
   ],
   "source": [
    "!mlagents-learn --force"
   ]
  },
  {
   "cell_type": "code",
   "execution_count": null,
   "metadata": {},
   "outputs": [],
   "source": []
  }
 ],
 "metadata": {
  "interpreter": {
   "hash": "e9ca164c7b3bd0bb50cde96947fba4327d4d875f8b3488ae3586fafde6fb5019"
  },
  "kernelspec": {
   "display_name": "Python 3.8.2 ('introml_conda')",
   "language": "python",
   "name": "python3"
  },
  "language_info": {
   "codemirror_mode": {
    "name": "ipython",
    "version": 3
   },
   "file_extension": ".py",
   "mimetype": "text/x-python",
   "name": "python",
   "nbconvert_exporter": "python",
   "pygments_lexer": "ipython3",
   "version": "3.8.2"
  },
  "orig_nbformat": 4
 },
 "nbformat": 4,
 "nbformat_minor": 2
}
